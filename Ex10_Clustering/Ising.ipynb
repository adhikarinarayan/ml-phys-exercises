{
 "cells": [
  {
   "cell_type": "markdown",
   "id": "27b0a8cd-9627-4367-b1c4-573c6c5b02ba",
   "metadata": {
    "deletable": false,
    "editable": false,
    "nbgrader": {
     "cell_type": "markdown",
     "checksum": "0a17c10969d4afa3cd3ffdd663d1715a",
     "grade": false,
     "grade_id": "cell-6727d53e02c4182c",
     "locked": true,
     "schema_version": 3,
     "solution": false,
     "task": false
    }
   },
   "source": [
    "Exercise 10: Phase transitions in the Ising Model\n",
    "=================================================\n",
    "<img src=\"ising.png\" style=\"max-width:30%; float:right; padding-left:30pt\">\n",
    "\n",
    "The [Ising model] is perhaps the most important model in all of solid state physics, certainly\n",
    "one of the most significant from a historical perspective.  This is because it is a simple\n",
    "microscopic, atomistic model from which a (macroscopic) magnetic phase transition can be shown to *emerge*,\n",
    "finally laying to rest a debate over whether statistical mechanics works and even whether atoms are real that continued well into the twentieth century.\n",
    "\n",
    "The idea is the following: consider a $N\\times N$ square grid of atoms (we will take $N = 40$).  The atom at each position $(i,j)$ is fixed in place, but is endowed with a **spin** $\\sigma_{i,j}$ which can either be $+1$ or $-1$ (pointing up or down) at any given moment.  One such configuration can be seen on the right: the top-left spin $\\sigma_{1,1}=1$, the one two columns to the right $\\sigma_{1,3}= -1$, and so forth.  The potential energy $U$ encoded in each configuration is given by:\n",
    "\n",
    "$$\n",
    "   U = -\\sum_{i,j} \\big[ \\sigma_{i,j} \\sigma_{i,j+1} + \\sigma_{i,j} \\sigma_{i+1,j} \\big],\n",
    "$$\n",
    "\n",
    "in other words, we have a positive contribution to the potential energy $\\Delta U = 1$ whenever two neighbouring  spins are opposite to each other and a negative energy contribution $\\Delta U = -1$ whenever two neighbouring spins are aligned.  Competing with the systems desire to lower its potential energy is temperature $T$, which introduces kinetic energy by randomly flipping spins.\n",
    "\n",
    "We want to explore this competiton between kinetic and potential energy.  For this, I  have prepared a set of $N$ snapshots of the spins $\\sigma^{(n)}_{i,j}$ taken at different times, stored in the $N\\times L \\times L$ tensor `spins`, together with their respective temperatures $T_n$, stored in a vector `temp`.\n",
    "\n",
    "Each of these observations may belong to a \"phase\" $y_n$ of the material, which is unknown to us.  However, we suspect that similar phases have similar properties.  The idea is find different these without any knowledge of the phases themselves by using k-means clustering.\n",
    "\n",
    "[Ising model]: https://en.wikipedia.org/wiki/Ising_model"
   ]
  },
  {
   "cell_type": "code",
   "execution_count": null,
   "id": "63b7cd5b-248a-47aa-9c2d-da6c9874812a",
   "metadata": {},
   "outputs": [],
   "source": [
    "import os\n",
    "import numpy as np\n",
    "import matplotlib.pyplot as pl"
   ]
  },
  {
   "cell_type": "code",
   "execution_count": null,
   "id": "7b152e93-4cfc-4ded-ba7d-a60decfc4fbc",
   "metadata": {},
   "outputs": [],
   "source": [
    "# Load the dataset from a binary file\n",
    "with np.load(\"../shared/ising.npz\") as _datafile:\n",
    "    spins = _datafile[\"spins\"]\n",
    "    temp = _datafile[\"temp\"]"
   ]
  },
  {
   "cell_type": "code",
   "execution_count": null,
   "id": "f2904e7e-7c80-4f49-91c2-d96d7d21f77f",
   "metadata": {},
   "outputs": [],
   "source": []
  },
  {
   "cell_type": "markdown",
   "id": "f3f45b74-e7a1-44aa-b4c0-dbc204c79502",
   "metadata": {
    "deletable": false,
    "editable": false,
    "nbgrader": {
     "cell_type": "markdown",
     "checksum": "da2a2146bd131c3bf82cf58a690aa48a",
     "grade": false,
     "grade_id": "cell-3490d91b98f9b040",
     "locked": true,
     "schema_version": 3,
     "solution": false,
     "task": false
    }
   },
   "source": [
    "Let us first make a warm-up plot: make a false-color plot of the $n=140,000$'th spin configuration\n",
    "similar to the figure above, where you use one color to denote spin-down ($\\sigma_{ij}=-1$)\n",
    "and another color to denote spin-up ($\\sigma_{ij}=1$)."
   ]
  },
  {
   "cell_type": "code",
   "execution_count": null,
   "id": "6fd6f7c5-846c-4033-bba8-cb8603ce31d2",
   "metadata": {
    "deletable": false,
    "nbgrader": {
     "cell_type": "code",
     "checksum": "3825bef58ec3c6ef50a270bd7eadf2f9",
     "grade": true,
     "grade_id": "cell-46f5abb99e04f564",
     "locked": false,
     "points": 1,
     "schema_version": 3,
     "solution": true,
     "task": false
    }
   },
   "outputs": [],
   "source": [
    "# YOUR CODE HERE\n",
    "raise NotImplementedError()"
   ]
  },
  {
   "cell_type": "code",
   "execution_count": null,
   "id": "720ab545-61eb-493c-9b51-ab2aed700ed3",
   "metadata": {},
   "outputs": [],
   "source": []
  },
  {
   "cell_type": "code",
   "execution_count": null,
   "id": "f24c8699-b9cb-4d31-adff-6a9c570bb420",
   "metadata": {},
   "outputs": [],
   "source": []
  },
  {
   "cell_type": "markdown",
   "id": "3906a1a7-8a6c-4394-85ad-1f9040cd16b6",
   "metadata": {
    "deletable": false,
    "editable": false,
    "nbgrader": {
     "cell_type": "markdown",
     "checksum": "527b0adb95930da9c5238a5f9f1d2ca5",
     "grade": false,
     "grade_id": "cell-b812a83ccc05e904",
     "locked": true,
     "schema_version": 3,
     "solution": false,
     "task": false
    }
   },
   "source": [
    "Step 1: Compute observables\n",
    "---------------------------\n",
    "Clustering in high dimensions (which is what we would do if we work with the spin array directly) is\n",
    "difficult to perform and also visualize.  Therefore we are going to reduce each configuration ($s^{(n)}_{i,j}$\n",
    "for a fixed $n$) to just two observables: the **magnetization** $m$, which we will store in `magn`, and the\n",
    "**staggered magnetization** $m'$, which we will store in `smagn`.\n",
    "\n",
    "The definitions are:\n",
    "$$\n",
    "    m_n = \\frac 1{L^2} \\sum_{i,j} \\sigma^{(n)}_{i,j}\n",
    "$$\n",
    "$$\n",
    "    m'_n = \\frac 1{L^2} \\sum_{i,j} (-1)^{i+j} \\sigma^{(n)}_{i,j}\n",
    "$$\n",
    "\n",
    "Compute the two numpy vectors `magn` and `smagn` according to above formula"
   ]
  },
  {
   "cell_type": "code",
   "execution_count": null,
   "id": "33419b7f-3060-4b76-a603-0dd5b6d0b2b4",
   "metadata": {
    "deletable": false,
    "nbgrader": {
     "cell_type": "code",
     "checksum": "8680fb81456ed9ccebfcc869972f4e2c",
     "grade": false,
     "grade_id": "cell-e7eb900b0043e8f8",
     "locked": false,
     "schema_version": 3,
     "solution": true,
     "task": false
    }
   },
   "outputs": [],
   "source": [
    "#magn = ???\n",
    "#smagn = ???\n",
    "\n",
    "# YOUR CODE HERE\n",
    "raise NotImplementedError()"
   ]
  },
  {
   "cell_type": "code",
   "execution_count": null,
   "id": "ae555d9d-3eec-4cc6-923e-666ef841cd44",
   "metadata": {},
   "outputs": [],
   "source": []
  },
  {
   "cell_type": "code",
   "execution_count": null,
   "id": "3bee0171-4b7a-477d-948c-dbd96901ba2c",
   "metadata": {
    "deletable": false,
    "editable": false,
    "nbgrader": {
     "cell_type": "code",
     "checksum": "d7c7b0f10542815c898116bca0142ef4",
     "grade": true,
     "grade_id": "cell-f924b10e094d4a1b",
     "locked": true,
     "points": 2,
     "schema_version": 3,
     "solution": false,
     "task": false
    }
   },
   "outputs": [],
   "source": [
    "assert (magn, smagn) is not None\n",
    "assert magn.shape == smagn.shape == (160_000,)\n",
    "assert np.all(np.abs(magn) <= 1)\n",
    "assert np.all(np.abs(smagn) <= 1)\n",
    "\n",
    "np.testing.assert_allclose(magn.sum(), 191.63875, rtol=1e-4)\n",
    "np.testing.assert_allclose(smagn.sum(), 5.68875, rtol=1e-4)"
   ]
  },
  {
   "cell_type": "markdown",
   "id": "0fdab5f5-9b7e-4952-8a2a-e48726d9a9a9",
   "metadata": {
    "deletable": false,
    "editable": false,
    "nbgrader": {
     "cell_type": "markdown",
     "checksum": "7347c373b7c12757e3bf2e273267329f",
     "grade": false,
     "grade_id": "cell-b2e1ca6da7e791c3",
     "locked": true,
     "schema_version": 3,
     "solution": false,
     "task": false
    }
   },
   "source": [
    "Now, perform a scatter plot, where each point is one observation, the $x$-axis corresponds to the magnetization of that observation, the $y$ axis corresponds to the staggered magnetization of the observation and the color corresponds to the temperature.  Also add a colorbar\n",
    "\n",
    "Choose a small marker size (`s` argument), otherwise you not see much in the plot"
   ]
  },
  {
   "cell_type": "code",
   "execution_count": null,
   "id": "8dc52dee-6686-49db-961f-9d777745b4e2",
   "metadata": {
    "deletable": false,
    "nbgrader": {
     "cell_type": "code",
     "checksum": "5e52779329bb8cfdd5ac3136a8d81a16",
     "grade": true,
     "grade_id": "cell-7e31cd8358383684",
     "locked": false,
     "points": 1,
     "schema_version": 3,
     "solution": true,
     "task": false
    }
   },
   "outputs": [],
   "source": [
    "# YOUR CODE HERE\n",
    "raise NotImplementedError()"
   ]
  },
  {
   "cell_type": "code",
   "execution_count": null,
   "id": "53b381f0-ac81-4106-98ff-ddfea6ebf54b",
   "metadata": {},
   "outputs": [],
   "source": []
  },
  {
   "cell_type": "markdown",
   "id": "1a8cb0ff-39f4-4516-a538-569e391a8b4a",
   "metadata": {
    "deletable": false,
    "editable": false,
    "nbgrader": {
     "cell_type": "markdown",
     "checksum": "aaa267e7250986a429e89849aca8af3b",
     "grade": false,
     "grade_id": "cell-3e425303d8998d9a",
     "locked": true,
     "schema_version": 3,
     "solution": false,
     "task": false
    }
   },
   "source": [
    "Step 2:  Clustering, first round\n",
    "--------------------------------\n",
    "Your plot above should suggest to use three clusters.\n",
    "\n",
    "Perform a cluster analysis using the `sklearn.cluster.KMeans` clustering\n",
    "algorithm.  For this, first collect `magn` and `smagn` as columns of a `N x 2` design matrix\n",
    "`X` and then run the fitting."
   ]
  },
  {
   "cell_type": "code",
   "execution_count": null,
   "id": "f1f14779-7dec-4b87-a44d-aabf4b88e5e2",
   "metadata": {},
   "outputs": [],
   "source": [
    "import sklearn.cluster"
   ]
  },
  {
   "cell_type": "code",
   "execution_count": null,
   "id": "01569a8b-1b5f-476c-a6e7-52349231da6e",
   "metadata": {
    "deletable": false,
    "nbgrader": {
     "cell_type": "code",
     "checksum": "95709b1a312e0b8d71b95d9e066ab014",
     "grade": true,
     "grade_id": "cell-b16c9992f865207a",
     "locked": false,
     "points": 1,
     "schema_version": 3,
     "solution": true,
     "task": false
    }
   },
   "outputs": [],
   "source": [
    "# YOUR CODE HERE\n",
    "raise NotImplementedError()"
   ]
  },
  {
   "cell_type": "code",
   "execution_count": null,
   "id": "d4be14c4-6c0f-4886-9b8c-097317eaf328",
   "metadata": {},
   "outputs": [],
   "source": []
  },
  {
   "cell_type": "markdown",
   "id": "93a018fb-f716-45f8-942f-4e734c391b2c",
   "metadata": {},
   "source": [
    "Now, repeat the scatter plot from above, but instead of temperature, plot each point together in\n",
    "different colors depending on their cluster label."
   ]
  },
  {
   "cell_type": "code",
   "execution_count": null,
   "id": "0c5ead8b-e624-4e20-b459-4e2ca7b1928a",
   "metadata": {
    "deletable": false,
    "nbgrader": {
     "cell_type": "code",
     "checksum": "b81cd799d7c7b172f5fb6fd477c2c190",
     "grade": true,
     "grade_id": "cell-c171188788ca2568",
     "locked": false,
     "points": 1,
     "schema_version": 3,
     "solution": true,
     "task": false
    }
   },
   "outputs": [],
   "source": [
    "# YOUR CODE HERE\n",
    "raise NotImplementedError()"
   ]
  },
  {
   "cell_type": "code",
   "execution_count": null,
   "id": "ded38609-4c47-469b-8992-3b40cf0844dd",
   "metadata": {},
   "outputs": [],
   "source": []
  },
  {
   "cell_type": "markdown",
   "id": "3892274e-5258-41d6-8994-9dce952d7cb6",
   "metadata": {
    "deletable": false,
    "editable": false,
    "nbgrader": {
     "cell_type": "markdown",
     "checksum": "6a3d7cf3c1a9fed3e9aaf7feb6854efd",
     "grade": false,
     "grade_id": "cell-12f189fd8d05d661",
     "locked": true,
     "schema_version": 3,
     "solution": false,
     "task": false
    }
   },
   "source": [
    "Let us get a feeling for the kind of configurations in each of the clusters:\n",
    "for each cluster, pick two configurations at random and make a false color\n",
    "plot for them.  You should therefore end up with a 3 x 2 matrix of plots,\n",
    "where the columns correspond to the different clusters and rows are the\n",
    "different configurations\n",
    "\n",
    "**Note**: if all the spins are +1 or -1, then the colorbar gets confused,\n",
    "since there is only one value.  You can pass  `(..., vmin=-1, vmax=1)` arguments\n",
    "to false color plots to combat this."
   ]
  },
  {
   "cell_type": "code",
   "execution_count": null,
   "id": "9859f595-7ec1-4753-9cb1-248f0ee70434",
   "metadata": {
    "deletable": false,
    "nbgrader": {
     "cell_type": "code",
     "checksum": "70e273a569fd58b911e27103b6e4a26a",
     "grade": true,
     "grade_id": "cell-f40330200e55e596",
     "locked": false,
     "points": 2,
     "schema_version": 3,
     "solution": true,
     "task": false
    }
   },
   "outputs": [],
   "source": [
    "# YOUR CODE HERE\n",
    "raise NotImplementedError()"
   ]
  },
  {
   "cell_type": "code",
   "execution_count": null,
   "id": "f0cc41c1-a720-4e9e-9ebe-6a2903dc4d76",
   "metadata": {},
   "outputs": [],
   "source": []
  },
  {
   "cell_type": "markdown",
   "id": "0ac3839f-164d-46a0-aa4a-e633f57182c9",
   "metadata": {
    "deletable": false,
    "nbgrader": {
     "cell_type": "markdown",
     "checksum": "9e5b57fca2bbf1a5ea362f7b346cc29b",
     "grade": true,
     "grade_id": "cell-d2d38214803bdab4",
     "locked": false,
     "points": 3,
     "schema_version": 3,
     "solution": true,
     "task": false
    }
   },
   "source": [
    "YOUR ANSWER HERE"
   ]
  },
  {
   "cell_type": "markdown",
   "id": "fd595709-1dd1-4e62-a5e0-798837ffb7be",
   "metadata": {},
   "source": [
    "YOUR ANSWER HERE"
   ]
  },
  {
   "cell_type": "code",
   "execution_count": null,
   "id": "6b03524f-12dd-4fe0-9823-84c91e4a379d",
   "metadata": {},
   "outputs": [],
   "source": []
  },
  {
   "cell_type": "markdown",
   "id": "002b051b-d7f6-488c-ac9e-96b0df448e5e",
   "metadata": {
    "deletable": false,
    "editable": false,
    "nbgrader": {
     "cell_type": "markdown",
     "checksum": "a1a003ecb0179a868ab4aae502ad6666",
     "grade": false,
     "grade_id": "cell-a9e7b4f085cf75bc",
     "locked": true,
     "schema_version": 3,
     "solution": false,
     "task": false
    }
   },
   "source": [
    "Step 3: Clustering, second round\n",
    "--------------------------------\n",
    "We would like to take the symmetry of our system into account.  Therefore,\n",
    "instead of the (staggered) magnetization, we are using the **absolute**\n",
    "values of each of these quantities.\n",
    "\n",
    "Replace `magn` and `smagn` with a vector of their absolute values and\n",
    "redo the scatter plot over temperature."
   ]
  },
  {
   "cell_type": "code",
   "execution_count": null,
   "id": "d11ed569-66c3-4894-96e9-69e510e11c5e",
   "metadata": {
    "deletable": false,
    "nbgrader": {
     "cell_type": "code",
     "checksum": "3d0ff5395a8b20d755087747b1276076",
     "grade": true,
     "grade_id": "cell-4dd2d0739a26b92b",
     "locked": false,
     "points": 1,
     "schema_version": 3,
     "solution": true,
     "task": false
    }
   },
   "outputs": [],
   "source": [
    "# YOUR CODE HERE\n",
    "raise NotImplementedError()"
   ]
  },
  {
   "cell_type": "code",
   "execution_count": null,
   "id": "d1127fea-6189-4ddb-96ad-678edb3307b0",
   "metadata": {},
   "outputs": [],
   "source": []
  },
  {
   "cell_type": "markdown",
   "id": "c2e7fc1a-2a28-46b9-adc2-d44b4627931f",
   "metadata": {
    "deletable": false,
    "editable": false,
    "nbgrader": {
     "cell_type": "markdown",
     "checksum": "3bd5ec980842bc675a7b159907b936bb",
     "grade": false,
     "grade_id": "cell-b44b51de1c13199d",
     "locked": true,
     "schema_version": 3,
     "solution": false,
     "task": false
    }
   },
   "source": [
    "Now, redo the cluster analysis for these new variables and plot the result.\n",
    "\n",
    "Again use **three** clusters."
   ]
  },
  {
   "cell_type": "code",
   "execution_count": null,
   "id": "109a90eb-b356-4f72-9f6c-471228561ab9",
   "metadata": {
    "deletable": false,
    "nbgrader": {
     "cell_type": "code",
     "checksum": "cfada041bf9688ba3fad0496cafadd37",
     "grade": true,
     "grade_id": "cell-f0b4b8e3ec5c7b3f",
     "locked": false,
     "points": 1,
     "schema_version": 3,
     "solution": true,
     "task": false
    }
   },
   "outputs": [],
   "source": [
    "# YOUR CODE HERE\n",
    "raise NotImplementedError()"
   ]
  },
  {
   "cell_type": "code",
   "execution_count": null,
   "id": "4286a77c-036b-425e-9ae7-48a88a3ff8f8",
   "metadata": {},
   "outputs": [],
   "source": []
  },
  {
   "cell_type": "markdown",
   "id": "9cfad6d1-650a-47d9-9171-0b769c81d886",
   "metadata": {
    "deletable": false,
    "editable": false,
    "nbgrader": {
     "cell_type": "markdown",
     "checksum": "84e0016846d3a0273edc466803e77a2a",
     "grade": false,
     "grade_id": "cell-2bc7d27a06424572",
     "locked": true,
     "schema_version": 3,
     "solution": false,
     "task": false
    }
   },
   "source": [
    "Repeat the grid plot where you pick two configurations for\n",
    "each cluster:"
   ]
  },
  {
   "cell_type": "code",
   "execution_count": null,
   "id": "1c5d0452-4d2b-4d1e-b699-93c5dea4df5f",
   "metadata": {
    "deletable": false,
    "nbgrader": {
     "cell_type": "code",
     "checksum": "116aea72a03df14eec04ba2a448f3d68",
     "grade": true,
     "grade_id": "cell-6cd583ad35042d60",
     "locked": false,
     "points": 1,
     "schema_version": 3,
     "solution": true,
     "task": false
    }
   },
   "outputs": [],
   "source": [
    "# YOUR CODE HERE\n",
    "raise NotImplementedError()"
   ]
  },
  {
   "cell_type": "code",
   "execution_count": null,
   "id": "a0acc421-12f3-4e91-8ee0-9101bef74157",
   "metadata": {},
   "outputs": [],
   "source": []
  },
  {
   "cell_type": "markdown",
   "id": "c436111f-8ee8-4594-847e-f4e33e84b1f0",
   "metadata": {
    "deletable": false,
    "nbgrader": {
     "cell_type": "markdown",
     "checksum": "e96dcc8877ae801cf49295b97a888ca4",
     "grade": true,
     "grade_id": "cell-4d17b9c733cad0db",
     "locked": false,
     "points": 2,
     "schema_version": 3,
     "solution": true,
     "task": false
    }
   },
   "source": [
    "YOUR ANSWER HERE"
   ]
  },
  {
   "cell_type": "markdown",
   "id": "edaa9255-706f-4e47-84d1-350a0a4ade3a",
   "metadata": {},
   "source": [
    "YOUR ANSWER HERE"
   ]
  },
  {
   "cell_type": "code",
   "execution_count": null,
   "id": "ff1884e1-9392-4bd9-b0ac-ff8581e14ec9",
   "metadata": {},
   "outputs": [],
   "source": []
  }
 ],
 "metadata": {
  "kernelspec": {
   "display_name": "Python 3",
   "language": "python",
   "name": "python3"
  },
  "language_info": {
   "codemirror_mode": {
    "name": "ipython",
    "version": 3
   },
   "file_extension": ".py",
   "mimetype": "text/x-python",
   "name": "python",
   "nbconvert_exporter": "python",
   "pygments_lexer": "ipython3",
   "version": "3.9.5"
  }
 },
 "nbformat": 4,
 "nbformat_minor": 5
}
