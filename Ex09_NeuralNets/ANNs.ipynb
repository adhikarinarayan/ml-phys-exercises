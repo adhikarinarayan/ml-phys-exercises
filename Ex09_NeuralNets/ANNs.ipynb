{
 "cells": [
  {
   "cell_type": "markdown",
   "id": "insured-blond",
   "metadata": {
    "deletable": false,
    "editable": false,
    "nbgrader": {
     "cell_type": "markdown",
     "checksum": "3ae423c7b2ad6929fb4b97ad16c63b48",
     "grade": false,
     "grade_id": "cell-64100c0a90a340b6",
     "locked": true,
     "schema_version": 3,
     "solution": false,
     "task": false
    }
   },
   "source": [
    "Exercise 8: Supersymmetry, part II\n",
    "==================================\n",
    "\n",
    "Again, we will classify (simulated) events from the LHC as either  **background** \n",
    "(label `0`) or **signal** (label `1`) for the purposes of SUSY.\n",
    "The dataset is the same as for the last exercise: there are 18 `variables` observed in each event (the explanations are given in `variable_names`).  The [dataset] has 5,000,000 events, generated from simulations, together with their true classification (`labels`).\n",
    "\n",
    "This time, instead of a logistic classification model, we are going to use a\n",
    "**feed-forward neural network**.\n",
    "\n",
    "[dataset]: https://www.nature.com/articles/ncomms5308"
   ]
  },
  {
   "cell_type": "code",
   "execution_count": null,
   "id": "billion-absorption",
   "metadata": {},
   "outputs": [],
   "source": [
    "import os\n",
    "import numpy as np\n",
    "import matplotlib.pyplot as pl"
   ]
  },
  {
   "cell_type": "code",
   "execution_count": null,
   "id": "focal-palmer",
   "metadata": {},
   "outputs": [],
   "source": [
    "# Load the dataset from a binary file\n",
    "with np.load(\"../shared/susy.npz\") as _datafile:\n",
    "    labels = _datafile[\"labels\"].astype(int)\n",
    "    variables = _datafile[\"variables\"].astype(float)\n",
    "    variable_names = list(_datafile[\"variable_names\"].astype(str))"
   ]
  },
  {
   "cell_type": "code",
   "execution_count": null,
   "id": "swedish-runner",
   "metadata": {},
   "outputs": [],
   "source": []
  },
  {
   "cell_type": "markdown",
   "id": "seeing-bangladesh",
   "metadata": {
    "deletable": false,
    "editable": false,
    "nbgrader": {
     "cell_type": "markdown",
     "checksum": "9001b2ab60f62f90c3e010632f3ca535",
     "grade": false,
     "grade_id": "cell-300044b74ed030e0",
     "locked": true,
     "schema_version": 3,
     "solution": false,
     "task": false
    }
   },
   "source": [
    "Before we actually implement the NN, let us first think about its topology.\n",
    "\n",
    "Given the SUSY data set and the setup in our lecture, describe the Neural Network\n",
    "you are going to use:\n",
    "\n",
    " 1. How many neurons do we need in the input layer and how many in the output layer? Why?\n",
    " 2. Do we need to use a hidden layer and if so, why?\n",
    " 3. Which activation function is most useful in the hidden layers and which one shall\n",
    "    we use in the output layer? "
   ]
  },
  {
   "cell_type": "markdown",
   "id": "sealed-printing",
   "metadata": {
    "deletable": false,
    "nbgrader": {
     "cell_type": "markdown",
     "checksum": "fdbe04ee62ffba759e948b5e796fe6fd",
     "grade": true,
     "grade_id": "cell-0f21dd0e3d929863",
     "locked": false,
     "points": 2,
     "schema_version": 3,
     "solution": true,
     "task": false
    }
   },
   "source": [
    "YOUR ANSWER HERE"
   ]
  },
  {
   "cell_type": "code",
   "execution_count": null,
   "id": "chubby-drill",
   "metadata": {},
   "outputs": [],
   "source": []
  },
  {
   "cell_type": "markdown",
   "id": "documented-output",
   "metadata": {
    "deletable": false,
    "editable": false,
    "nbgrader": {
     "cell_type": "markdown",
     "checksum": "c2dce2c082296e1d7029fd18bc78ee15",
     "grade": false,
     "grade_id": "cell-068fd87949c5846d",
     "locked": true,
     "schema_version": 3,
     "solution": false,
     "task": false
    }
   },
   "source": [
    "Train neural network\n",
    "----------------------------\n",
    "\n",
    "Use scikit-learn to construct and train a neural network model. \n",
    "\n",
    " 1. again split the data into training and test set.\n",
    "Keep in mind that training neural networks is expensive.  Since you probably do not want\n",
    "to wait forever  for the training to finish, please for now put only 1 - 5 % of\n",
    "data into the training set and the rest into the test set.\n",
    "\n",
    " 2. construct a neural network model (use `sklearn.neural_network.MLPClassifier`).\n",
    "To keep the training process fast, start with a small number of hidden neurons\n",
    "(no more than 50 overall).  The training process is almost identical to a logistic\n",
    "model (you can use the same functions).  Be sure to use early stopping.\n",
    "\n",
    " 3. Predict data on the test set. Print or plot the confusion matrix, the accuracy,\n",
    " sensitivity and specificity."
   ]
  },
  {
   "cell_type": "code",
   "execution_count": null,
   "id": "false-exception",
   "metadata": {},
   "outputs": [],
   "source": [
    "import sklearn.neural_network\n",
    "import sklearn.metrics"
   ]
  },
  {
   "cell_type": "code",
   "execution_count": null,
   "id": "cultural-buying",
   "metadata": {
    "deletable": false,
    "nbgrader": {
     "cell_type": "code",
     "checksum": "233201d8c01e945cbafe30bdd02b0d23",
     "grade": true,
     "grade_id": "cell-cdaf58fb3f0e6a50",
     "locked": false,
     "points": 0,
     "schema_version": 3,
     "solution": true,
     "task": false
    }
   },
   "outputs": [],
   "source": [
    "# Step 1: Split data \n",
    "# YOUR CODE HERE\n",
    "raise NotImplementedError()"
   ]
  },
  {
   "cell_type": "code",
   "execution_count": null,
   "id": "fancy-sheep",
   "metadata": {
    "deletable": false,
    "nbgrader": {
     "cell_type": "code",
     "checksum": "42706ac2d455b42dcb395d325ebf6de3",
     "grade": true,
     "grade_id": "cell-c5c42c8c2e3069c1",
     "locked": false,
     "points": 0,
     "schema_version": 3,
     "solution": true,
     "task": false
    }
   },
   "outputs": [],
   "source": [
    "# Step 2: Construct and train model\n",
    "# YOUR CODE HERE\n",
    "raise NotImplementedError()"
   ]
  },
  {
   "cell_type": "code",
   "execution_count": null,
   "id": "brief-tender",
   "metadata": {
    "deletable": false,
    "nbgrader": {
     "cell_type": "code",
     "checksum": "6e9f940f760c08f12150fbc67e391f33",
     "grade": true,
     "grade_id": "cell-23892051fc2547e6",
     "locked": false,
     "points": 3,
     "schema_version": 3,
     "solution": true,
     "task": false
    }
   },
   "outputs": [],
   "source": [
    "# Step 3: Predict data, print confusion matrix and metrics\n",
    "# YOUR CODE HERE\n",
    "raise NotImplementedError()"
   ]
  },
  {
   "cell_type": "code",
   "execution_count": null,
   "id": "known-addiction",
   "metadata": {},
   "outputs": [],
   "source": []
  },
  {
   "cell_type": "markdown",
   "id": "charming-pressure",
   "metadata": {
    "deletable": false,
    "editable": false,
    "nbgrader": {
     "cell_type": "markdown",
     "checksum": "50c57c087c0f08b8e3c5ed16057ae72c",
     "grade": false,
     "grade_id": "cell-2d60871220c98535",
     "locked": true,
     "schema_version": 3,
     "solution": false,
     "task": false
    }
   },
   "source": [
    "One other thing we can plot is the validation error over the epoch\n",
    "number (called loss curve) of the model.  Do that below:"
   ]
  },
  {
   "cell_type": "code",
   "execution_count": null,
   "id": "suspended-tragedy",
   "metadata": {
    "deletable": false,
    "nbgrader": {
     "cell_type": "code",
     "checksum": "4fb4372c59ca5ff76ce0c5f93229b2b9",
     "grade": true,
     "grade_id": "cell-303b1e442ec009d1",
     "locked": false,
     "points": 1,
     "schema_version": 3,
     "solution": true,
     "task": false
    }
   },
   "outputs": [],
   "source": [
    "# YOUR CODE HERE\n",
    "raise NotImplementedError()"
   ]
  },
  {
   "cell_type": "code",
   "execution_count": null,
   "id": "cleared-purple",
   "metadata": {},
   "outputs": [],
   "source": []
  },
  {
   "cell_type": "markdown",
   "id": "sustained-edition",
   "metadata": {
    "deletable": false,
    "editable": false,
    "nbgrader": {
     "cell_type": "markdown",
     "checksum": "176a5ca0902d92932b1c5972a8c58079",
     "grade": false,
     "grade_id": "cell-62ca070cd5dd4087",
     "locked": true,
     "schema_version": 3,
     "solution": false,
     "task": false
    }
   },
   "source": [
    "Perform grid search\n",
    "--------------------------\n",
    "With the training process set up, let us try a grid search\n",
    "by hand.   Choose two hyperparameters of either your model\n",
    "or your training process, choose three values for each of\n",
    "the parameters and run the training process above for all\n",
    "nine combinations (you can simply execute the cells above\n",
    "multiple times).\n",
    "\n",
    "Create in the table with the validation error for each\n",
    "combination, and summarize your findings.  You should find \n",
    "a template for the table in the cell below:"
   ]
  },
  {
   "cell_type": "markdown",
   "id": "tight-oakland",
   "metadata": {},
   "source": [
    "| P/Q |   Q1 |   Q2 |   Q3 |\n",
    "| --- | ---- | ---- | ---- |\n",
    "|  P1 | ? | ? | ? |\n",
    "|  P2 | ? | ? | ? |\n",
    "|  P3 | ? | ? | ? |"
   ]
  },
  {
   "cell_type": "markdown",
   "id": "mysterious-match",
   "metadata": {
    "deletable": false,
    "nbgrader": {
     "cell_type": "markdown",
     "checksum": "095a352fd4bf86c6e9888358203d3ffc",
     "grade": true,
     "grade_id": "cell-7b30c4140080ac40",
     "locked": false,
     "points": 3,
     "schema_version": 3,
     "solution": true,
     "task": false
    }
   },
   "source": [
    "YOUR ANSWER HERE"
   ]
  },
  {
   "cell_type": "code",
   "execution_count": null,
   "id": "blond-medication",
   "metadata": {},
   "outputs": [],
   "source": []
  },
  {
   "cell_type": "code",
   "execution_count": null,
   "id": "rubber-movie",
   "metadata": {},
   "outputs": [],
   "source": []
  },
  {
   "cell_type": "markdown",
   "id": "formal-poetry",
   "metadata": {
    "deletable": false,
    "editable": false,
    "nbgrader": {
     "cell_type": "markdown",
     "checksum": "4ed380179d034f331ef97ab78a2aa3e0",
     "grade": false,
     "grade_id": "cell-c76738698288e23b",
     "locked": true,
     "schema_version": 3,
     "solution": false,
     "task": false
    }
   },
   "source": [
    "Summary\n",
    "-------------\n",
    "You should find that it is difficult to get the accuracy above 80 %, barely\n",
    "higher than for the logistic model.\n",
    "\n",
    " 1. Give two possible reasons for this behaviour.\n",
    "    \n",
    " 2. You complain to a friend about this problem.  They say: \"Just add neurons.\n",
    "    This makes the model more powerful and thus always leads to an improvement.\"\n",
    "    Specify a theoretical and a practical reason why this is not always true."
   ]
  },
  {
   "cell_type": "markdown",
   "id": "imperial-intake",
   "metadata": {
    "deletable": false,
    "nbgrader": {
     "cell_type": "markdown",
     "checksum": "b022933cf9c3011a7823470e984d30d9",
     "grade": true,
     "grade_id": "cell-58646514643defc5",
     "locked": false,
     "points": 2,
     "schema_version": 3,
     "solution": true,
     "task": false
    }
   },
   "source": [
    "YOUR ANSWER HERE"
   ]
  },
  {
   "cell_type": "code",
   "execution_count": null,
   "id": "typical-nature",
   "metadata": {},
   "outputs": [],
   "source": []
  }
 ],
 "metadata": {
  "kernelspec": {
   "display_name": "Python 3",
   "language": "python",
   "name": "python3"
  },
  "language_info": {
   "codemirror_mode": {
    "name": "ipython",
    "version": 3
   },
   "file_extension": ".py",
   "mimetype": "text/x-python",
   "name": "python",
   "nbconvert_exporter": "python",
   "pygments_lexer": "ipython3",
   "version": "3.9.5"
  }
 },
 "nbformat": 4,
 "nbformat_minor": 5
}
