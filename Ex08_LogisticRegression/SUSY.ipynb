{
 "cells": [
  {
   "cell_type": "markdown",
   "id": "ruled-clerk",
   "metadata": {
    "deletable": false,
    "editable": false,
    "nbgrader": {
     "cell_type": "markdown",
     "checksum": "76f38dade855f20d29fd043ef8df0657",
     "grade": false,
     "grade_id": "cell-e9f15e55d9b50301",
     "locked": true,
     "schema_version": 3,
     "solution": false,
     "task": false
    }
   },
   "source": [
    "Exercise 8: Classifying Supersymmetry\n",
    "=========================\n",
    "\n",
    "The [Large Hadron Collider] (LHC) is a machine for smashing high-speed atomic nuclei into\n",
    "each other.  Each collision is observed by one of the two large detectors (ATLAS and CMS), which are\n",
    "like huge digital cameras taking snapshots of the particles generated in the\n",
    "collision. The LHC generates 40,000,000 collision events per second per experiment, and a CMS \"photograph\" of\n",
    "one such event is around one MB in size.  Storing every event, let alone analyzing it,\n",
    "is completely infeasible.\n",
    "\n",
    "Fortunately, in a hadron collider, as in presentations of vacation pictures, the vast majority\n",
    "of photographs are \"boring\", which means no new physics is expected to be observed there.\n",
    "We will classify those events as **background** and assign to it the label `0`.  The collision events\n",
    "interesting for our application are classified as **signal** and have the label `1`.  Note that an\n",
    "event being signal does not mean it contains new physics; it just means it is a collision\n",
    "where new physics *may* be seen.\n",
    "\n",
    "One theory for which the LHC is on the lookout is [supersymmetry], or SUSY for short.  We won't \n",
    "have time to go into the details: suffice it to say, it is a much-sought-after theory by high-energy \n",
    "physicists because if true, it would solve a series of problems with the standard model and greatly\n",
    "simplify the maths.  However, until now nature has refused to play along and no experimental evidence\n",
    "of SUSY has been found.\n",
    "\n",
    "In this exercise you will have to train a model which classifies events as signal or background for\n",
    "the purposes of SUSY, given 18 hand-picked `variables` observed in each event (the explanations\n",
    "are given in `variable_names`).  The [dataset] has 5,000,000 events, generated from simulations, together\n",
    "with their true classification (`labels`).\n",
    "\n",
    "[Large Hadron Collider]: https://en.wikipedia.org/wiki/Large_Hadron_Collider\n",
    "[supersymmetry]: https://en.wikipedia.org/wiki/Supersymmetry\n",
    "[dataset]: https://www.nature.com/articles/ncomms5308"
   ]
  },
  {
   "cell_type": "code",
   "execution_count": null,
   "id": "demonstrated-prescription",
   "metadata": {},
   "outputs": [],
   "source": [
    "import os\n",
    "import numpy as np\n",
    "import matplotlib.pyplot as pl"
   ]
  },
  {
   "cell_type": "code",
   "execution_count": null,
   "id": "editorial-safety",
   "metadata": {},
   "outputs": [],
   "source": [
    "# Load the dataset from a binary file\n",
    "with np.load(os.path.expanduser(\"~/shared/susy.npz\")) as _datafile:\n",
    "    labels = _datafile[\"labels\"].astype(int)\n",
    "    variables = _datafile[\"variables\"].astype(float)\n",
    "    variable_names = list(_datafile[\"variable_names\"].astype(str))"
   ]
  },
  {
   "cell_type": "code",
   "execution_count": null,
   "id": "cutting-tennessee",
   "metadata": {},
   "outputs": [],
   "source": [
    "variable_names"
   ]
  },
  {
   "cell_type": "code",
   "execution_count": null,
   "id": "different-international",
   "metadata": {},
   "outputs": [],
   "source": [
    "variables.shape"
   ]
  },
  {
   "cell_type": "code",
   "execution_count": null,
   "id": "alpine-perry",
   "metadata": {},
   "outputs": [],
   "source": [
    "labels.shape"
   ]
  },
  {
   "cell_type": "code",
   "execution_count": null,
   "id": "immune-harrison",
   "metadata": {},
   "outputs": [],
   "source": [
    "labels[:10]"
   ]
  },
  {
   "cell_type": "code",
   "execution_count": null,
   "id": "blessed-energy",
   "metadata": {},
   "outputs": [],
   "source": []
  },
  {
   "cell_type": "code",
   "execution_count": null,
   "id": "prime-arnold",
   "metadata": {},
   "outputs": [],
   "source": []
  },
  {
   "cell_type": "markdown",
   "id": "stupid-multiple",
   "metadata": {
    "deletable": false,
    "editable": false,
    "nbgrader": {
     "cell_type": "markdown",
     "checksum": "abba0fd5f8920617f7e4aae9a0b974fa",
     "grade": false,
     "grade_id": "cell-9dcd57daa4d07364",
     "locked": true,
     "schema_version": 3,
     "solution": false,
     "task": false
    }
   },
   "source": [
    "Step 1: Partition the data into a training and a test set\n",
    "---------------------------------------------------------------------------\n",
    "\n",
    "Fill variables `X_train`, `y_train` with design matrix and labels\n",
    "of the training set, and the same for `X_test` and `y_test` for the\n",
    "test set.\n",
    "\n",
    "You should put 90% of observations into the training set and 10% into the\n",
    "test set.\n",
    "\n",
    "The data has been randomized, so you do not need to do this here\n",
    "(but can if you like.)"
   ]
  },
  {
   "cell_type": "code",
   "execution_count": null,
   "id": "encouraging-constraint",
   "metadata": {
    "deletable": false,
    "nbgrader": {
     "cell_type": "code",
     "checksum": "d057c19fe00e01852656b415a7739230",
     "grade": false,
     "grade_id": "cell-9e9fb760e42672de",
     "locked": false,
     "schema_version": 3,
     "solution": true,
     "task": false
    }
   },
   "outputs": [],
   "source": [
    "# YOUR CODE HERE\n",
    "raise NotImplementedError()"
   ]
  },
  {
   "cell_type": "code",
   "execution_count": null,
   "id": "underlying-romance",
   "metadata": {},
   "outputs": [],
   "source": []
  },
  {
   "cell_type": "code",
   "execution_count": null,
   "id": "hazardous-powder",
   "metadata": {
    "deletable": false,
    "editable": false,
    "nbgrader": {
     "cell_type": "code",
     "checksum": "e8a7d3dd50b9ca5d08f56334946933c5",
     "grade": true,
     "grade_id": "cell-dc447ae2d2662c39",
     "locked": true,
     "points": 1,
     "schema_version": 3,
     "solution": false,
     "task": false
    }
   },
   "outputs": [],
   "source": [
    "assert (X_train, y_train, X_test, y_test) is not None\n",
    "assert X_train.shape[:1] == y_train.shape\n",
    "assert X_test.shape[:1] == y_test.shape\n",
    "np.testing.assert_allclose(y_train.size / y_test.size, 9)"
   ]
  },
  {
   "cell_type": "code",
   "execution_count": null,
   "id": "enormous-background",
   "metadata": {},
   "outputs": [],
   "source": []
  },
  {
   "cell_type": "markdown",
   "id": "expired-facing",
   "metadata": {
    "deletable": false,
    "editable": false,
    "nbgrader": {
     "cell_type": "markdown",
     "checksum": "9a52dec4d8db51ec00b01ddc28f38f83",
     "grade": false,
     "grade_id": "cell-7a78895da685bc9f",
     "locked": true,
     "schema_version": 3,
     "solution": false,
     "task": false
    }
   },
   "source": [
    "Step 2: Train a logistic model\n",
    "--------------------------------------\n",
    "\n",
    "Our days of writing all of those fitting things ourselves are now behind us.\n",
    "We are going to leverage the power of the scikit-learn (`sklearn`) package.\n",
    "This also means I will step back a little bit and you will have to figure\n",
    "out more things on your own.\n",
    "\n",
    "Let us use a `sklearn.linear_model.SGDClassifier` (see the [documentation]),\n",
    "which is a binary classifier using stochastic gradient descent.\n",
    "\n",
    "Training with sklearn is two-step procedure:\n",
    "\n",
    " 1. first, you create a `model`, which encodes both which predictor/classifier\n",
    "    we are using and how we are going to train it. In our case this is a \n",
    "    `SGDClassifier`.   As parameters you should make sure to use the loss function\n",
    "    for logistic regression and use early stopping.\n",
    "    \n",
    " 2. second, we are going to perform the regression on the data set using\n",
    "    the `fit` method of the model.  Here you should pass the training data.\n",
    "\n",
    "[documentation]: https://scikit-learn.org/stable/modules/generated/sklearn.linear_model.SGDClassifier.html#sklearn.linear_model.SGDClassifier"
   ]
  },
  {
   "cell_type": "code",
   "execution_count": null,
   "id": "undefined-cooler",
   "metadata": {},
   "outputs": [],
   "source": [
    "import sklearn.linear_model"
   ]
  },
  {
   "cell_type": "code",
   "execution_count": null,
   "id": "precise-craps",
   "metadata": {
    "deletable": false,
    "nbgrader": {
     "cell_type": "code",
     "checksum": "6354d56dbaf4bf1023a5920728d272de",
     "grade": false,
     "grade_id": "cell-d1ea6fa1c847a9bb",
     "locked": false,
     "schema_version": 3,
     "solution": true,
     "task": false
    }
   },
   "outputs": [],
   "source": [
    "# YOUR CODE HERE\n",
    "raise NotImplementedError()"
   ]
  },
  {
   "cell_type": "code",
   "execution_count": null,
   "id": "automated-blair",
   "metadata": {},
   "outputs": [],
   "source": []
  },
  {
   "cell_type": "code",
   "execution_count": null,
   "id": "automated-discount",
   "metadata": {
    "deletable": false,
    "editable": false,
    "nbgrader": {
     "cell_type": "code",
     "checksum": "9d9a32bbb871019c33a47ec9df30bc0b",
     "grade": true,
     "grade_id": "cell-35a23855b53e0250",
     "locked": true,
     "points": 2,
     "schema_version": 3,
     "solution": false,
     "task": false
    }
   },
   "outputs": [],
   "source": [
    "assert (model,) is not None\n",
    "assert model.__class__.__name__ == \"SGDClassifier\"\n",
    "assert model.score(X_train, y_train) < 1"
   ]
  },
  {
   "cell_type": "code",
   "execution_count": null,
   "id": "looking-opening",
   "metadata": {},
   "outputs": [],
   "source": []
  },
  {
   "cell_type": "markdown",
   "id": "right-certification",
   "metadata": {
    "deletable": false,
    "editable": false,
    "nbgrader": {
     "cell_type": "markdown",
     "checksum": "eb10f3b0cd53b625f60c94b3a60a55ab",
     "grade": false,
     "grade_id": "cell-0ade73f63602d525",
     "locked": true,
     "schema_version": 3,
     "solution": false,
     "task": false
    }
   },
   "source": [
    "Step 3: Predict values on the test set and check errors\n",
    "---------------------------------------------\n",
    "\n",
    "Now that the model is trained, we can use it to predict values for\n",
    "the test set, which you should store in `yhat_test`.\n",
    "\n",
    "Afterwards, compute the in- and out-of-sample error and store it\n",
    "in `E_in` and `E_out`, respectively.\n",
    "\n",
    "**Hint**: For both tasks you may have to rummage through the methods of `model` a\n",
    "little bit or read the documentation.  The error is called \"score\"\n",
    "in sklearn terminology."
   ]
  },
  {
   "cell_type": "code",
   "execution_count": null,
   "id": "grave-adobe",
   "metadata": {
    "deletable": false,
    "nbgrader": {
     "cell_type": "code",
     "checksum": "55eda12c83017717cfc76dbf38bfb8ca",
     "grade": false,
     "grade_id": "cell-fbe278cc7d17af21",
     "locked": false,
     "schema_version": 3,
     "solution": true,
     "task": false
    }
   },
   "outputs": [],
   "source": [
    "# YOUR CODE HERE\n",
    "raise NotImplementedError()"
   ]
  },
  {
   "cell_type": "code",
   "execution_count": null,
   "id": "subject-seating",
   "metadata": {},
   "outputs": [],
   "source": []
  },
  {
   "cell_type": "code",
   "execution_count": null,
   "id": "coastal-stick",
   "metadata": {},
   "outputs": [],
   "source": [
    "print (\"in-sample (training) error:%10.5f\" % E_in)\n",
    "print (\"out-of-sample (test) error:%10.5f\" % E_out)"
   ]
  },
  {
   "cell_type": "code",
   "execution_count": null,
   "id": "pregnant-differential",
   "metadata": {
    "deletable": false,
    "editable": false,
    "nbgrader": {
     "cell_type": "code",
     "checksum": "d2d0c92f7624ee08e1364cc3b82fa437",
     "grade": true,
     "grade_id": "cell-b8873da985efbe08",
     "locked": true,
     "points": 2,
     "schema_version": 3,
     "solution": false,
     "task": false
    }
   },
   "outputs": [],
   "source": [
    "assert (yhat_test, E_in, E_out) is not None\n",
    "_am_right = (yhat_test == y_test).sum()\n",
    "assert _am_right > 350_000, \"Poor prediction accuracy\" \n",
    "assert _am_right < 499_000, \"Too good prediction accuracy\"\n",
    "assert 0 < E_in < 1\n",
    "assert 0 < E_out < 1"
   ]
  },
  {
   "cell_type": "code",
   "execution_count": null,
   "id": "subtle-program",
   "metadata": {},
   "outputs": [],
   "source": []
  },
  {
   "cell_type": "markdown",
   "id": "verbal-finger",
   "metadata": {},
   "source": [
    "Step 4: Evaluate prediction quality\n",
    "------------------------------\n",
    "\n",
    "Compute and print/plot the **confusion matrix** (on the test set)."
   ]
  },
  {
   "cell_type": "code",
   "execution_count": null,
   "id": "floppy-catch",
   "metadata": {
    "deletable": false,
    "nbgrader": {
     "cell_type": "code",
     "checksum": "2a459991d18ab13eac896bce591dc8cc",
     "grade": true,
     "grade_id": "cell-f679c6a31fe80eff",
     "locked": false,
     "points": 2,
     "schema_version": 3,
     "solution": true,
     "task": false
    }
   },
   "outputs": [],
   "source": [
    "# YOUR CODE HERE\n",
    "raise NotImplementedError()"
   ]
  },
  {
   "cell_type": "code",
   "execution_count": null,
   "id": "supported-interim",
   "metadata": {},
   "outputs": [],
   "source": []
  },
  {
   "cell_type": "markdown",
   "id": "statistical-disclaimer",
   "metadata": {
    "deletable": false,
    "editable": false,
    "nbgrader": {
     "cell_type": "markdown",
     "checksum": "11eb7259fec9f8141ea3e57381b0bf70",
     "grade": false,
     "grade_id": "cell-2aae4f91e2fe317a",
     "locked": true,
     "schema_version": 3,
     "solution": false,
     "task": false
    }
   },
   "source": [
    "You should also compute the accuracy, sensitivity, and specificity\n",
    "and store it in `accuracy`, `sensitivity`, and `specificity`,\n",
    "respectively and then print those values as well."
   ]
  },
  {
   "cell_type": "code",
   "execution_count": null,
   "id": "touched-talent",
   "metadata": {
    "deletable": false,
    "nbgrader": {
     "cell_type": "code",
     "checksum": "70387f988aa550dd3fed82cf1b4f6738",
     "grade": false,
     "grade_id": "cell-ab85fffd2ee48419",
     "locked": false,
     "schema_version": 3,
     "solution": true,
     "task": false
    }
   },
   "outputs": [],
   "source": [
    "# YOUR CODE HERE\n",
    "raise NotImplementedError()"
   ]
  },
  {
   "cell_type": "code",
   "execution_count": null,
   "id": "binding-former",
   "metadata": {},
   "outputs": [],
   "source": []
  },
  {
   "cell_type": "code",
   "execution_count": null,
   "id": "delayed-production",
   "metadata": {
    "deletable": false,
    "editable": false,
    "nbgrader": {
     "cell_type": "code",
     "checksum": "c239c15cece7336e9be469ae957c7605",
     "grade": true,
     "grade_id": "cell-e8a98d396b0097f1",
     "locked": true,
     "points": 1,
     "schema_version": 3,
     "solution": false,
     "task": false
    }
   },
   "outputs": [],
   "source": [
    "assert 0.5 < accuracy < 0.95\n",
    "assert 0.5 < sensitivity < 0.95\n",
    "assert 0.5 < specificity < 0.95\n",
    "assert sensitivity < specificity\n"
   ]
  },
  {
   "cell_type": "code",
   "execution_count": null,
   "id": "billion-vocabulary",
   "metadata": {},
   "outputs": [],
   "source": []
  },
  {
   "cell_type": "markdown",
   "id": "occasional-kennedy",
   "metadata": {
    "deletable": false,
    "editable": false,
    "nbgrader": {
     "cell_type": "markdown",
     "checksum": "f5b3f537e9a7dd7bb3361e7070769a20",
     "grade": false,
     "grade_id": "cell-3e531a7bc2abf812",
     "locked": true,
     "schema_version": 3,
     "solution": false,
     "task": false
    }
   },
   "source": [
    "Draw conclusions based on your metrics:\n",
    "\n",
    " 1. Is the dataset significantly imbalanced?\n",
    " \n",
    " 2. Observe that the sensitivity is smaller than the\n",
    "    specificity.  What does this mean? \n",
    "  \n",
    " 3. Is this model suitable for finding regions of interest\n",
    "    for SUSY search in the data? Why or why not?"
   ]
  },
  {
   "cell_type": "markdown",
   "id": "floral-mirror",
   "metadata": {
    "deletable": false,
    "nbgrader": {
     "cell_type": "markdown",
     "checksum": "31f78cf8f334c8d0a2876062144adb65",
     "grade": true,
     "grade_id": "cell-2dd8ab15f07d9e45",
     "locked": false,
     "points": 2,
     "schema_version": 3,
     "solution": true,
     "task": false
    }
   },
   "source": [
    "YOUR ANSWER HERE"
   ]
  },
  {
   "cell_type": "code",
   "execution_count": null,
   "id": "connected-error",
   "metadata": {},
   "outputs": [],
   "source": []
  },
  {
   "cell_type": "markdown",
   "id": "weird-wellington",
   "metadata": {
    "deletable": false,
    "editable": false,
    "nbgrader": {
     "cell_type": "markdown",
     "checksum": "5cb7e8535bad4958e864579d0cc396e2",
     "grade": false,
     "grade_id": "cell-81646fa35bb9b3e7",
     "locked": true,
     "schema_version": 3,
     "solution": false,
     "task": false
    }
   },
   "source": [
    "Step 5: Debugging the model\n",
    "------------------------------\n",
    "\n",
    "In an effort to improve the model, one question one can naturally ask is **which**\n",
    "features are modelled accurately and which features are not.\n",
    "\n",
    "For this, put all observations of the test design matrix `X_test` which were\n",
    "predicted incorrectly into `X_fail`, and those which were predicted correctly\n",
    "into `X_success`."
   ]
  },
  {
   "cell_type": "code",
   "execution_count": null,
   "id": "editorial-linux",
   "metadata": {
    "deletable": false,
    "nbgrader": {
     "cell_type": "code",
     "checksum": "e2c691eccc5c9d749dec72a2a89e83c5",
     "grade": false,
     "grade_id": "cell-2667bc5c1f6497f1",
     "locked": false,
     "schema_version": 3,
     "solution": true,
     "task": false
    }
   },
   "outputs": [],
   "source": [
    "# YOUR CODE HERE\n",
    "raise NotImplementedError()"
   ]
  },
  {
   "cell_type": "code",
   "execution_count": null,
   "id": "oriented-smart",
   "metadata": {
    "deletable": false,
    "editable": false,
    "nbgrader": {
     "cell_type": "code",
     "checksum": "24a3883f645fe3be145abf6fc08b7a17",
     "grade": true,
     "grade_id": "cell-146b6eff848924f8",
     "locked": true,
     "points": 1,
     "schema_version": 3,
     "solution": false,
     "task": false
    }
   },
   "outputs": [],
   "source": [
    "assert X_fail.shape[1] == X_test.shape[1]\n",
    "assert X_fail.shape[0] == (yhat_test != y_test).sum()\n",
    "assert X_success.shape[1] == X_test.shape[1]\n",
    "assert X_success.shape[0] == (yhat_test == y_test).sum()\n"
   ]
  },
  {
   "cell_type": "code",
   "execution_count": null,
   "id": "ddd5b0a2",
   "metadata": {},
   "outputs": [],
   "source": []
  },
  {
   "cell_type": "markdown",
   "id": "administrative-conversation",
   "metadata": {
    "deletable": false,
    "editable": false,
    "nbgrader": {
     "cell_type": "markdown",
     "checksum": "14b3a4a4d8e40ec62eef57e6e9111389",
     "grade": false,
     "grade_id": "cell-b0a20aa061ba2e59",
     "locked": true,
     "schema_version": 3,
     "solution": false,
     "task": false
    }
   },
   "source": [
    "Now let us do a (quite crude!) analysis of where this may go wrong:\n",
    "If values for feature, say $x_k$, are on average very different in the\n",
    "training set than in the test set, then we can probably assume that the\n",
    "dependency on this feature cannot be properly captured by our model.\n",
    "\n",
    "To study this:\n",
    "\n",
    " 1. let us first take the **mean** over hits and misses for each feature (mean over \n",
    "    the columns of `X_fail` and `X_success`) - let us call this $\\bar x^\\mathrm{hit}_k$\n",
    "    and $\\bar x^\\mathrm{miss}_k$, respectively.\n",
    "    \n",
    " 2. to make sure that our \"distances\" are meaningful, let us also compute\n",
    "    the **standard deviation** over all observations for each feature (standard\n",
    "    deviation over the columns of `variables`) - we call this $\\sigma_k$.\n",
    "\n",
    "(Hint: you can use the `mean` and `std` function together with the axis\n",
    "argument.)\n",
    "\n",
    "Now plot the $\\bar x^\\mathrm{hit}_k / \\sigma_k$ and $\\bar x^\\mathrm{miss}_k / \\sigma_k$\n",
    "over $k$. To spot the difference, I suggest plotting these as two lines in \n",
    "the same plot."
   ]
  },
  {
   "cell_type": "code",
   "execution_count": null,
   "id": "induced-summit",
   "metadata": {
    "deletable": false,
    "nbgrader": {
     "cell_type": "code",
     "checksum": "b376234da922482b7c3187e51eb69da9",
     "grade": true,
     "grade_id": "cell-da29178611c9805f",
     "locked": false,
     "points": 1,
     "schema_version": 3,
     "solution": true,
     "task": false
    }
   },
   "outputs": [],
   "source": [
    "# YOUR CODE HERE\n",
    "raise NotImplementedError()"
   ]
  },
  {
   "cell_type": "code",
   "execution_count": null,
   "id": "instrumental-surname",
   "metadata": {},
   "outputs": [],
   "source": []
  },
  {
   "cell_type": "markdown",
   "id": "arabic-benchmark",
   "metadata": {
    "deletable": false,
    "editable": false,
    "nbgrader": {
     "cell_type": "markdown",
     "checksum": "2a880438dd26dccc10cd66f5f4a3f0de",
     "grade": false,
     "grade_id": "cell-9068dc58af5439a3",
     "locked": true,
     "schema_version": 3,
     "solution": false,
     "task": false
    }
   },
   "source": [
    " 1. According to the above plot, which features are most likely involved in poor\n",
    "    predictions?\n",
    "\n",
    " 2. How could we modify the design matrix such that we allow the logistic model\n",
    "    to treat these features (potentially) better?"
   ]
  },
  {
   "cell_type": "markdown",
   "id": "scientific-shield",
   "metadata": {
    "deletable": false,
    "nbgrader": {
     "cell_type": "markdown",
     "checksum": "fc38130aeba1d354a7200b84ee71bbda",
     "grade": true,
     "grade_id": "cell-88e8ef169f578084",
     "locked": false,
     "points": 1,
     "schema_version": 3,
     "solution": true,
     "task": false
    }
   },
   "source": [
    "YOUR ANSWER HERE"
   ]
  },
  {
   "cell_type": "code",
   "execution_count": null,
   "id": "variable-duplicate",
   "metadata": {},
   "outputs": [],
   "source": []
  },
  {
   "cell_type": "code",
   "execution_count": null,
   "id": "owned-career",
   "metadata": {},
   "outputs": [],
   "source": []
  }
 ],
 "metadata": {
  "kernelspec": {
   "display_name": "Python 3 (ipykernel)",
   "language": "python",
   "name": "python3"
  },
  "language_info": {
   "codemirror_mode": {
    "name": "ipython",
    "version": 3
   },
   "file_extension": ".py",
   "mimetype": "text/x-python",
   "name": "python",
   "nbconvert_exporter": "python",
   "pygments_lexer": "ipython3",
   "version": "3.10.6"
  }
 },
 "nbformat": 4,
 "nbformat_minor": 5
}
