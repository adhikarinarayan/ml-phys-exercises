{
 "cells": [
  {
   "cell_type": "markdown",
   "id": "labeled-doctor",
   "metadata": {
    "deletable": false,
    "editable": false,
    "nbgrader": {
     "cell_type": "markdown",
     "checksum": "c5829a31e33ab8298e1a19ffae99270f",
     "grade": false,
     "grade_id": "cell-7db3c9f9bff6e4b6",
     "locked": true,
     "schema_version": 3,
     "solution": false,
     "task": false
    }
   },
   "source": [
    "Exercise 11: Low-rank approximations in the Ising model\n",
    "====================================\n",
    "<img src=\"ising.png\" style=\"max-width:30%; float:right; padding-left:30pt\">\n",
    "\n",
    "Let us return to our study of the [Ising model]. As reminder: the Ising mode is a $N \\times N$\n",
    "(in our case `40 x 40`) square grid of Ising spins, $\\sigma_{i,j}$, which can either be $+1$ or $-1$\n",
    "at any given moment.  The potential energy $U$ encoded in each configuration is given by:\n",
    "$$\n",
    "   U = -\\sum_{i,j} \\big[ \\sigma_{i,j} \\sigma_{i,j+1} + \\sigma_{i,j} \\sigma_{i+1,j} \\big],\n",
    "$$\n",
    "which is competing with the kinetic energy due to temperature $T$, which is randomly flipping spins.\n",
    "\n",
    "The dataset is almost the same as for the last exercise, but I have split it by temperature: there\n",
    "are $N_T = 10$ temperatures, $T = 0.25, 0.5, \\ldots, 3.75$, stored in the array `temp`.\n",
    "For each temperature, there are $N = 16000$\n",
    "observations, so the `spins` tensor is now of shape $N_T \\times N \\times L \\times L$.\n",
    "\n",
    "The idea of this lecture is to explore different low-rank approximations to this tensor.\n",
    "\n",
    "[Ising model]: https://en.wikipedia.org/wiki/Ising_model\n"
   ]
  },
  {
   "cell_type": "code",
   "execution_count": null,
   "id": "valuable-structure",
   "metadata": {},
   "outputs": [],
   "source": [
    "import numpy as np\n",
    "import os\n",
    "import matplotlib.pyplot as pl"
   ]
  },
  {
   "cell_type": "code",
   "execution_count": null,
   "id": "narrative-symposium",
   "metadata": {},
   "outputs": [],
   "source": [
    "# Load the dataset from a binary file\n",
    "with np.load(\"../shared/ising.npz\") as _datafile:\n",
    "    spins = _datafile[\"spins\"].reshape(10, 16_000, 40, 40)\n",
    "    temp = _datafile[\"temp\"][::16_000]"
   ]
  },
  {
   "cell_type": "code",
   "execution_count": null,
   "id": "serial-journalism",
   "metadata": {},
   "outputs": [],
   "source": [
    "spins.shape"
   ]
  },
  {
   "cell_type": "code",
   "execution_count": null,
   "id": "official-figure",
   "metadata": {},
   "outputs": [],
   "source": [
    "temp"
   ]
  },
  {
   "cell_type": "code",
   "execution_count": null,
   "id": "continued-puzzle",
   "metadata": {},
   "outputs": [],
   "source": [
    "temp.shape"
   ]
  },
  {
   "cell_type": "markdown",
   "id": "several-seafood",
   "metadata": {
    "deletable": false,
    "editable": false,
    "nbgrader": {
     "cell_type": "markdown",
     "checksum": "5864472d9c0f9408bff8efca98ab61eb",
     "grade": false,
     "grade_id": "cell-8c392c548cd3b7ab",
     "locked": true,
     "schema_version": 3,
     "solution": false,
     "task": false
    }
   },
   "source": [
    "Part 1. Compressing the design matrix for low T\n",
    "--------------------------------\n",
    "First, let us analyze the singular value decomposition of the \"design matrices\" $X$\n",
    "for each temperature\n",
    "\n",
    "For this, make a new tensor `X`, which contains all 10 temperatures.  It should \"flatten\" out the\n",
    "grid of spins into a single dimension (in other words, the spins are the features in our design\n",
    "matrix).\n",
    "\n",
    "Also, restrict yourself to the first 1,000 observations in each temperature (otherwise the SVD will\n",
    "become too expensive)"
   ]
  },
  {
   "cell_type": "code",
   "execution_count": null,
   "id": "industrial-finder",
   "metadata": {
    "deletable": false,
    "nbgrader": {
     "cell_type": "code",
     "checksum": "a3be6f0f3e122e2893386569c4821c2e",
     "grade": false,
     "grade_id": "cell-d625e469d8fc3bdf",
     "locked": false,
     "schema_version": 3,
     "solution": true,
     "task": false
    }
   },
   "outputs": [],
   "source": [
    "#X = ???\n",
    "# YOUR CODE HERE\n",
    "raise NotImplementedError()"
   ]
  },
  {
   "cell_type": "code",
   "execution_count": null,
   "id": "egyptian-budget",
   "metadata": {},
   "outputs": [],
   "source": [
    "X.shape"
   ]
  },
  {
   "cell_type": "code",
   "execution_count": null,
   "id": "studied-location",
   "metadata": {
    "deletable": false,
    "editable": false,
    "nbgrader": {
     "cell_type": "code",
     "checksum": "865b77954b5c97f6fad1bfda9bf300e2",
     "grade": true,
     "grade_id": "cell-fa9be357a9b42431",
     "locked": true,
     "points": 1,
     "schema_version": 3,
     "solution": false,
     "task": false
    }
   },
   "outputs": [],
   "source": [
    "assert X.shape == (10, 1000, 1600)\n"
   ]
  },
  {
   "cell_type": "code",
   "execution_count": null,
   "id": "unexpected-integer",
   "metadata": {},
   "outputs": [],
   "source": []
  },
  {
   "cell_type": "markdown",
   "id": "overhead-discovery",
   "metadata": {
    "deletable": false,
    "editable": false,
    "nbgrader": {
     "cell_type": "markdown",
     "checksum": "38e28ac419db0ccbeb43daac2fca3584",
     "grade": false,
     "grade_id": "cell-0a72ea6361aef43a",
     "locked": true,
     "schema_version": 3,
     "solution": false,
     "task": false
    }
   },
   "source": [
    "Perform a **thin SVD** of the design matrix for $T = 1.75$.\n",
    "Plot the singular values on a logarithmic scale.\n",
    "\n",
    "Reminder: thin SVDs can be computed by passing `full_matrices=False`."
   ]
  },
  {
   "cell_type": "code",
   "execution_count": null,
   "id": "competitive-terrorist",
   "metadata": {
    "deletable": false,
    "nbgrader": {
     "cell_type": "code",
     "checksum": "d5c9f499ef75713f2cad429813ac97d3",
     "grade": true,
     "grade_id": "cell-da7ea59d46a7126a",
     "locked": false,
     "points": 1,
     "schema_version": 3,
     "solution": true,
     "task": false
    }
   },
   "outputs": [],
   "source": [
    "# SVD\n",
    "# YOUR CODE HERE\n",
    "raise NotImplementedError()"
   ]
  },
  {
   "cell_type": "code",
   "execution_count": null,
   "id": "political-spokesman",
   "metadata": {
    "deletable": false,
    "nbgrader": {
     "cell_type": "code",
     "checksum": "89569f502fc98f0c8c3ddbc01f24f9a2",
     "grade": true,
     "grade_id": "cell-c1766809a5d2b6c4",
     "locked": false,
     "points": 1,
     "schema_version": 3,
     "solution": true,
     "task": false
    }
   },
   "outputs": [],
   "source": [
    "# Plot\n",
    "# YOUR CODE HERE\n",
    "raise NotImplementedError()"
   ]
  },
  {
   "cell_type": "markdown",
   "id": "supposed-appointment",
   "metadata": {
    "deletable": false,
    "editable": false,
    "nbgrader": {
     "cell_type": "markdown",
     "checksum": "54fdd289c84b1d8ecf20cc60be374dfd",
     "grade": false,
     "grade_id": "cell-d68cd964e3fe3334",
     "locked": true,
     "schema_version": 3,
     "solution": false,
     "task": false
    }
   },
   "source": [
    "Let us now do a truncated SVD approximation: \n",
    "$$ \n",
    "\\hat X_K = \\sum_{k=0}^{K-1} s_k \\vec u_k \\vec v_k^T\n",
    "$$\n",
    "with $K = 1$ (rank-1 approximation). Compute this approximation and store it in `X1`.\n",
    "\n",
    "Also, infer the relative error of this approximation\n",
    "$$\n",
    "    \\epsilon_1 = \\frac{\\Vert X - \\hat X_1\\Vert}{\\Vert X\\Vert}\n",
    "$$\n",
    "and print it.  Compute this quantity **only** from the singular values."
   ]
  },
  {
   "cell_type": "code",
   "execution_count": null,
   "id": "polished-picnic",
   "metadata": {
    "deletable": false,
    "nbgrader": {
     "cell_type": "code",
     "checksum": "539e95be6e0511f795c1a16ddffd113d",
     "grade": false,
     "grade_id": "cell-156b74495e8a1c0b",
     "locked": false,
     "schema_version": 3,
     "solution": true,
     "task": false
    }
   },
   "outputs": [],
   "source": [
    "# X1 = ???\n",
    "# YOUR CODE HERE\n",
    "raise NotImplementedError()"
   ]
  },
  {
   "cell_type": "code",
   "execution_count": null,
   "id": "musical-think",
   "metadata": {},
   "outputs": [],
   "source": []
  },
  {
   "cell_type": "code",
   "execution_count": null,
   "id": "hindu-works",
   "metadata": {
    "deletable": false,
    "editable": false,
    "nbgrader": {
     "cell_type": "code",
     "checksum": "f64596abab046e7f01860f36eb92e844",
     "grade": true,
     "grade_id": "cell-8fbf67f6f5a0a1d7",
     "locked": true,
     "points": 1,
     "schema_version": 3,
     "solution": false,
     "task": false
    }
   },
   "outputs": [],
   "source": [
    "assert X1.shape == (1000, 1600)\n",
    "assert np.allclose(X1 / X1[:1], X1[:,:1] / X1[0,0]), \"not rank-1\"\n",
    "assert np.allclose(X1 / X1[:,:1], X1[:1] / X1[0,0]), \"not rank-1\""
   ]
  },
  {
   "cell_type": "code",
   "execution_count": null,
   "id": "stuffed-calcium",
   "metadata": {},
   "outputs": [],
   "source": []
  },
  {
   "cell_type": "markdown",
   "id": "wireless-craps",
   "metadata": {
    "deletable": false,
    "editable": false,
    "nbgrader": {
     "cell_type": "markdown",
     "checksum": "21ec0f8bb77b826ea45d80e4c3e5fc9f",
     "grade": false,
     "grade_id": "cell-a23d21208d65279d",
     "locked": true,
     "schema_version": 3,
     "solution": false,
     "task": false
    }
   },
   "source": [
    "Let us now analyze this approximation visually. Make a figure with three false color plots\n",
    "as subplots, showing the following:\n",
    "\n",
    " 1. the actual design matrix $X$\n",
    " 2. the rank-1 approximation $\\hat X_1$\n",
    " 3. the difference: $\\tfrac12 (X - \\hat X_1)$. (the one-half is there so that the result is again in the range $[-1,1]$)\n",
    "Add titles and a colorbar.\n",
    "\n",
    "Hint: I find plotting this with the `'binary'` colormap gives a most appealing picture, but you can use any one."
   ]
  },
  {
   "cell_type": "code",
   "execution_count": null,
   "id": "outdoor-region",
   "metadata": {
    "deletable": false,
    "nbgrader": {
     "cell_type": "code",
     "checksum": "1725b2ebf4760415a4167acdf0fa80b0",
     "grade": true,
     "grade_id": "cell-f8b740a0cc03edb1",
     "locked": false,
     "points": 2,
     "schema_version": 3,
     "solution": true,
     "task": false
    }
   },
   "outputs": [],
   "source": [
    "# YOUR CODE HERE\n",
    "raise NotImplementedError()"
   ]
  },
  {
   "cell_type": "markdown",
   "id": "increased-remains",
   "metadata": {
    "deletable": false,
    "editable": false,
    "nbgrader": {
     "cell_type": "markdown",
     "checksum": "20a94d3d05e8faf679ad1d4b450e8e84",
     "grade": false,
     "grade_id": "cell-6c051d942b534bdf",
     "locked": true,
     "schema_version": 3,
     "solution": false,
     "task": false
    }
   },
   "source": [
    "Let us analyze these plots:\n",
    "\n",
    " 1. Observe the data $X$ mostly consists of \"stripes\".  Translate these back to our field\n",
    "    of Ising spins: what does these stripes correspond to?  How is this related to\n",
    "    the chosen temperature? (Hint: think about the last exercise)\n",
    "    \n",
    " 2. Now lets talk about the model $\\hat X_1$. How do the dominant left ($u_k$) and right ($v_k$) \n",
    "    singular vector relate to the spin configurations?\n",
    "    \n",
    " 3. Using the previous points, explain why the model has such a good performance in this case.\n",
    "    What is \"missing\"?"
   ]
  },
  {
   "cell_type": "markdown",
   "id": "cheap-tower",
   "metadata": {
    "deletable": false,
    "nbgrader": {
     "cell_type": "markdown",
     "checksum": "61b46cf3f5d45d7b493e271d86b6d2a6",
     "grade": true,
     "grade_id": "cell-b94a76fbf5d82b2d",
     "locked": false,
     "points": 3,
     "schema_version": 3,
     "solution": true,
     "task": false
    }
   },
   "source": [
    "YOUR ANSWER HERE"
   ]
  },
  {
   "cell_type": "code",
   "execution_count": null,
   "id": "identified-handle",
   "metadata": {},
   "outputs": [],
   "source": []
  },
  {
   "cell_type": "markdown",
   "id": "funded-georgia",
   "metadata": {
    "deletable": false,
    "editable": false,
    "nbgrader": {
     "cell_type": "markdown",
     "checksum": "5b53f5e69b4c4acd1564e2bef8ed14f2",
     "grade": false,
     "grade_id": "cell-0eee63754109a51d",
     "locked": true,
     "schema_version": 3,
     "solution": false,
     "task": false
    }
   },
   "source": [
    "Part 2. Compressing the design matrix for higher T\n",
    "----------------------------------------\n",
    "Let us redo our analysis for $T = 2.5$.\n",
    "\n",
    "Again perform a singular value decomposition of the design matrix $X$ for $T = 2.5$.\n",
    "(You may want to use different variables for the result of the SVD).\n",
    "\n",
    "Make a plot with two lines, one for the previous case ($T = 1.75$), one for this case.\n",
    "In both cases plot the **normalized** singular values $s_k/s_0$ on a log scale.\n",
    "\n",
    "Observe the very different behaviour.  Also, print the relative error\n",
    "of a rank-1 approximation."
   ]
  },
  {
   "cell_type": "code",
   "execution_count": null,
   "id": "rational-orleans",
   "metadata": {
    "deletable": false,
    "nbgrader": {
     "cell_type": "code",
     "checksum": "c14f645c71a506b8dcc692c730a71a99",
     "grade": true,
     "grade_id": "cell-642343bf30f8c9c1",
     "locked": false,
     "points": 1,
     "schema_version": 3,
     "solution": true,
     "task": false
    }
   },
   "outputs": [],
   "source": [
    "# YOUR CODE HERE\n",
    "raise NotImplementedError()"
   ]
  },
  {
   "cell_type": "code",
   "execution_count": null,
   "id": "miniature-atmosphere",
   "metadata": {},
   "outputs": [],
   "source": []
  },
  {
   "cell_type": "markdown",
   "id": "closed-ancient",
   "metadata": {
    "deletable": false,
    "editable": false,
    "nbgrader": {
     "cell_type": "markdown",
     "checksum": "57612a6717361ed10c9e8733114ecb9e",
     "grade": false,
     "grade_id": "cell-9ac6589444a5e080",
     "locked": true,
     "schema_version": 3,
     "solution": false,
     "task": false
    }
   },
   "source": [
    "Since a rank-1 approximation is so poor, let us construct a **rank-10**\n",
    "approxiamtion $\\hat X_{10}$ to this higher temperature case.\n",
    "Store this approximation in `Xhat`.\n",
    "\n",
    "Afterwards, repeat the falso plot with the three panels of data, model\n",
    "and difference in this case."
   ]
  },
  {
   "cell_type": "code",
   "execution_count": null,
   "id": "incorporate-humanity",
   "metadata": {
    "deletable": false,
    "nbgrader": {
     "cell_type": "code",
     "checksum": "927a46adfaadea86dd7e2aa9e8ec6052",
     "grade": true,
     "grade_id": "cell-173b90e4ed6a9ee7",
     "locked": false,
     "points": 1,
     "schema_version": 3,
     "solution": true,
     "task": false
    }
   },
   "outputs": [],
   "source": [
    "# Xhat = ???\n",
    "# YOUR CODE HERE\n",
    "raise NotImplementedError()"
   ]
  },
  {
   "cell_type": "code",
   "execution_count": null,
   "id": "elder-cutting",
   "metadata": {
    "deletable": false,
    "nbgrader": {
     "cell_type": "code",
     "checksum": "4e8e96bfcb21d19d4c17f382553ecd5f",
     "grade": true,
     "grade_id": "cell-20629ae311fc423c",
     "locked": false,
     "points": 1,
     "schema_version": 3,
     "solution": true,
     "task": false
    }
   },
   "outputs": [],
   "source": [
    "# YOUR CODE HERE\n",
    "raise NotImplementedError()"
   ]
  },
  {
   "cell_type": "code",
   "execution_count": null,
   "id": "passive-technical",
   "metadata": {},
   "outputs": [],
   "source": []
  },
  {
   "cell_type": "markdown",
   "id": "authentic-democrat",
   "metadata": {
    "deletable": false,
    "editable": false,
    "nbgrader": {
     "cell_type": "markdown",
     "checksum": "db6aa99798190e2ee52f44f8a65f09a0",
     "grade": false,
     "grade_id": "cell-2e4c3a32c91ce85d",
     "locked": true,
     "schema_version": 3,
     "solution": false,
     "task": false
    }
   },
   "source": [
    "Let us analyze the data:\n",
    "\n",
    " 1. First, compare the data to the low-temperature case above. What changed?\n",
    "\n",
    " 2. Think of the data $X$ (first panel) as the sum of model plus difference (other panels).\n",
    "    Which qualitative features of the data are captured by the model, and what mainly is \"left over\"?\n",
    "    \n",
    " 3. Observe that the singular values of $X$ decay very differently in the case of\n",
    "    the ordered phase and the disordered phase.  Discuss the implications of this\n",
    "    for \"compressing\" the data.  Use it to resolve the following apparent contradiction: \n",
    "    **\"Randomness is information\"**.\n",
    "    "
   ]
  },
  {
   "cell_type": "markdown",
   "id": "severe-crack",
   "metadata": {
    "deletable": false,
    "nbgrader": {
     "cell_type": "markdown",
     "checksum": "2c1e1733b61498c65bb574e1a78ada16",
     "grade": true,
     "grade_id": "cell-d481902c6a94a815",
     "locked": false,
     "points": 3,
     "schema_version": 3,
     "solution": true,
     "task": false
    }
   },
   "source": [
    "YOUR ANSWER HERE"
   ]
  },
  {
   "cell_type": "code",
   "execution_count": null,
   "id": "aquatic-anime",
   "metadata": {},
   "outputs": [],
   "source": []
  },
  {
   "cell_type": "markdown",
   "id": "lucky-deputy",
   "metadata": {
    "deletable": false,
    "editable": false,
    "nbgrader": {
     "cell_type": "markdown",
     "checksum": "3baea21eda25b16a2e950b8b70ffae65",
     "grade": false,
     "grade_id": "cell-221f3307b858becc",
     "locked": true,
     "schema_version": 3,
     "solution": false,
     "task": false
    }
   },
   "source": [
    "Part 3: Principal Component Analysis\n",
    "------------------------------------------------\n",
    "\n",
    "Finally, let us perform a Principal Component Analysis (PCA).\n",
    "For this, we are going to use sklearn again, specifically the [PCA]\n",
    "class.\n",
    "\n",
    "Use the design matrix for $T = 1.75$ and perform a PCA with two\n",
    "components.\n",
    "\n",
    "[PCA]: https://scikit-learn.org/stable/modules/generated/sklearn.decomposition.PCA.html"
   ]
  },
  {
   "cell_type": "code",
   "execution_count": null,
   "id": "respiratory-elevation",
   "metadata": {},
   "outputs": [],
   "source": [
    "import sklearn.decomposition"
   ]
  },
  {
   "cell_type": "code",
   "execution_count": null,
   "id": "brutal-conviction",
   "metadata": {
    "deletable": false,
    "nbgrader": {
     "cell_type": "code",
     "checksum": "74c85d8f6f1c9eeda2ab6c8efc247dbc",
     "grade": true,
     "grade_id": "cell-34a586a0fc8592f4",
     "locked": false,
     "points": 1,
     "schema_version": 3,
     "solution": true,
     "task": false
    }
   },
   "outputs": [],
   "source": [
    "# YOUR CODE HERE\n",
    "raise NotImplementedError()"
   ]
  },
  {
   "cell_type": "markdown",
   "id": "abstract-modeling",
   "metadata": {
    "deletable": false,
    "editable": false,
    "nbgrader": {
     "cell_type": "markdown",
     "checksum": "d01c14e9eaff9fa339c5e3ae79f840d9",
     "grade": false,
     "grade_id": "cell-7536abf4d431435a",
     "locked": true,
     "schema_version": 3,
     "solution": false,
     "task": false
    }
   },
   "source": [
    "Reduce the design matrix $X$ to the principal space $\\tilde X = X W$\n",
    "and store it in `Xred`.\n",
    "Make a 2D scatter plot, where each observation is again a point,\n",
    "the first component refers to the first principal component and\n",
    "the second component to the second principal component.\n",
    "\n",
    "**Hint**: The matrix $W^T$ is is stored as `components_` in the PCA class. Note the transpose!"
   ]
  },
  {
   "cell_type": "code",
   "execution_count": null,
   "id": "balanced-protection",
   "metadata": {
    "deletable": false,
    "nbgrader": {
     "cell_type": "code",
     "checksum": "16c4d93ce110932d240fef51d7b9df8c",
     "grade": true,
     "grade_id": "cell-a51a308b866c2c1c",
     "locked": false,
     "points": 1,
     "schema_version": 3,
     "solution": true,
     "task": false
    }
   },
   "outputs": [],
   "source": [
    "# YOUR CODE HERE\n",
    "raise NotImplementedError()"
   ]
  },
  {
   "cell_type": "markdown",
   "id": "above-austin",
   "metadata": {
    "deletable": false,
    "editable": false,
    "nbgrader": {
     "cell_type": "markdown",
     "checksum": "6f5bdececdcccc485432b7b45018c3bd",
     "grade": false,
     "grade_id": "cell-650ccb3403ad05de",
     "locked": true,
     "schema_version": 3,
     "solution": false,
     "task": false
    }
   },
   "source": [
    "Speculate on what the first principal component may mainly correspond to?"
   ]
  },
  {
   "cell_type": "markdown",
   "id": "addressed-education",
   "metadata": {
    "deletable": false,
    "nbgrader": {
     "cell_type": "markdown",
     "checksum": "9c0a29948b84ff626f7c5441be61dd2e",
     "grade": true,
     "grade_id": "cell-0a7fc4b7ed7b0d85",
     "locked": false,
     "points": 1,
     "schema_version": 3,
     "solution": true,
     "task": false
    }
   },
   "source": [
    "YOUR ANSWER HERE"
   ]
  },
  {
   "cell_type": "code",
   "execution_count": null,
   "id": "falling-montreal",
   "metadata": {},
   "outputs": [],
   "source": []
  }
 ],
 "metadata": {
  "kernelspec": {
   "display_name": "Python 3",
   "language": "python",
   "name": "python3"
  },
  "language_info": {
   "codemirror_mode": {
    "name": "ipython",
    "version": 3
   },
   "file_extension": ".py",
   "mimetype": "text/x-python",
   "name": "python",
   "nbconvert_exporter": "python",
   "pygments_lexer": "ipython3",
   "version": "3.9.5"
  }
 },
 "nbformat": 4,
 "nbformat_minor": 5
}
