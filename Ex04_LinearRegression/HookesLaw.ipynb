{
 "cells": [
  {
   "cell_type": "markdown",
   "id": "owned-warehouse",
   "metadata": {
    "deletable": false,
    "editable": false,
    "nbgrader": {
     "cell_type": "markdown",
     "checksum": "1c6ccf4001dc43f0d46927b5663f3ca0",
     "grade": false,
     "grade_id": "cell-aad42e6d21664d4a",
     "locked": true,
     "schema_version": 3,
     "solution": false,
     "task": false
    }
   },
   "source": [
    "Hooke's Law\n",
    "==========\n",
    "\n",
    "We are going to \"learn\" Hooke's law from data.  I have provided you\n",
    "with some experiments, where I attached a weight $x$ to a spring\n",
    "and measured the elongation $y$ of the spring.\n",
    "\n",
    "You should follow the machine learning procedure to train a linear model\n",
    "$$\n",
    "    \\hat y = f(x; \\theta) = \\theta x\n",
    "$$\n",
    "and validate it against the data.  You should follow the step-by-step\n",
    "procedure outlined in the lecture.\n",
    "\n",
    "Step 1: Get data\n",
    "---------------\n",
    "\n",
    "You should find a text file `spring.dat` in your directory.  This file\n",
    "has a set of rows, each row containing `x y` ($x$ and associated $y$\n",
    "value).\n",
    "\n",
    "Use numpy's `loadtxt` function to load that data as a matrix and then\n",
    "write assign the first column to `x` and the second column to `y`."
   ]
  },
  {
   "cell_type": "code",
   "execution_count": null,
   "id": "quality-logan",
   "metadata": {},
   "outputs": [],
   "source": [
    "import numpy as np"
   ]
  },
  {
   "cell_type": "code",
   "execution_count": null,
   "id": "uniform-service",
   "metadata": {
    "deletable": false,
    "nbgrader": {
     "cell_type": "code",
     "checksum": "bb68cf967a50a36d02234827c85b8913",
     "grade": false,
     "grade_id": "cell-2373414ea8b9e67d",
     "locked": false,
     "schema_version": 3,
     "solution": true,
     "task": false
    }
   },
   "outputs": [],
   "source": [
    "# YOUR CODE HERE\n",
    "raise NotImplementedError()"
   ]
  },
  {
   "cell_type": "code",
   "execution_count": null,
   "id": "cloudy-string",
   "metadata": {},
   "outputs": [],
   "source": [
    "x"
   ]
  },
  {
   "cell_type": "code",
   "execution_count": null,
   "id": "scientific-barcelona",
   "metadata": {
    "deletable": false,
    "editable": false,
    "nbgrader": {
     "cell_type": "code",
     "checksum": "e7a72d49abd42b4d6e0a12e99da24af9",
     "grade": true,
     "grade_id": "cell-3b7eb01d2554915d",
     "locked": true,
     "points": 1,
     "schema_version": 3,
     "solution": false,
     "task": false
    }
   },
   "outputs": [],
   "source": [
    "assert (x, y) is not None\n",
    "assert x.shape == y.shape == (100,)\n",
    "np.testing.assert_allclose(x.sum(), 49.26, atol=1e-12, rtol=1e-12)\n",
    "np.testing.assert_allclose(y.sum(), 92.868096, atol=1e-12, rtol=1e-12)"
   ]
  },
  {
   "cell_type": "markdown",
   "id": "congressional-brain",
   "metadata": {},
   "source": [
    "Let's plot the data to get a feel:\n",
    "\n",
    "Make a plot of $y$ over $x$, but please **do not** connect\n",
    "the points using lines (you can just use a marker like `+` etc.\n",
    "as a plot style to not plot lines or alternatively use `pl.scatter`).\n",
    "\n",
    "Remember: plots have x and y axis labels!"
   ]
  },
  {
   "cell_type": "code",
   "execution_count": null,
   "id": "addressed-glory",
   "metadata": {
    "deletable": false,
    "nbgrader": {
     "cell_type": "code",
     "checksum": "50770c0de50a96798f933015bf64e6a6",
     "grade": true,
     "grade_id": "cell-b6d5429410770909",
     "locked": false,
     "points": 1,
     "schema_version": 3,
     "solution": true,
     "task": false
    }
   },
   "outputs": [],
   "source": [
    "# YOUR CODE HERE\n",
    "raise NotImplementedError()"
   ]
  },
  {
   "cell_type": "markdown",
   "id": "sticky-information",
   "metadata": {
    "deletable": false,
    "editable": false,
    "nbgrader": {
     "cell_type": "markdown",
     "checksum": "48297a84392684d7bfbb39b094634146",
     "grade": false,
     "grade_id": "cell-874412d0d2b357bd",
     "locked": true,
     "schema_version": 3,
     "solution": false,
     "task": false
    }
   },
   "source": [
    "Step 2: Split data into training and validation sets\n",
    "--------------------------------------------------------------\n",
    "\n",
    "Partition your data into two, about equally large, sets:\n",
    "\n",
    " - a training set with `xtrain` and corresponding `ytrain`\n",
    " - a validation set with `xtest` and corresponding `ytest`\n",
    " \n",
    "To avoid biasing your results, it is important to do this\n",
    "**randomly**.  For this we are going to use a random number\n",
    "generator (see next line).\n",
    "\n",
    "The simplest way of splitting up the data is then the following:\n",
    "\n",
    " * for each data point, generate a random number between 0 and 1.\n",
    " If that number is greater than 0.5, put the corresponding `x`\n",
    " and `y` into the validation set, otherwise put it in the training\n",
    " set.  Be careful not to separate pairs of `x` and `y`."
   ]
  },
  {
   "cell_type": "code",
   "execution_count": null,
   "id": "destroyed-volume",
   "metadata": {},
   "outputs": [],
   "source": [
    "# Creates a new pseudo-random number generator\n",
    "random = np.random.default_rng(4711)"
   ]
  },
  {
   "cell_type": "code",
   "execution_count": null,
   "id": "advised-ending",
   "metadata": {},
   "outputs": [],
   "source": [
    "# Get a random number uniformly distributed between 0 and 1\n",
    "random.uniform()"
   ]
  },
  {
   "cell_type": "code",
   "execution_count": null,
   "id": "sporting-professional",
   "metadata": {},
   "outputs": [],
   "source": [
    "# Another random number\n",
    "random.uniform()"
   ]
  },
  {
   "cell_type": "code",
   "execution_count": null,
   "id": "incomplete-installation",
   "metadata": {
    "deletable": false,
    "nbgrader": {
     "cell_type": "code",
     "checksum": "c53a09c4bc6a01585ab492130de85c9b",
     "grade": false,
     "grade_id": "cell-a13f1155d05deff6",
     "locked": false,
     "schema_version": 3,
     "solution": true,
     "task": false
    }
   },
   "outputs": [],
   "source": [
    "# You should fill the variables xtest, ytest, xtrain, ytrain here\n",
    "# YOUR CODE HERE\n",
    "raise NotImplementedError()"
   ]
  },
  {
   "cell_type": "code",
   "execution_count": null,
   "id": "periodic-personal",
   "metadata": {},
   "outputs": [],
   "source": []
  },
  {
   "cell_type": "code",
   "execution_count": null,
   "id": "hydraulic-yorkshire",
   "metadata": {
    "deletable": false,
    "editable": false,
    "nbgrader": {
     "cell_type": "code",
     "checksum": "2786681a4b266b46afafd60ff1f5298b",
     "grade": true,
     "grade_id": "cell-9879cdaea17f22b3",
     "locked": true,
     "points": 2,
     "schema_version": 3,
     "solution": false,
     "task": false
    }
   },
   "outputs": [],
   "source": [
    "assert (xtest, ytest, xtrain, ytrain) is not None\n",
    "assert xtest.size == ytest.size\n",
    "assert xtrain.size == ytrain.size\n",
    "assert xtest.size > 25 and xtest.size < 75\n",
    "\n",
    "dfull = np.sort(np.rec.fromarrays([x,y], names=\"x,y\"))\n",
    "dsplit = np.sort(np.rec.fromarrays(\n",
    "    [np.hstack([xtrain,xtest]), np.hstack([ytrain,ytest])],\n",
    "    names=\"x,y\"))\n",
    "np.testing.assert_allclose(\n",
    "    dfull[\"x\"], dsplit[\"x\"], err_msg='some x values are missing/incorrect')\n",
    "np.testing.assert_allclose(\n",
    "    dfull[\"y\"], dsplit[\"y\"], err_msg='some y values are missing/incorrect')\n",
    "del dfull, dsplit"
   ]
  },
  {
   "cell_type": "markdown",
   "id": "dedicated-swift",
   "metadata": {
    "deletable": false,
    "editable": false,
    "nbgrader": {
     "cell_type": "markdown",
     "checksum": "65338a6316a6e48e071bf297e5349c74",
     "grade": false,
     "grade_id": "cell-57eebed718d6a4d9",
     "locked": true,
     "schema_version": 3,
     "solution": false,
     "task": false
    }
   },
   "source": [
    "Let's again plot the training and validation set to make sure we haven't biased either set in any way.\n",
    "\n",
    "You should modify the plot above to plot x and y values in the training set as a point cloud\n",
    "and (in another color) the x and y values in the validation set.\n",
    "\n",
    "Be sure to give each set of points a **label** and also show a **legend**.  You can\n",
    "do so with `pl.plot(..., label='some label text')` and `pl.legend()`."
   ]
  },
  {
   "cell_type": "code",
   "execution_count": null,
   "id": "bottom-responsibility",
   "metadata": {
    "deletable": false,
    "nbgrader": {
     "cell_type": "code",
     "checksum": "09bfb47152aea332295080950705e7a0",
     "grade": true,
     "grade_id": "cell-c684f3284a9cc710",
     "locked": false,
     "points": 1,
     "schema_version": 3,
     "solution": true,
     "task": false
    }
   },
   "outputs": [],
   "source": [
    "# YOUR CODE HERE\n",
    "raise NotImplementedError()"
   ]
  },
  {
   "cell_type": "code",
   "execution_count": null,
   "id": "north-antigua",
   "metadata": {},
   "outputs": [],
   "source": []
  },
  {
   "cell_type": "markdown",
   "id": "prescribed-boards",
   "metadata": {},
   "source": [
    "Step 3: Formulate and train linear model\n",
    "--------------------------\n",
    "\n",
    "Let us now formulate our model and train it on the data.\n",
    "First let us define a model function `fmodel` that depends on\n",
    "a feature vector `x` and some parameters `theta` and\n",
    "predicts a label `y`.\n",
    "\n",
    "(Hint: `a.T` gives the transpose of a numpy array `a`)"
   ]
  },
  {
   "cell_type": "code",
   "execution_count": null,
   "id": "portuguese-contractor",
   "metadata": {
    "deletable": false,
    "nbgrader": {
     "cell_type": "code",
     "checksum": "4f1526c57254076dade85e4fcf38fb92",
     "grade": false,
     "grade_id": "cell-43da1dc719f62aad",
     "locked": false,
     "schema_version": 3,
     "solution": true,
     "task": false
    }
   },
   "outputs": [],
   "source": [
    "def fmodel(x, theta):\n",
    "    # YOUR CODE HERE\n",
    "    raise NotImplementedError()"
   ]
  },
  {
   "cell_type": "code",
   "execution_count": null,
   "id": "labeled-struggle",
   "metadata": {
    "deletable": false,
    "editable": false,
    "nbgrader": {
     "cell_type": "code",
     "checksum": "82690cd32e05ce965698ef91e9a50f86",
     "grade": true,
     "grade_id": "cell-37d5287b286e5065",
     "locked": true,
     "points": 1,
     "schema_version": 3,
     "solution": false,
     "task": false
    }
   },
   "outputs": [],
   "source": [
    "assert fmodel(np.array([2]), np.array([8])) == 16\n",
    "assert fmodel(np.array([2,4]), np.array([8,2])) == 24\n",
    "assert fmodel(np.array([1.0,1.0,1.0]), np.array([8.0,2.0,5.0])) == 15.0"
   ]
  },
  {
   "cell_type": "code",
   "execution_count": null,
   "id": "pregnant-teddy",
   "metadata": {},
   "outputs": [],
   "source": []
  },
  {
   "cell_type": "markdown",
   "id": "eligible-greeting",
   "metadata": {
    "deletable": false,
    "editable": false,
    "nbgrader": {
     "cell_type": "markdown",
     "checksum": "c0faa86ae578079c0103197596d530bb",
     "grade": false,
     "grade_id": "cell-73a410820d621d78",
     "locked": true,
     "schema_version": 3,
     "solution": false,
     "task": false
    }
   },
   "source": [
    "Let us train the parameter `theta` now on the training set data.\n",
    "\n",
    "For this, first take the label vector of all the $y$ values in the training set\n",
    "and also create the design matrix $X$, i.e., a matrix where the rows correspond to\n",
    "observations and columns correspond to features in $x$.\n",
    "\n",
    "Then solve the **normal equations** to get the fitted value of theta.\n",
    "\n",
    "(Hint: `np.reshape`)"
   ]
  },
  {
   "cell_type": "code",
   "execution_count": null,
   "id": "funky-pastor",
   "metadata": {
    "deletable": false,
    "nbgrader": {
     "cell_type": "code",
     "checksum": "9f48e3cb20d5fd1d5f4cdccd6f3fc8e4",
     "grade": false,
     "grade_id": "cell-0889990905d2379d",
     "locked": false,
     "schema_version": 3,
     "solution": true,
     "task": false
    }
   },
   "outputs": [],
   "source": [
    "# YOUR CODE HERE\n",
    "raise NotImplementedError()"
   ]
  },
  {
   "cell_type": "code",
   "execution_count": null,
   "id": "innovative-webster",
   "metadata": {},
   "outputs": [],
   "source": [
    "theta"
   ]
  },
  {
   "cell_type": "code",
   "execution_count": null,
   "id": "marked-french",
   "metadata": {
    "deletable": false,
    "editable": false,
    "nbgrader": {
     "cell_type": "code",
     "checksum": "59a019260d2a048816229abf3f5f7525",
     "grade": true,
     "grade_id": "cell-8c88150e0f3e8283",
     "locked": true,
     "points": 2,
     "schema_version": 3,
     "solution": false,
     "task": false
    }
   },
   "outputs": [],
   "source": [
    "lyx different user dirassert theta is not None\n",
    "assert theta > 1.2 and theta < 2.5\n"
   ]
  },
  {
   "cell_type": "code",
   "execution_count": null,
   "id": "increasing-announcement",
   "metadata": {},
   "outputs": [],
   "source": []
  },
  {
   "cell_type": "markdown",
   "id": "confidential-helicopter",
   "metadata": {},
   "source": [
    "Step 4: Validate results\n",
    "----------------------------\n",
    "Now that we have trained our model, we should check if the model gives\n",
    "useful results for the validation set.  **This is the crucial step in learning\n",
    "that separates it from pure model fitting**.\n",
    "\n",
    "First, since our data is so low-dimensional, we can actually plot the\n",
    "model prediction together with the validation set.  Modify the plot above\n",
    "to (1) only plot the points in the validation set and (2) plot a line\n",
    "$\\hat y = f(x)$ corresponding to the linear model. Do not forget\n",
    "labels and legend!\n",
    "\n",
    "Hint: you can use `np.linspace` to get a vector equally spaced points."
   ]
  },
  {
   "cell_type": "code",
   "execution_count": null,
   "id": "interracial-hygiene",
   "metadata": {
    "deletable": false,
    "nbgrader": {
     "cell_type": "code",
     "checksum": "52b531e89a6b9616c3df897ca689d948",
     "grade": true,
     "grade_id": "cell-22246ec659cc4695",
     "locked": false,
     "points": 1,
     "schema_version": 3,
     "solution": true,
     "task": false
    }
   },
   "outputs": [],
   "source": [
    "# YOUR CODE HERE\n",
    "raise NotImplementedError()"
   ]
  },
  {
   "cell_type": "code",
   "execution_count": null,
   "id": "following-store",
   "metadata": {},
   "outputs": [],
   "source": []
  },
  {
   "cell_type": "markdown",
   "id": "portable-above",
   "metadata": {},
   "source": [
    "We are striving for a more quantitative approach: to do so, we are going to\n",
    "define the **loss function**, which takes a vector of `x` points, a vector\n",
    "of `y` points and the model parameter `theta`, and returns the loss:\n",
    "$$\n",
    "    \\operatorname{loss}(x,y,\\theta) = \\sum_n |y_n - f(x_n; \\theta)|^2\n",
    "$$"
   ]
  },
  {
   "cell_type": "code",
   "execution_count": null,
   "id": "reported-nirvana",
   "metadata": {
    "deletable": false,
    "nbgrader": {
     "cell_type": "code",
     "checksum": "0a11d93a4c5d437845de537eb3f9fd22",
     "grade": false,
     "grade_id": "cell-2569b90aa480fbbf",
     "locked": false,
     "schema_version": 3,
     "solution": true,
     "task": false
    }
   },
   "outputs": [],
   "source": [
    "def loss(x, y, theta):\n",
    "    # YOUR CODE HERE\n",
    "    raise NotImplementedError()"
   ]
  },
  {
   "cell_type": "code",
   "execution_count": null,
   "id": "accepting-reception",
   "metadata": {},
   "outputs": [],
   "source": []
  },
  {
   "cell_type": "code",
   "execution_count": null,
   "id": "supported-mileage",
   "metadata": {
    "deletable": false,
    "editable": false,
    "nbgrader": {
     "cell_type": "code",
     "checksum": "fc5e3d2db8c54e8c1dc16987e12ea282",
     "grade": true,
     "grade_id": "cell-91438da114101c7b",
     "locked": true,
     "points": 1,
     "schema_version": 3,
     "solution": false,
     "task": false
    }
   },
   "outputs": [],
   "source": [
    "assert loss(xtrain, ytrain, theta) > 0\n"
   ]
  },
  {
   "cell_type": "code",
   "execution_count": null,
   "id": "taken-pearl",
   "metadata": {},
   "outputs": [],
   "source": []
  },
  {
   "cell_type": "markdown",
   "id": "nominated-method",
   "metadata": {},
   "source": [
    "Now we compute the loss for the training set and the validation set\n",
    "\n",
    "(called the \"in\"-error and the \"out\"-error)"
   ]
  },
  {
   "cell_type": "code",
   "execution_count": null,
   "id": "large-sunset",
   "metadata": {},
   "outputs": [],
   "source": [
    "E_in = loss(xtrain, ytrain, theta)\n",
    "print (\"Training ('in') error:    %.4g\" % E_in)"
   ]
  },
  {
   "cell_type": "code",
   "execution_count": null,
   "id": "beautiful-toolbox",
   "metadata": {},
   "outputs": [],
   "source": [
    "E_out = loss(xtest, ytest, theta)\n",
    "print (\"Validation ('out') error: %.4g\" % E_out)"
   ]
  },
  {
   "cell_type": "markdown",
   "id": "institutional-navigator",
   "metadata": {
    "deletable": false,
    "editable": false,
    "nbgrader": {
     "cell_type": "markdown",
     "checksum": "138b9747c7fcdf0f92ddcd033e06bb8e",
     "grade": false,
     "grade_id": "cell-ec86f33e54a8c98c",
     "locked": true,
     "schema_version": 3,
     "solution": false,
     "task": false
    }
   },
   "source": [
    "Observe that these values are similar in magnitude.\n",
    "\n",
    " a) What does this mean for the \"learning procedure\"?\n",
    "\n",
    " b) What would we have to conclude if the validation loss had been much greater than the training loss?\n",
    " "
   ]
  },
  {
   "cell_type": "markdown",
   "id": "educational-consumer",
   "metadata": {
    "deletable": false,
    "nbgrader": {
     "cell_type": "markdown",
     "checksum": "9c9186d1bcb45df18dda58da1ec24946",
     "grade": true,
     "grade_id": "cell-69463a6c379a3179",
     "locked": false,
     "points": 2,
     "schema_version": 3,
     "solution": true,
     "task": false
    }
   },
   "source": [
    "YOUR ANSWER HERE"
   ]
  },
  {
   "cell_type": "code",
   "execution_count": null,
   "id": "bound-clerk",
   "metadata": {},
   "outputs": [],
   "source": []
  },
  {
   "cell_type": "markdown",
   "id": "emerging-immigration",
   "metadata": {},
   "source": [
    "Epilogue\n",
    "---------\n",
    "\n",
    "I lied to you.\n",
    "\n",
    "You did not actually fit Hooke's law.  You instead fitted a normalized expected salary $y$ of\n",
    "a job seeker based on a proprietary aptitude score $x$, calculated at the Department of Public Employment Service and Obsolescence Support (PESOS).\n",
    "\n",
    "The top brass at PESOS are quite impressed with the model and want it to form the basis of a more\n",
    "efficient distribution of funds to apt job seekers.  Reasons given:\n",
    "\n",
    " 1. The model is fair, because it does not rely on human input.\n",
    " \n",
    " 2. The model is based on cutting-edge technology, therefore it is trustworthy.\n",
    " \n",
    "Discuss (briefly, I have a meeting later with them)."
   ]
  },
  {
   "cell_type": "markdown",
   "id": "ready-replica",
   "metadata": {
    "deletable": false,
    "nbgrader": {
     "cell_type": "markdown",
     "checksum": "bf26d9b8a6de50e6ad6724ca8d2b00f2",
     "grade": true,
     "grade_id": "cell-d5fc2c1ea7ffa5c2",
     "locked": false,
     "points": 1,
     "schema_version": 3,
     "solution": true,
     "task": false
    }
   },
   "source": [
    "YOUR ANSWER HERE"
   ]
  },
  {
   "cell_type": "code",
   "execution_count": null,
   "id": "balanced-greece",
   "metadata": {},
   "outputs": [],
   "source": []
  }
 ],
 "metadata": {
  "kernelspec": {
   "display_name": "Python 3",
   "language": "python",
   "name": "python3"
  },
  "language_info": {
   "codemirror_mode": {
    "name": "ipython",
    "version": 3
   },
   "file_extension": ".py",
   "mimetype": "text/x-python",
   "name": "python",
   "nbconvert_exporter": "python",
   "pygments_lexer": "ipython3",
   "version": "3.8.6"
  }
 },
 "nbformat": 4,
 "nbformat_minor": 5
}
