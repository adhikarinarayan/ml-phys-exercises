{
 "cells": [
  {
   "cell_type": "markdown",
   "id": "sound-career",
   "metadata": {
    "deletable": false,
    "editable": false,
    "nbgrader": {
     "cell_type": "markdown",
     "checksum": "d766ea008e1b94dc379412e0e63cf013",
     "grade": false,
     "grade_id": "cell-54bcd50d39446903",
     "locked": true,
     "schema_version": 3,
     "solution": false,
     "task": false
    }
   },
   "source": [
    "Fitting Polynomials\n",
    "================\n",
    "\n",
    "In this exercise, we are going to explore the bias–variance tradeoff\n",
    "on a illustrative problem, polynomial fitting.\n",
    "\n",
    "We are now going to use the following generalized linear model\n",
    "$$\n",
    "f(x; \\vec\\theta) = \\sum_{k=0}^{K-1} \\theta_k f_k(x) = \\theta_0 + \\theta_1 x + \\ldots \\theta_{K-1} x^{K-1},\n",
    "$$\n",
    "i.e., one has $f_k(x) = x^k$.  (Note that we are indexing slightly\n",
    "differently than in the lecture because numpy indices start at zero.)\n",
    "\n",
    "Write `f_k`, which implements $f_k(x)$, and also a function `fmodel`, which implements $f(x; \\vec\\theta)$ above"
   ]
  },
  {
   "cell_type": "code",
   "execution_count": null,
   "id": "aging-premises",
   "metadata": {},
   "outputs": [],
   "source": [
    "import numpy as np\n",
    "import matplotlib.pyplot as pl"
   ]
  },
  {
   "cell_type": "code",
   "execution_count": null,
   "id": "necessary-maple",
   "metadata": {
    "deletable": false,
    "nbgrader": {
     "cell_type": "code",
     "checksum": "82025b539d1153d3cb513e7a420b1009",
     "grade": false,
     "grade_id": "cell-99dfa0524a14b0fe",
     "locked": false,
     "schema_version": 3,
     "solution": true,
     "task": false
    }
   },
   "outputs": [],
   "source": [
    "def f_k(k, x):\n",
    "    # YOUR CODE HERE\n",
    "    raise NotImplementedError()\n",
    "    \n",
    "def fmodel(x, theta):\n",
    "    # YOUR CODE HERE\n",
    "    raise NotImplementedError()"
   ]
  },
  {
   "cell_type": "code",
   "execution_count": null,
   "id": "middle-reader",
   "metadata": {
    "deletable": false,
    "editable": false,
    "nbgrader": {
     "cell_type": "code",
     "checksum": "e4df344ea8fd8346b9139a607fa29852",
     "grade": true,
     "grade_id": "cell-29a5d6d1a42e7b4e",
     "locked": true,
     "points": 1,
     "schema_version": 3,
     "solution": false,
     "task": false
    }
   },
   "outputs": [],
   "source": [
    "np.testing.assert_allclose(f_k(0, 3.0), 1.0)\n",
    "np.testing.assert_allclose(f_k(1, 2.5), 2.5)\n",
    "np.testing.assert_allclose(f_k(2, 4.0), 16.0)\n",
    "\n",
    "np.testing.assert_allclose(fmodel(3.0, np.array([.4])), 0.4)\n",
    "np.testing.assert_allclose(fmodel(1.0, np.array([.7, 0.5])), 1.2)\n",
    "np.testing.assert_allclose(fmodel(1.0, np.array([.7, 0.5])), 1.2)\n"
   ]
  },
  {
   "cell_type": "markdown",
   "id": "accomplished-disaster",
   "metadata": {
    "deletable": false,
    "editable": false,
    "nbgrader": {
     "cell_type": "markdown",
     "checksum": "adc70a12982ed446bae7340a0daebc67",
     "grade": false,
     "grade_id": "cell-e70b5e7d96128bb0",
     "locked": true,
     "schema_version": 3,
     "solution": false,
     "task": false
    }
   },
   "source": [
    "Load and randomize data set\n",
    "-------------------------------------\n",
    "Instead of needing to randomly select the data by throwing dice,\n",
    "a simpler technique is to just randomize the observations.  Afterwards,\n",
    "we can simply select to first $n$ rows and be sure we are not biasing\n",
    "our calculations.\n",
    "\n",
    " 1. Use numpy's `loadtxt` function to again load a data matrix, where\n",
    "    each row corresponds to an observation with $x$ and $y$ value,\n",
    "    from a file `poly.txt`.\n",
    "  \n",
    " 2. Randomly permute the rows in the data matrix (Hint: look\n",
    "    through the methods for `random`)\n",
    " \n",
    " 3. Again split up the result into a `x` and `y` vector."
   ]
  },
  {
   "cell_type": "code",
   "execution_count": null,
   "id": "novel-lease",
   "metadata": {},
   "outputs": [],
   "source": [
    "random = np.random.default_rng(4712)"
   ]
  },
  {
   "cell_type": "code",
   "execution_count": null,
   "id": "grand-contrary",
   "metadata": {
    "deletable": false,
    "nbgrader": {
     "cell_type": "code",
     "checksum": "a3bc711d0f315ad28d2d954c44d1c774",
     "grade": false,
     "grade_id": "cell-4f21642c224a9950",
     "locked": false,
     "schema_version": 3,
     "solution": true,
     "task": false
    }
   },
   "outputs": [],
   "source": [
    "# YOUR CODE HERE\n",
    "raise NotImplementedError()"
   ]
  },
  {
   "cell_type": "code",
   "execution_count": null,
   "id": "unavailable-clear",
   "metadata": {},
   "outputs": [],
   "source": [
    "print(x[:5])\n",
    "print(y[:5])"
   ]
  },
  {
   "cell_type": "code",
   "execution_count": null,
   "id": "controlled-genealogy",
   "metadata": {},
   "outputs": [],
   "source": []
  },
  {
   "cell_type": "code",
   "execution_count": null,
   "id": "governing-clerk",
   "metadata": {
    "deletable": false,
    "editable": false,
    "nbgrader": {
     "cell_type": "code",
     "checksum": "870f855f31681c45f58879121201fb6a",
     "grade": true,
     "grade_id": "cell-b34e636ead172827",
     "locked": true,
     "points": 1,
     "schema_version": 3,
     "solution": false,
     "task": false
    }
   },
   "outputs": [],
   "source": [
    "assert (x, y) is not None\n",
    "\n",
    "# Check if permutation did not mess up stuff\n",
    "_sorted = np.sort(np.rec.fromarrays([x,y], names='x,y'))\n",
    "np.testing.assert_allclose(_sorted.x, np.loadtxt('poly.txt')[:,0])\n",
    "np.testing.assert_allclose(_sorted.y, np.loadtxt('poly.txt')[:,1])\n",
    "\n",
    "# Check for randomness...\n",
    "sortedx = (x[1:] > x[:-1]).sum()\n",
    "assert sortedx > .3 * x.size and sortedx < .7 * x.size"
   ]
  },
  {
   "cell_type": "markdown",
   "id": "collectible-legend",
   "metadata": {
    "deletable": false,
    "editable": false,
    "nbgrader": {
     "cell_type": "markdown",
     "checksum": "547b5bc134fd3f1337143f8f4736c71a",
     "grade": false,
     "grade_id": "cell-29e5d44f4764aa86",
     "locked": true,
     "schema_version": 3,
     "solution": false,
     "task": false
    }
   },
   "source": [
    "Let's check if we did a good job on randomizing the data.\n",
    "There is a cute way of doing this:\n",
    "\n",
    "We again do a scatter plot (`pl.scatter`), where I plot `y`\n",
    "over `x`.  These plots allow you to use **color** to attach\n",
    "information to each data point.\n",
    "We want color to represent the position of the observation\n",
    "within the array, so we simply pass a vector with an indices.\n",
    "If you like, you can play around with the [`cmap` argument].\n",
    "\n",
    "If the resulting plot looks a little bit like an impressionist\n",
    "painting, which the colors nicely scattered, then you did a\n",
    "good job randomizing.  If you can spot a visible gradient, then\n",
    "it means that position and index are correlated, and something\n",
    "went wrong in the randomization.\n",
    "\n",
    "[`cmap` argument]: https://matplotlib.org/stable/tutorials/colors/colormaps.html"
   ]
  },
  {
   "cell_type": "code",
   "execution_count": null,
   "id": "polar-match",
   "metadata": {},
   "outputs": [],
   "source": [
    "pl.scatter(x, y, c=np.arange(1000), s=5)\n",
    "pl.xlabel('$x_n$')\n",
    "pl.ylabel('$y_n$')\n",
    "pl.title('data set')\n",
    "pl.colorbar(label='$n$')"
   ]
  },
  {
   "cell_type": "code",
   "execution_count": null,
   "id": "positive-documentation",
   "metadata": {},
   "outputs": [],
   "source": []
  },
  {
   "cell_type": "markdown",
   "id": "charged-physiology",
   "metadata": {
    "deletable": false,
    "editable": false,
    "nbgrader": {
     "cell_type": "markdown",
     "checksum": "e3c3c0515ce387c8db27a57d919a4a9a",
     "grade": false,
     "grade_id": "cell-f342077a42b4417f",
     "locked": true,
     "schema_version": 3,
     "solution": false,
     "task": false
    }
   },
   "source": [
    "Generalized linear model\n",
    "------------------------------\n",
    "Let's fix the maximum polynomial order at $Kmax=20$.\n",
    "\n",
    "Now you should construct an augmented \"design matrix\" `Xtilde` with `N=1000`\n",
    "rows, corresponding to the observations, and `Kmax=20` columns with the\n",
    "element $X_{kn} = \\tilde x_{n,k} = f_k(x_n)$, i.e., the $k$-th feature of the\n",
    "$n$-th observation."
   ]
  },
  {
   "cell_type": "code",
   "execution_count": null,
   "id": "elementary-coordinator",
   "metadata": {
    "deletable": false,
    "nbgrader": {
     "cell_type": "code",
     "checksum": "b7549789e2624f9b45b71c32065872d0",
     "grade": false,
     "grade_id": "cell-fa5049dd3dcf51a0",
     "locked": false,
     "schema_version": 3,
     "solution": true,
     "task": false
    }
   },
   "outputs": [],
   "source": [
    "# YOUR CODE HERE\n",
    "raise NotImplementedError()"
   ]
  },
  {
   "cell_type": "code",
   "execution_count": null,
   "id": "great-offer",
   "metadata": {},
   "outputs": [],
   "source": [
    "Xtilde[:4, :4]"
   ]
  },
  {
   "cell_type": "code",
   "execution_count": null,
   "id": "buried-harbor",
   "metadata": {},
   "outputs": [],
   "source": []
  },
  {
   "cell_type": "code",
   "execution_count": null,
   "id": "relative-planning",
   "metadata": {
    "deletable": false,
    "editable": false,
    "nbgrader": {
     "cell_type": "code",
     "checksum": "d660b0098af19de0ad1f09b2228a4255",
     "grade": true,
     "grade_id": "cell-be2ab51fbc6fe851",
     "locked": true,
     "points": 1,
     "schema_version": 3,
     "solution": false,
     "task": false
    }
   },
   "outputs": [],
   "source": [
    "assert (Xtilde,) is not None\n",
    "assert Xtilde.shape == (1000, 20)\n",
    "\n",
    "_rowsums = [\n",
    "    1.00000000e+03,  2.74192173e+01,  1.26907921e+03,  6.80383109e+01,\n",
    "    3.03906894e+03,  1.55539066e+02,  8.77137073e+03,  3.07412343e+02,\n",
    "    2.76456589e+04,  3.21997393e+02,  9.16437544e+04, -1.40425556e+03,\n",
    "    3.13851105e+05, -1.36666460e+04,  1.09962081e+06, -7.87415634e+04,\n",
    "    3.91828369e+06, -3.86712415e+05,  1.41452574e+07, -1.75920784e+06]\n",
    "np.testing.assert_allclose(Xtilde[:,:].sum(0), _rowsums)"
   ]
  },
  {
   "cell_type": "markdown",
   "id": "stunning-prompt",
   "metadata": {
    "deletable": false,
    "editable": false,
    "nbgrader": {
     "cell_type": "markdown",
     "checksum": "b4ca939aaeb26412c1c14b3dc128b850",
     "grade": false,
     "grade_id": "cell-a9af918d2fe8eace",
     "locked": true,
     "schema_version": 3,
     "solution": false,
     "task": false
    }
   },
   "source": [
    "Write the corresponding model function `fmodel_lin` which maps elements `xtilde` ($\\tilde x_n$)\n",
    "to the predicted $y$ (note that this is now a linear model!), given the\n",
    "model parameters `theta`:\n",
    "$$\n",
    "    \\hat y_n = f_\\mathrm{lin}(\\tilde x_n; \\vec\\theta)\n",
    "$$\n",
    "\n",
    "Also implement the cost function, and include a Ridge regularization term,\n",
    "weighted with `lambda_`:\n",
    "$$\n",
    "    \\operatorname{cost}(\\tilde X, \\vec y; \\vec\\theta, \\lambda) \n",
    "    =  \\sum_{n=1}^N | y_n - f(\\tilde x_n; \\vec\\theta) |^2 + \\mbox{(Ridge regularization term)}\n",
    "$$\n",
    "You should not use hardcoded values for $N$ or $K$ since we will change them\n",
    "later - infer them from the size of the arguments instead."
   ]
  },
  {
   "cell_type": "code",
   "execution_count": null,
   "id": "vietnamese-joyce",
   "metadata": {
    "deletable": false,
    "nbgrader": {
     "cell_type": "code",
     "checksum": "c9d992fd2d62ff8f72a9288350f6aa80",
     "grade": false,
     "grade_id": "cell-96a9780761ec8542",
     "locked": false,
     "schema_version": 3,
     "solution": true,
     "task": false
    }
   },
   "outputs": [],
   "source": [
    "def fmodel_lin(xtilde, theta):\n",
    "    # Here is a check for your convenience\n",
    "    if np.ndim(xtilde) != 1 or np.shape(xtilde) != np.shape(theta):\n",
    "        raise ValueError(\"xtilde and theta must be vectors of equal size\")\n",
    "\n",
    "    # You should implement the logic here:\n",
    "    # YOUR CODE HERE\n",
    "    raise NotImplementedError()\n",
    "    \n",
    "def cost(Xtilde, y, theta, lambda_=0):\n",
    "    # YOUR CODE HERE\n",
    "    raise NotImplementedError()"
   ]
  },
  {
   "cell_type": "code",
   "execution_count": null,
   "id": "special-justice",
   "metadata": {},
   "outputs": [],
   "source": []
  },
  {
   "cell_type": "code",
   "execution_count": null,
   "id": "wireless-treasure",
   "metadata": {
    "deletable": false,
    "editable": false,
    "nbgrader": {
     "cell_type": "code",
     "checksum": "718e21336d3e7a06b6b1e9657e3d61f1",
     "grade": true,
     "grade_id": "cell-68408d26d2f8be09",
     "locked": true,
     "points": 2,
     "schema_version": 3,
     "solution": false,
     "task": false
    }
   },
   "outputs": [],
   "source": [
    "_theta_dummy = np.exp(-np.arange(20))\n",
    "np.testing.assert_allclose(fmodel_lin(np.ones(20), _theta_dummy), _theta_dummy.sum())\n",
    "\n",
    "np.testing.assert_allclose(cost(Xtilde, y, _theta_dummy), 8088.8421161)\n",
    "np.testing.assert_allclose(cost(Xtilde[:,:10], y, _theta_dummy[:10]), 8057.3235038)\n",
    "\n",
    "np.testing.assert_allclose(cost(Xtilde, y, _theta_dummy, 1.0), 8089.99863374)\n",
    "np.testing.assert_allclose(cost(Xtilde, y, _theta_dummy, 10.0), 8204.49388)"
   ]
  },
  {
   "cell_type": "code",
   "execution_count": null,
   "id": "efficient-probability",
   "metadata": {},
   "outputs": [],
   "source": [
    "cost(Xtilde, y, _theta_dummy, 10.0)"
   ]
  },
  {
   "cell_type": "markdown",
   "id": "professional-jones",
   "metadata": {
    "deletable": false,
    "editable": false,
    "nbgrader": {
     "cell_type": "markdown",
     "checksum": "929e363638dad04398ffda2c76b21fce",
     "grade": false,
     "grade_id": "cell-2a33bd865a2fd7cf",
     "locked": true,
     "schema_version": 3,
     "solution": false,
     "task": false
    }
   },
   "source": [
    "We need one final function: one which minimizes the `cost` function for given $\\tilde X$, $y$\n",
    "and $\\lambda$ and returns the optimal parameters $\\theta^*$:\n",
    "$$\n",
    "    \\theta^* = \\arg\\min_\\theta \\operatorname{cost}(\\tilde X, \\vec y; \\vec\\theta, \\lambda)\n",
    "$$\n",
    "Use the regularized normal equations to solve:"
   ]
  },
  {
   "cell_type": "code",
   "execution_count": null,
   "id": "reduced-apache",
   "metadata": {
    "deletable": false,
    "nbgrader": {
     "cell_type": "code",
     "checksum": "208026fbd4d7d0d7dffba2002be3864c",
     "grade": false,
     "grade_id": "cell-4ba68adb60177857",
     "locked": false,
     "schema_version": 3,
     "solution": true,
     "task": false
    }
   },
   "outputs": [],
   "source": [
    "def ridge_regression(Xtilde, y, lambda_=0):\n",
    "    # YOUR CODE HERE\n",
    "    raise NotImplementedError()"
   ]
  },
  {
   "cell_type": "code",
   "execution_count": null,
   "id": "initial-secretariat",
   "metadata": {},
   "outputs": [],
   "source": [
    "ridge_regression(Xtilde, y)"
   ]
  },
  {
   "cell_type": "code",
   "execution_count": null,
   "id": "canadian-gather",
   "metadata": {
    "deletable": false,
    "editable": false,
    "nbgrader": {
     "cell_type": "code",
     "checksum": "21eb8f1c951200072c8c9a50b04e559a",
     "grade": true,
     "grade_id": "cell-e6f9d05254627411",
     "locked": true,
     "points": 1,
     "schema_version": 3,
     "solution": false,
     "task": false
    }
   },
   "outputs": [],
   "source": [
    "assert ridge_regression(Xtilde, y).shape == (20,)\n",
    "\n",
    "# Use reduced set here because of numerical instability otherwise\n",
    "np.testing.assert_allclose(\n",
    "    ridge_regression(Xtilde[:,:3], y), [ 1.47642395, -1.16072359,  0.69449246])\n",
    "np.testing.assert_allclose(\n",
    "    ridge_regression(Xtilde[:,:3], y, 1.0), [ 1.47390794, -1.15979829,  0.69529362])\n",
    "np.testing.assert_allclose(\n",
    "    ridge_regression(Xtilde[:,:3], y, 2.0), [ 1.46643194, -1.15703091,  0.69766407])"
   ]
  },
  {
   "cell_type": "code",
   "execution_count": null,
   "id": "basic-words",
   "metadata": {},
   "outputs": [],
   "source": []
  },
  {
   "cell_type": "markdown",
   "id": "unsigned-alexandria",
   "metadata": {
    "deletable": false,
    "editable": false,
    "nbgrader": {
     "cell_type": "markdown",
     "checksum": "351a6ea968566e0e41402ccf969606cd",
     "grade": false,
     "grade_id": "cell-315b5a2693305317",
     "locked": true,
     "schema_version": 3,
     "solution": false,
     "task": false
    }
   },
   "source": [
    "Polynomial fit\n",
    "--------------------\n",
    "\n",
    "With all those functions we are finally ready to tackle polynomial fitting.\n",
    "\n",
    "Again split your data, `Xtilde` and `y`, into two sets, where you should put half\n",
    "into the training set (`Xtilde_train`, `y_train`) and half into the validation set\n",
    "(`Xtilde_test`, `y_test`).  In total, there should be `N` observations, where\n",
    "`N` can be smaller than the total number of points we have in our set.\n",
    "\n",
    "Since we have previously randomized the data, this simplifies our job: say, N=100,\n",
    "then we simply put the first 50 observations in the training set and the next 50\n",
    "observations into the validation set.\n",
    "\n",
    "We want to study how the data as we increase or reduce the polynomial order.\n",
    "To do so, truncate the design matrices to the first `K` features (thereby enforcing\n",
    "fitting with a polynomial of order `K`).\n",
    "\n",
    "**Note**: numpy may get confused if you use floating point numbers as indices. You\n",
    "can pass a number through the `int()` function to truncate the fractional part."
   ]
  },
  {
   "cell_type": "code",
   "execution_count": null,
   "id": "advance-conditioning",
   "metadata": {},
   "outputs": [],
   "source": [
    "K = 10\n",
    "N = 100"
   ]
  },
  {
   "cell_type": "code",
   "execution_count": null,
   "id": "piano-click",
   "metadata": {
    "deletable": false,
    "nbgrader": {
     "cell_type": "code",
     "checksum": "4eca65d27803b9d87886aefea4820538",
     "grade": false,
     "grade_id": "cell-839a176e820cd757",
     "locked": false,
     "schema_version": 3,
     "solution": true,
     "task": false
    }
   },
   "outputs": [],
   "source": [
    "# Fill Xtilde_train, y_train, Xtilde_test, y_test here\n",
    "# YOUR CODE HERE\n",
    "raise NotImplementedError()"
   ]
  },
  {
   "cell_type": "code",
   "execution_count": null,
   "id": "silent-george",
   "metadata": {},
   "outputs": [],
   "source": [
    "y_test"
   ]
  },
  {
   "cell_type": "code",
   "execution_count": null,
   "id": "annual-confidence",
   "metadata": {},
   "outputs": [],
   "source": []
  },
  {
   "cell_type": "code",
   "execution_count": null,
   "id": "fundamental-apparatus",
   "metadata": {
    "deletable": false,
    "editable": false,
    "nbgrader": {
     "cell_type": "code",
     "checksum": "13f6dd3f2e3ba158485722542431dfd5",
     "grade": true,
     "grade_id": "cell-5c5e5299c4cc4287",
     "locked": true,
     "points": 1,
     "schema_version": 3,
     "solution": false,
     "task": false
    }
   },
   "outputs": [],
   "source": [
    "assert (Xtilde_train, Xtilde_test, y_train, y_test) is not None\n",
    "assert Xtilde_train.shape == (N//2, K)\n",
    "assert Xtilde_test.shape == (N//2, K)\n",
    "assert y_train.shape == (N//2,)\n",
    "assert y_test.shape == (N//2,)"
   ]
  },
  {
   "cell_type": "markdown",
   "id": "fewer-republican",
   "metadata": {},
   "source": [
    "Perform Ridge regression on the training set for `lambda_=0` for now, and plot the fitted\n",
    "curve as well as the points in the validation set (see last exercise).\n",
    "\n",
    "Hint: for the plotting the $x$ values, observe that they are still present in one of the\n",
    "columns of `Xtilde`.\n",
    "\n",
    "Don't forget labels and a legend!"
   ]
  },
  {
   "cell_type": "code",
   "execution_count": null,
   "id": "lucky-archive",
   "metadata": {},
   "outputs": [],
   "source": [
    "lambda_ = 0"
   ]
  },
  {
   "cell_type": "code",
   "execution_count": null,
   "id": "prompt-medicaid",
   "metadata": {
    "deletable": false,
    "nbgrader": {
     "cell_type": "code",
     "checksum": "1c928b08425f3e545874b9098862e986",
     "grade": true,
     "grade_id": "cell-6cf95d4a3b3e0f5b",
     "locked": false,
     "points": 2,
     "schema_version": 3,
     "solution": true,
     "task": false
    }
   },
   "outputs": [],
   "source": [
    "# YOUR CODE HERE\n",
    "raise NotImplementedError()"
   ]
  },
  {
   "cell_type": "markdown",
   "id": "happy-louisiana",
   "metadata": {},
   "source": [
    "Also compute the in error and out error and print it"
   ]
  },
  {
   "cell_type": "code",
   "execution_count": null,
   "id": "sublime-fitting",
   "metadata": {
    "deletable": false,
    "nbgrader": {
     "cell_type": "code",
     "checksum": "cd852c591e8c4992325b98312f81efa4",
     "grade": true,
     "grade_id": "cell-375e820888cf0db0",
     "locked": false,
     "points": 1,
     "schema_version": 3,
     "solution": true,
     "task": false
    }
   },
   "outputs": [],
   "source": [
    "# YOUR CODE HERE\n",
    "raise NotImplementedError()\n",
    "\n",
    "print(\"    in-sample error: %.5g\" % E_in)\n",
    "print(\"out-of-sample error: %.5g\" % E_out)"
   ]
  },
  {
   "cell_type": "markdown",
   "id": "brief-norwegian",
   "metadata": {
    "deletable": false,
    "editable": false,
    "nbgrader": {
     "cell_type": "markdown",
     "checksum": "a4d492c42ea34d74d4a092c20e9830f6",
     "grade": false,
     "grade_id": "cell-7207ff95fbddbcca",
     "locked": true,
     "schema_version": 3,
     "solution": false,
     "task": false
    }
   },
   "source": [
    "Execute the cells from \"Polynomial fit\" downwards again while varying\n",
    "parameters:\n",
    "\n",
    " (1) while fixing `N=100`, vary the polynomial order `K`\n",
    " \n",
    " (2) while fixing `K=20`, vary the number of data points\n",
    " \n",
    " (3) take a case high `K` and low `N` and vary `lambda_`\n",
    " \n",
    "What do you observe for in- and out-error and why?"
   ]
  },
  {
   "cell_type": "code",
   "execution_count": null,
   "id": "automotive-broadcast",
   "metadata": {
    "deletable": false,
    "nbgrader": {
     "cell_type": "code",
     "checksum": "047a5a170825c9ab9990eab4167fefb8",
     "grade": true,
     "grade_id": "cell-4df29c3c84a7fd34",
     "locked": false,
     "points": 2,
     "schema_version": 3,
     "solution": true,
     "task": false
    }
   },
   "outputs": [],
   "source": [
    "# YOUR CODE HERE\n",
    "raise NotImplementedError()"
   ]
  },
  {
   "cell_type": "code",
   "execution_count": null,
   "id": "extra-announcement",
   "metadata": {},
   "outputs": [],
   "source": []
  },
  {
   "cell_type": "markdown",
   "id": "realistic-trail",
   "metadata": {},
   "source": [
    "Analyze behaviour of Ein and Eout\n",
    "--------------------------------------\n",
    "\n",
    "Copy the above code into a function, which takes `Xtilde` and `y`\n",
    "as well as `K`, `N`, and `lambda_` as inputs and returns the a\n",
    "list of two elements: `E_in` and `E_out`."
   ]
  },
  {
   "cell_type": "code",
   "execution_count": null,
   "id": "polish-fisher",
   "metadata": {
    "deletable": false,
    "nbgrader": {
     "cell_type": "code",
     "checksum": "38a628ee1bba88fc1be9df93d061a63a",
     "grade": false,
     "grade_id": "cell-efdccd6007061df8",
     "locked": false,
     "schema_version": 3,
     "solution": true,
     "task": false
    }
   },
   "outputs": [],
   "source": [
    "def performance(Xtilde, y, K, N, lambda_):\n",
    "    # YOUR CODE HERE\n",
    "    raise NotImplementedError()"
   ]
  },
  {
   "cell_type": "code",
   "execution_count": null,
   "id": "alleged-nancy",
   "metadata": {},
   "outputs": [],
   "source": [
    "performance(Xtilde, y, 10, 100, 0.0)"
   ]
  },
  {
   "cell_type": "code",
   "execution_count": null,
   "id": "precise-ceramic",
   "metadata": {},
   "outputs": [],
   "source": []
  },
  {
   "cell_type": "code",
   "execution_count": null,
   "id": "norwegian-major",
   "metadata": {
    "deletable": false,
    "editable": false,
    "nbgrader": {
     "cell_type": "code",
     "checksum": "5deff002dfa5bcd1fbfae9b20decb5ae",
     "grade": true,
     "grade_id": "cell-ae74e903b53a8846",
     "locked": true,
     "points": 1,
     "schema_version": 3,
     "solution": false,
     "task": false
    }
   },
   "outputs": [],
   "source": [
    "assert len(performance(Xtilde, y, 10, 100, 1.0)) == 2\n",
    "\n",
    "np.testing.assert_allclose(\n",
    "    performance(Xtilde, y, 10, 1000, 1.0), [554.8213225, 533.8804457])"
   ]
  },
  {
   "cell_type": "markdown",
   "id": "approximate-publisher",
   "metadata": {
    "deletable": false,
    "editable": false,
    "nbgrader": {
     "cell_type": "markdown",
     "checksum": "117658da83503820a93ed8231e03a886",
     "grade": false,
     "grade_id": "cell-f507bb98414c5a2f",
     "locked": true,
     "points": 0,
     "schema_version": 3,
     "solution": false,
     "task": true
    }
   },
   "source": [
    "I will now plot the fitting peformance over the number of features\n",
    "and the number of observations, respectively.\n",
    "\n",
    "Explain these graphs below"
   ]
  },
  {
   "cell_type": "code",
   "execution_count": null,
   "id": "yellow-antique",
   "metadata": {},
   "outputs": [],
   "source": [
    "k = np.arange(1,20)\n",
    "E_in, E_out = np.transpose(\n",
    "    [performance(Xtilde, y, ki, 100, 0.0) for ki in k])\n",
    "\n",
    "pl.plot(k, E_in, '-+b', label=r'$E_\\mathrm{in}$')\n",
    "pl.plot(k, E_out, '-xr', label=r'$E_\\mathrm{out}$')\n",
    "pl.title('errors vs number of features')\n",
    "pl.xlabel('$k$')\n",
    "pl.ylabel('$E$')\n",
    "pl.yscale('log')\n",
    "pl.legend()"
   ]
  },
  {
   "cell_type": "code",
   "execution_count": null,
   "id": "floral-bronze",
   "metadata": {},
   "outputs": [],
   "source": [
    "n = np.arange(30,200)\n",
    "E_in, E_out = np.transpose(\n",
    "    [performance(Xtilde, y, 10, ni, 0.0) for ni in n])\n",
    "\n",
    "pl.plot(n, E_in, '-b', label=r'$E_\\mathrm{in}$')\n",
    "pl.plot(n, E_out, '-r', label=r'$E_\\mathrm{out}$')\n",
    "pl.title('errors vs number of observations')\n",
    "pl.xlabel('$N$')\n",
    "pl.ylabel('$E$')\n",
    "pl.yscale('log')\n",
    "pl.legend()"
   ]
  },
  {
   "cell_type": "code",
   "execution_count": null,
   "id": "fundamental-cricket",
   "metadata": {
    "deletable": false,
    "nbgrader": {
     "cell_type": "code",
     "checksum": "814ab683479660ecfe9304630cfe5600",
     "grade": true,
     "grade_id": "cell-32da972b83d4a77d",
     "locked": false,
     "points": 1,
     "schema_version": 3,
     "solution": true,
     "task": false
    }
   },
   "outputs": [],
   "source": [
    "# YOUR CODE HERE\n",
    "raise NotImplementedError()"
   ]
  }
 ],
 "metadata": {
  "kernelspec": {
   "display_name": "Python 3",
   "language": "python",
   "name": "python3"
  },
  "language_info": {
   "codemirror_mode": {
    "name": "ipython",
    "version": 3
   },
   "file_extension": ".py",
   "mimetype": "text/x-python",
   "name": "python",
   "nbconvert_exporter": "python",
   "pygments_lexer": "ipython3",
   "version": "3.8.6"
  }
 },
 "nbformat": 4,
 "nbformat_minor": 5
}
