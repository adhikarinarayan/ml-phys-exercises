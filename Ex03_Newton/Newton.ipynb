{
 "cells": [
  {
   "cell_type": "markdown",
   "id": "inside-architecture",
   "metadata": {
    "deletable": false,
    "editable": false,
    "nbgrader": {
     "cell_type": "markdown",
     "checksum": "6b32e7275402ea6dd414f297192a286c",
     "grade": false,
     "grade_id": "cell-02ac1cb4b3785b76",
     "locked": true,
     "schema_version": 3,
     "solution": false,
     "task": false
    }
   },
   "source": [
    "Exercise 3: Newton's method\n",
    "===========================\n",
    "\n",
    "We are going to implement Newton's method in multiple dimensions."
   ]
  },
  {
   "cell_type": "markdown",
   "id": "classical-fence",
   "metadata": {},
   "source": [
    "We are going to consider the following function:\n",
    "$$\n",
    "        E(x) = ||x||^4 - ||x||^2 - \\frac 15 x_0,\n",
    "$$\n",
    "where $x = (x_0, x_1)^T$ and $||x||^2 = x_0^2 + x_1^2$.\n",
    "Using $\\partial_i ||x||^2 = 2 x_i$, one can work out the gradient\n",
    "of this function:\n",
    "$$\n",
    "        J_i(x) = \\frac{\\partial E(x)}{\\partial x_i} = (4 ||x||^2 - 2) x_i - \\frac 15 \\delta_{i0}\n",
    "$$\n",
    "First, write a function $E(x)$ which takes a numpy array $x$ as input and computes the energy\n",
    "at $x$ and a function $J(x)$ which returns a numpy vector for the gradient at $x$.\n",
    "\n",
    "Don't forget to import the numpy package."
   ]
  },
  {
   "cell_type": "code",
   "execution_count": null,
   "id": "coordinated-child",
   "metadata": {
    "deletable": false,
    "nbgrader": {
     "cell_type": "code",
     "checksum": "09aaf550ce6539437c8d0d8e76a84c15",
     "grade": false,
     "grade_id": "cell-3788c1aeffb978c0",
     "locked": false,
     "schema_version": 3,
     "solution": true,
     "task": false
    }
   },
   "outputs": [],
   "source": [
    "# YOUR CODE HERE\n",
    "raise NotImplementedError()\n",
    "\n",
    "def E(x):\n",
    "    # YOUR CODE HERE\n",
    "    raise NotImplementedError()\n",
    "    \n",
    "def J(x):\n",
    "    # YOUR CODE HERE\n",
    "    raise NotImplementedError()"
   ]
  },
  {
   "cell_type": "code",
   "execution_count": null,
   "id": "chronic-completion",
   "metadata": {},
   "outputs": [],
   "source": [
    "E(np.array([-0.4,0.1]))"
   ]
  },
  {
   "cell_type": "code",
   "execution_count": null,
   "id": "acquired-binary",
   "metadata": {},
   "outputs": [],
   "source": [
    "J(np.array([0.1,-0.2]))"
   ]
  },
  {
   "cell_type": "code",
   "execution_count": null,
   "id": "approximate-michael",
   "metadata": {
    "deletable": false,
    "editable": false,
    "nbgrader": {
     "cell_type": "code",
     "checksum": "7ca64d6390c84c7eba9d564ee46efd2d",
     "grade": true,
     "grade_id": "cell-c4a4f0ff742bd35a",
     "locked": true,
     "points": 2,
     "schema_version": 3,
     "solution": false,
     "task": false
    }
   },
   "outputs": [],
   "source": [
    "assert np.allclose(E(np.array([0.0,0.0])), 0, atol=1e-4)\n",
    "assert np.allclose(E(np.array([0.5,0.2])), -0.3059, atol=1e-4)\n",
    "assert np.shape(J(np.array([0.0,0.0]))) == (2,)\n",
    "assert np.allclose(J(np.array([0.752619,0.0])), [0,0], atol=1e-4)\n"
   ]
  },
  {
   "cell_type": "markdown",
   "id": "interstate-hardwood",
   "metadata": {
    "deletable": false,
    "editable": false,
    "nbgrader": {
     "cell_type": "markdown",
     "checksum": "5081a811a222ffe99a44367596e184d1",
     "grade": false,
     "grade_id": "cell-727b8428c0344d19",
     "locked": true,
     "schema_version": 3,
     "solution": false,
     "task": false
    }
   },
   "source": [
    "For your convenience, there is a false color plot of $E(x)$ below:"
   ]
  },
  {
   "cell_type": "code",
   "execution_count": null,
   "id": "cardiac-implementation",
   "metadata": {
    "deletable": false,
    "editable": false,
    "nbgrader": {
     "cell_type": "code",
     "checksum": "a3a7fd1a74da544486fc411b2026c7d4",
     "grade": false,
     "grade_id": "cell-c7c3e71c049df212",
     "locked": true,
     "schema_version": 3,
     "solution": false,
     "task": false
    }
   },
   "outputs": [],
   "source": [
    "# You don't need to understand this code\n",
    "def _plot(f):\n",
    "    import matplotlib.pyplot as pl\n",
    "    x = np.linspace(-1.2, 1.2, 31)\n",
    "    fx = np.array([[f(np.array([a, b])) for a in x] for b in x])\n",
    "    pl.pcolormesh(x, x, fx, cmap='seismic', vmax=1, vmin=-1, shading='auto')\n",
    "    pl.colorbar()\n",
    "    pl.xlabel(r'$x_0$')\n",
    "    pl.ylabel(r'$x_1$')\n",
    "    pl.title(r'$E(x)$ with $x = (x_0, x_1)^T$')\n",
    "    pl.axis('scaled')\n",
    "    x0 = [-0.6505, -0.10213, 0.75262]\n",
    "    pl.scatter(x0, [0, 0, 0], marker='x', c='k')\n",
    "    for x0i, t in zip(x0, 'ABC'): pl.text(x0i, 0.1, t, ha='center')\n",
    "\n",
    "_plot(E)"
   ]
  },
  {
   "cell_type": "markdown",
   "id": "danish-toner",
   "metadata": {},
   "source": [
    "In the above plot, I have marked points (A,B,C) where the gradient is zero:\n",
    "\n",
    "$$\n",
    "\\begin{aligned}\n",
    " x_A &\\approx (-0.6505, 0)^T \\\\\n",
    " x_B &\\approx (-0.10213, 0)^T \\\\\n",
    " x_C &\\approx (0.75262, 0)^T \\\\\n",
    "\\end{aligned}\n",
    "$$\n",
    "\n",
    "Identify the character of these points below:"
   ]
  },
  {
   "cell_type": "markdown",
   "id": "seeing-feeling",
   "metadata": {
    "deletable": false,
    "nbgrader": {
     "cell_type": "markdown",
     "checksum": "1b941fa6462136200e9074b9c9d51aef",
     "grade": true,
     "grade_id": "cell-cb2974020bc029fc",
     "locked": false,
     "points": 1,
     "schema_version": 3,
     "solution": true,
     "task": false
    }
   },
   "source": [
    "YOUR ANSWER HERE"
   ]
  },
  {
   "cell_type": "markdown",
   "id": "ancient-despite",
   "metadata": {
    "deletable": false,
    "editable": false,
    "nbgrader": {
     "cell_type": "markdown",
     "checksum": "e6c4ba4915d42d4610996d85f5df066c",
     "grade": false,
     "grade_id": "cell-1e68ea4c0f74b0f0",
     "locked": true,
     "schema_version": 3,
     "solution": false,
     "task": false
    }
   },
   "source": [
    "Adapt your gradient descent solver (without Nesterov acceleration) from the\n",
    "previous exercise so that it can handle any dimension.\n",
    "\n",
    "`x0` is then a numpy array corresponding to the first points, `grad` is a\n",
    "function taking and returning an array.  Be mindful: in numpy, comparisons are\n",
    "component-by-component (this may lead to an error)."
   ]
  },
  {
   "cell_type": "code",
   "execution_count": null,
   "id": "turkish-enlargement",
   "metadata": {
    "deletable": false,
    "nbgrader": {
     "cell_type": "code",
     "checksum": "72ef7f01e325097beb6f83e81623d547",
     "grade": true,
     "grade_id": "cell-39a3f30255cf24b4",
     "locked": false,
     "points": 1,
     "schema_version": 3,
     "solution": true,
     "task": false
    }
   },
   "outputs": [],
   "source": [
    "def gradient_descent(grad, x0, eta, max_iter):\n",
    "    # YOUR CODE HERE\n",
    "    raise NotImplementedError()"
   ]
  },
  {
   "cell_type": "code",
   "execution_count": null,
   "id": "absent-paintball",
   "metadata": {},
   "outputs": [],
   "source": [
    "gradient_descent(J, np.array([0.1, 0.1]), 0.1, 20)"
   ]
  },
  {
   "cell_type": "code",
   "execution_count": null,
   "id": "serious-clock",
   "metadata": {},
   "outputs": [],
   "source": []
  },
  {
   "cell_type": "markdown",
   "id": "statewide-elder",
   "metadata": {
    "deletable": false,
    "editable": false,
    "nbgrader": {
     "cell_type": "markdown",
     "checksum": "ca6944bc7a75375edc44059baa9fd68e",
     "grade": false,
     "grade_id": "cell-51055b8e6b8d632c",
     "locked": true,
     "schema_version": 3,
     "solution": false,
     "task": false
    }
   },
   "source": [
    "Note that the minimum found by the above code is off by quite a bit ... why?\n",
    "\n",
    "How can you change the parameters so that it works better?  Would acceleration help?"
   ]
  },
  {
   "cell_type": "markdown",
   "id": "842913f4",
   "metadata": {
    "deletable": false,
    "nbgrader": {
     "cell_type": "markdown",
     "checksum": "05b130ad76c756419e38b2bb0c507dc0",
     "grade": true,
     "grade_id": "cell-e91fcd97332874ec",
     "locked": false,
     "points": 1,
     "schema_version": 3,
     "solution": true,
     "task": false
    }
   },
   "source": [
    "YOUR ANSWER HERE"
   ]
  },
  {
   "cell_type": "code",
   "execution_count": null,
   "id": "f8901733",
   "metadata": {},
   "outputs": [],
   "source": [
    "# Cells for trying out parameters ..."
   ]
  },
  {
   "cell_type": "code",
   "execution_count": null,
   "id": "3d134976-395a-4f09-b28e-2eb49b5d89ed",
   "metadata": {},
   "outputs": [],
   "source": []
  },
  {
   "cell_type": "code",
   "execution_count": null,
   "id": "cb90f157-e312-497a-9cef-d640a258dd1e",
   "metadata": {},
   "outputs": [],
   "source": []
  },
  {
   "cell_type": "code",
   "execution_count": null,
   "id": "3cb42f91-2093-4b48-8fb1-aa760dbfbd87",
   "metadata": {},
   "outputs": [],
   "source": []
  },
  {
   "cell_type": "code",
   "execution_count": null,
   "id": "b2e29f30-2764-45a1-98ad-c0e874b5dfbd",
   "metadata": {},
   "outputs": [],
   "source": []
  },
  {
   "cell_type": "markdown",
   "id": "historical-calvin",
   "metadata": {
    "deletable": false,
    "editable": false,
    "nbgrader": {
     "cell_type": "markdown",
     "checksum": "8f91cbfa37be1bea5e8800bcbb64fb54",
     "grade": false,
     "grade_id": "cell-fc77c1f2c7f7645b",
     "locked": true,
     "schema_version": 3,
     "solution": false,
     "task": false
    }
   },
   "source": [
    "Hessian\n",
    "------------\n",
    "\n",
    "The Hessian of $E$ is given by the second derivatives, which are:\n",
    "$$\n",
    "    H_{ij}(x) = \\frac{\\partial^2E(x)}{\\partial x_i\\partial x_j}  = (4 ||x||^2 - 2) \\delta_{ij} + 8 x_i x_j\n",
    "$$\n",
    "Implement this in the function $H$ below, which returns a $2\\times 2$ numpy matrix."
   ]
  },
  {
   "cell_type": "code",
   "execution_count": null,
   "id": "wound-kernel",
   "metadata": {
    "deletable": false,
    "nbgrader": {
     "cell_type": "code",
     "checksum": "19aac36e90d9fa4e333a6a6f729340ec",
     "grade": false,
     "grade_id": "cell-b7dbd95fa1e5009d",
     "locked": false,
     "schema_version": 3,
     "solution": true,
     "task": false
    }
   },
   "outputs": [],
   "source": [
    "def H(x):\n",
    "    # YOUR CODE HERE\n",
    "    raise NotImplementedError()"
   ]
  },
  {
   "cell_type": "code",
   "execution_count": null,
   "id": "regular-windows",
   "metadata": {},
   "outputs": [],
   "source": [
    "H(np.array([0.1,0.3]))"
   ]
  },
  {
   "cell_type": "code",
   "execution_count": null,
   "id": "reported-nashville",
   "metadata": {
    "deletable": false,
    "editable": false,
    "nbgrader": {
     "cell_type": "code",
     "checksum": "86fddabb2758ee7440771618939d6f04",
     "grade": true,
     "grade_id": "cell-4a7c8171d51d2b5f",
     "locked": true,
     "points": 1,
     "schema_version": 3,
     "solution": false,
     "task": false
    }
   },
   "outputs": [],
   "source": [
    "assert H(np.array([0.0,0.0])).shape == (2, 2)\n",
    "assert np.allclose(H(np.array([0.0,0.0])), [[-2, 0], [0, -2]], atol=1e-5)\n",
    "assert np.allclose(H(np.array([1.0,2.0])), [[26, 16], [16, 50]], atol=1e-5)\n"
   ]
  },
  {
   "cell_type": "markdown",
   "id": "important-estimate",
   "metadata": {
    "deletable": false,
    "editable": false,
    "nbgrader": {
     "cell_type": "markdown",
     "checksum": "296f6fd218b44294ef4a64f48ab94d7f",
     "grade": false,
     "grade_id": "cell-d4a8c002bfbd3252",
     "locked": true,
     "points": 1,
     "schema_version": 3,
     "solution": false,
     "task": true
    }
   },
   "source": [
    "Let's remind ourselves of the points (A,B,C) where the gradient is zero:\n",
    "\n",
    "$$\\begin{aligned}\n",
    " x_A &\\approx (-0.6505, 0)^T \\\\\n",
    " x_B &\\approx (-0.10213, 0)^T \\\\\n",
    " x_C &\\approx (0.75262, 0)^T \\\\\n",
    "\\end{aligned}$$\n",
    "\n",
    "Compute the Hessian for these points and prove the character you identified above\n",
    "using the Hessian."
   ]
  },
  {
   "cell_type": "code",
   "execution_count": null,
   "id": "collected-section",
   "metadata": {},
   "outputs": [],
   "source": []
  },
  {
   "cell_type": "code",
   "execution_count": null,
   "id": "million-fighter",
   "metadata": {},
   "outputs": [],
   "source": []
  },
  {
   "cell_type": "code",
   "execution_count": null,
   "id": "ordered-postcard",
   "metadata": {},
   "outputs": [],
   "source": []
  },
  {
   "cell_type": "code",
   "execution_count": null,
   "id": "temporal-remark",
   "metadata": {},
   "outputs": [],
   "source": []
  },
  {
   "cell_type": "code",
   "execution_count": null,
   "id": "light-roommate",
   "metadata": {},
   "outputs": [],
   "source": []
  },
  {
   "cell_type": "markdown",
   "id": "palestinian-cover",
   "metadata": {
    "deletable": false,
    "editable": false,
    "nbgrader": {
     "cell_type": "markdown",
     "checksum": "8e8459edeb94d65625555b05384a1960",
     "grade": false,
     "grade_id": "cell-b97db9da790a29cb",
     "locked": true,
     "schema_version": 3,
     "solution": false,
     "task": false
    }
   },
   "source": [
    "Summarize your findings below:"
   ]
  },
  {
   "cell_type": "markdown",
   "id": "complicated-kuwait",
   "metadata": {
    "deletable": false,
    "nbgrader": {
     "cell_type": "markdown",
     "checksum": "6f3c535b7a5dae657deb09811ef247e9",
     "grade": true,
     "grade_id": "cell-36b2f7c41442e9ca",
     "locked": false,
     "points": 1,
     "schema_version": 3,
     "solution": true,
     "task": false
    }
   },
   "source": [
    "YOUR ANSWER HERE"
   ]
  },
  {
   "cell_type": "markdown",
   "id": "cooperative-companion",
   "metadata": {},
   "source": [
    "Newton's method\n",
    "---------------\n",
    "Let's combine everything and implement Newton's method.\n",
    "You can start, e.g., from the code of your `gradient_descent` method.\n",
    "\n",
    "Newton's method shall take a function for the gradient `grad` a function for\n",
    "the Hessian `hess`, a start point `x0`, a small non-negative regularization parameter `lambda_`\n",
    "(note the trailing underscore), a learning rate `eta` between 0 and 1, and\n",
    "the maximum  number of iterations.\n",
    "\n",
    "Hint `x.size`  gives the total number of elements in an array."
   ]
  },
  {
   "cell_type": "code",
   "execution_count": null,
   "id": "compliant-pencil",
   "metadata": {
    "deletable": false,
    "nbgrader": {
     "cell_type": "code",
     "checksum": "cb0f13bc68eae0b28f11b5c7023d3627",
     "grade": false,
     "grade_id": "cell-574a9c4248f960f5",
     "locked": false,
     "schema_version": 3,
     "solution": true,
     "task": false
    }
   },
   "outputs": [],
   "source": [
    "def newton(grad, hess, x0, lambda_=0, eta=1, max_iter=20):\n",
    "    # YOUR CODE HERE\n",
    "    raise NotImplementedError()"
   ]
  },
  {
   "cell_type": "code",
   "execution_count": null,
   "id": "junior-slovenia",
   "metadata": {},
   "outputs": [],
   "source": [
    "newton(J, H, np.array([0.5, 0.0]))"
   ]
  },
  {
   "cell_type": "code",
   "execution_count": null,
   "id": "cooperative-beijing",
   "metadata": {
    "deletable": false,
    "editable": false,
    "nbgrader": {
     "cell_type": "code",
     "checksum": "63bd2f55a5ebbc39e5233743642078b8",
     "grade": true,
     "grade_id": "cell-ad5f11b7187b384f",
     "locked": true,
     "points": 2,
     "schema_version": 3,
     "solution": false,
     "task": false
    }
   },
   "outputs": [],
   "source": [
    "assert newton(J, H, np.array([0.0, 0.0])).shape == (2,)\n",
    "assert np.allclose(newton(J, H, np.array([0.0, 0.0]), max_iter=0), [0.0, 0.0], atol=1e-4)\n",
    "assert np.allclose(newton(J, H, np.array([0.8, -0.1])), [0.752619, 0.0], atol=1e-4)\n",
    "assert np.allclose(newton(J, H, np.array([0.4, 0.1])), [0.752619, 0.0], atol=1e-4)\n"
   ]
  },
  {
   "cell_type": "markdown",
   "id": "close-monkey",
   "metadata": {
    "deletable": false,
    "editable": false,
    "nbgrader": {
     "cell_type": "markdown",
     "checksum": "97697174030475dfb9a813acd3e6cfa0",
     "grade": false,
     "grade_id": "cell-ef31aa7638b4f9b4",
     "locked": true,
     "points": 1,
     "schema_version": 3,
     "solution": false,
     "task": true
    }
   },
   "source": [
    "Compare the results for Newton's method and Gradient Descent for the starting point $x = (-0.5, 0.05)$. (For gradient descent you probably need a large number of iterations.)\n",
    "\n",
    "Also investigate the result for the starting point $x = (0, 0)$."
   ]
  },
  {
   "cell_type": "code",
   "execution_count": null,
   "id": "russian-complement",
   "metadata": {},
   "outputs": [],
   "source": []
  },
  {
   "cell_type": "code",
   "execution_count": null,
   "id": "40766385-20ad-419e-8160-0e9f39eb6524",
   "metadata": {},
   "outputs": [],
   "source": []
  },
  {
   "cell_type": "code",
   "execution_count": null,
   "id": "74ff424b-3998-4e18-b614-9a9e6a00636f",
   "metadata": {},
   "outputs": [],
   "source": []
  },
  {
   "cell_type": "code",
   "execution_count": null,
   "id": "b3a95d25-0b0f-4443-9007-40edb5a3c6e6",
   "metadata": {},
   "outputs": [],
   "source": []
  },
  {
   "cell_type": "code",
   "execution_count": null,
   "id": "597a76bf-0839-4c00-95b0-45dc33f3cda8",
   "metadata": {},
   "outputs": [],
   "source": []
  },
  {
   "cell_type": "markdown",
   "id": "focal-casting",
   "metadata": {
    "deletable": false,
    "editable": false,
    "nbgrader": {
     "cell_type": "markdown",
     "checksum": "964c57ddc77a6044b3576c72d034beda",
     "grade": false,
     "grade_id": "cell-6eb001aacba68f59",
     "locked": true,
     "schema_version": 3,
     "solution": false,
     "task": false
    }
   },
   "source": [
    "What happens in each approach and why?"
   ]
  },
  {
   "cell_type": "markdown",
   "id": "medical-matthew",
   "metadata": {
    "deletable": false,
    "nbgrader": {
     "cell_type": "markdown",
     "checksum": "bd2f8650fd9bfe850142b7401dd0f951",
     "grade": true,
     "grade_id": "cell-0d2ff07b1389ef52",
     "locked": false,
     "points": 1,
     "schema_version": 3,
     "solution": true,
     "task": false
    }
   },
   "source": [
    "YOUR ANSWER HERE"
   ]
  },
  {
   "cell_type": "code",
   "execution_count": null,
   "id": "683bdd5b",
   "metadata": {},
   "outputs": [],
   "source": []
  }
 ],
 "metadata": {
  "kernelspec": {
   "display_name": "Python 3 (ipykernel)",
   "language": "python",
   "name": "python3"
  },
  "language_info": {
   "codemirror_mode": {
    "name": "ipython",
    "version": 3
   },
   "file_extension": ".py",
   "mimetype": "text/x-python",
   "name": "python",
   "nbconvert_exporter": "python",
   "pygments_lexer": "ipython3",
   "version": "3.10.9"
  }
 },
 "nbformat": 4,
 "nbformat_minor": 5
}
