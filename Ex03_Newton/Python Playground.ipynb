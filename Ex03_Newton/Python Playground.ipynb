{
 "cells": [
  {
   "cell_type": "markdown",
   "id": "imposed-palace",
   "metadata": {},
   "source": [
    "This notebook is not graded.\n",
    "------------------------------------------\n",
    "\n",
    "It is just a way for you to try you luck on a couple of Python things."
   ]
  },
  {
   "cell_type": "code",
   "execution_count": null,
   "id": "continued-burden",
   "metadata": {},
   "outputs": [],
   "source": [
    "1 + 1"
   ]
  },
  {
   "cell_type": "code",
   "execution_count": null,
   "id": "saving-colorado",
   "metadata": {},
   "outputs": [],
   "source": [
    "2 * 10**3"
   ]
  },
  {
   "cell_type": "code",
   "execution_count": null,
   "id": "statewide-cooperation",
   "metadata": {},
   "outputs": [],
   "source": [
    "1/2"
   ]
  },
  {
   "cell_type": "code",
   "execution_count": null,
   "id": "through-theta",
   "metadata": {},
   "outputs": [],
   "source": [
    "1//2"
   ]
  },
  {
   "cell_type": "code",
   "execution_count": null,
   "id": "another-communication",
   "metadata": {},
   "outputs": [],
   "source": [
    "173 % 10"
   ]
  },
  {
   "cell_type": "code",
   "execution_count": null,
   "id": "incorporated-mobility",
   "metadata": {},
   "outputs": [],
   "source": [
    "variable = 3"
   ]
  },
  {
   "cell_type": "code",
   "execution_count": null,
   "id": "roman-glory",
   "metadata": {},
   "outputs": [],
   "source": [
    "variable"
   ]
  },
  {
   "cell_type": "code",
   "execution_count": null,
   "id": "endangered-greece",
   "metadata": {},
   "outputs": [],
   "source": [
    "variable + 1"
   ]
  },
  {
   "cell_type": "code",
   "execution_count": null,
   "id": "measured-papua",
   "metadata": {},
   "outputs": [],
   "source": [
    "import math"
   ]
  },
  {
   "cell_type": "code",
   "execution_count": null,
   "id": "hazardous-graduation",
   "metadata": {},
   "outputs": [],
   "source": [
    "math.sin(0)"
   ]
  },
  {
   "cell_type": "markdown",
   "id": "british-trinity",
   "metadata": {},
   "source": [
    "Store sides of arbitrary triangle with sides `a`, `b`, which enclose an angle `gamma`, compute length of remaining side `c`"
   ]
  },
  {
   "cell_type": "code",
   "execution_count": null,
   "id": "cleared-switch",
   "metadata": {},
   "outputs": [],
   "source": [
    "a = 1.0\n",
    "b = 1.5\n",
    "gamma = 0.7 # rad"
   ]
  },
  {
   "cell_type": "code",
   "execution_count": null,
   "id": "charged-remains",
   "metadata": {},
   "outputs": [],
   "source": []
  },
  {
   "cell_type": "code",
   "execution_count": null,
   "id": "focused-huntington",
   "metadata": {},
   "outputs": [],
   "source": [
    "t = [1, 2, 4]"
   ]
  },
  {
   "cell_type": "code",
   "execution_count": null,
   "id": "criminal-maintenance",
   "metadata": {},
   "outputs": [],
   "source": [
    "t.append('foo')"
   ]
  },
  {
   "cell_type": "code",
   "execution_count": null,
   "id": "heavy-pursuit",
   "metadata": {},
   "outputs": [],
   "source": [
    "t"
   ]
  },
  {
   "cell_type": "code",
   "execution_count": null,
   "id": "unnecessary-exposure",
   "metadata": {},
   "outputs": [],
   "source": [
    "t[1]"
   ]
  },
  {
   "cell_type": "code",
   "execution_count": null,
   "id": "baking-anderson",
   "metadata": {},
   "outputs": [],
   "source": [
    "t[2:]"
   ]
  },
  {
   "cell_type": "code",
   "execution_count": null,
   "id": "convinced-tunisia",
   "metadata": {},
   "outputs": [],
   "source": [
    "t.pop()"
   ]
  },
  {
   "cell_type": "code",
   "execution_count": null,
   "id": "familiar-formation",
   "metadata": {},
   "outputs": [],
   "source": [
    "if t[1] < 10:\n",
    "    print(\"Yes\")"
   ]
  },
  {
   "cell_type": "code",
   "execution_count": null,
   "id": "alternative-dynamics",
   "metadata": {},
   "outputs": [],
   "source": [
    "for i in t:\n",
    "    print(i)"
   ]
  },
  {
   "cell_type": "code",
   "execution_count": null,
   "id": "minor-correlation",
   "metadata": {},
   "outputs": [],
   "source": [
    "t = list(range(10))\n",
    "t"
   ]
  },
  {
   "cell_type": "markdown",
   "id": "fabulous-guinea",
   "metadata": {},
   "source": [
    "Make a list of odd numbers between 11 to 29, but excluding 21 and 27."
   ]
  },
  {
   "cell_type": "code",
   "execution_count": null,
   "id": "hourly-tragedy",
   "metadata": {},
   "outputs": [],
   "source": []
  },
  {
   "cell_type": "code",
   "execution_count": null,
   "id": "lonely-nicholas",
   "metadata": {},
   "outputs": [],
   "source": []
  },
  {
   "cell_type": "code",
   "execution_count": null,
   "id": "crazy-siemens",
   "metadata": {},
   "outputs": [],
   "source": [
    "def add_42(x):\n",
    "    return x + 42"
   ]
  },
  {
   "cell_type": "code",
   "execution_count": null,
   "id": "documented-honduras",
   "metadata": {},
   "outputs": [],
   "source": [
    "add_42(1)"
   ]
  },
  {
   "cell_type": "code",
   "execution_count": null,
   "id": "yellow-breach",
   "metadata": {},
   "outputs": [],
   "source": []
  }
 ],
 "metadata": {
  "kernelspec": {
   "display_name": "Python 3",
   "language": "python",
   "name": "python3"
  },
  "language_info": {
   "codemirror_mode": {
    "name": "ipython",
    "version": 3
   },
   "file_extension": ".py",
   "mimetype": "text/x-python",
   "name": "python",
   "nbconvert_exporter": "python",
   "pygments_lexer": "ipython3",
   "version": "3.8.6"
  }
 },
 "nbformat": 4,
 "nbformat_minor": 5
}
