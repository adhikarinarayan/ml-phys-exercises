{
 "cells": [
  {
   "cell_type": "markdown",
   "id": "68a10bda-f11d-48b8-8ee3-da32384e334a",
   "metadata": {
    "deletable": false,
    "editable": false,
    "nbgrader": {
     "cell_type": "markdown",
     "checksum": "5a5fb33255188589684b807d785c5473",
     "grade": false,
     "grade_id": "cell-0270eebf6a5923ce",
     "locked": true,
     "schema_version": 3,
     "solution": false,
     "task": false
    }
   },
   "source": [
    "Exercise 6: singular value decomposition\n",
    "========================================\n",
    "\n",
    "In this exercise we are going to explore the singular value decomposition.\n",
    "To kick things off, let us flex our linear algebra muscles a little bit.\n",
    "\n",
    "Let\n",
    "\n",
    "$$\n",
    "     X = \\sum_{k=0}^{K-1} s_k \\vec u_k \\vec v_k^T\n",
    "$$\n",
    "\n",
    "be the singular value decomposition of $X$.\n",
    "**Prove** that the SVD of the regularized pseudoinverse of $X$ can be written as:\n",
    "\n",
    "$$\n",
    "    (X^T X + N \\lambda^2 \\mathbf 1)^{-1} X^T = \\sum_{k=0}^{K-1} \\frac{s_k}{s_k^2 + N \\lambda^2} \\vec v_k \\vec u_k^T\n",
    "$$\n",
    "\n",
    "Do we need to assume $s_k \\neq 0$ in the derivation? Why or why not?\n"
   ]
  },
  {
   "cell_type": "markdown",
   "id": "2e69429e-f4b0-4a80-8755-27dd473178e0",
   "metadata": {
    "deletable": false,
    "nbgrader": {
     "cell_type": "markdown",
     "checksum": "26c93363b665920dff9fcc1c3af52ee4",
     "grade": true,
     "grade_id": "cell-ee5c87ef27c52927",
     "locked": false,
     "points": 2,
     "schema_version": 3,
     "solution": true,
     "task": false
    }
   },
   "source": [
    "YOUR ANSWER HERE"
   ]
  },
  {
   "cell_type": "code",
   "execution_count": null,
   "id": "36020021-fef9-4ded-9217-f1f0dcbdde67",
   "metadata": {},
   "outputs": [],
   "source": []
  },
  {
   "cell_type": "markdown",
   "id": "25fa47fe-7d8e-4d16-a9a8-bf05c46ea305",
   "metadata": {
    "deletable": false,
    "editable": false,
    "nbgrader": {
     "cell_type": "markdown",
     "checksum": "110c594544b18922abb5aa54ee58a40a",
     "grade": false,
     "grade_id": "cell-850af82c09250185",
     "locked": true,
     "schema_version": 3,
     "solution": false,
     "task": false
    }
   },
   "source": [
    "Polynomial fitting and the Vandermonde matrix\n",
    "---------------------------------------------\n",
    "\n",
    "Let us explore polynomial fitting a little more, since it is a very instructive\n",
    "example for SVD and regularization.  Remember that given some $x_n$ and labels $y_n$\n",
    "we wanted to fit a model:\n",
    "$$\n",
    "    \\arg\\min_\\theta \\sum_{n=0}^{N-1} \\Big| y_n - \\sum_{k=0}^{K-1} \\theta_k x_n^k \\Big|^2\n",
    "    = \\arg\\min_\\theta || \\vec y - X \\vec\\theta ||^2\n",
    "$$\n",
    "\n",
    "The design matrix in above equation is called a [**Vandermonde matrix**](https://en.wikipedia.org/wiki/Vandermonde_matrix):\n",
    "$$\n",
    "    X_{nk} = x_n^{k}\n",
    "$$\n",
    "and it is famously nasty if you're not careful, which is why you might have had problems fitting\n",
    "in the previous exercise.\n",
    "\n",
    "Let us explore this in more detail by constructing our own fitting problem: construct a vector `x` of\n",
    "`N = 101` values linearly spaced in the interval `[-1, 1]`. The construct the Vandermonde matrix `X`\n",
    "for `K = 30` (i.e., maximum polynomial order 29)."
   ]
  },
  {
   "cell_type": "code",
   "execution_count": null,
   "id": "5a042855-9177-4dfe-9f41-f915855e049b",
   "metadata": {
    "deletable": false,
    "nbgrader": {
     "cell_type": "code",
     "checksum": "f9131ce0d5cf242f5f7a024b78e9e95f",
     "grade": false,
     "grade_id": "cell-260e411e1e3424e2",
     "locked": false,
     "schema_version": 3,
     "solution": true,
     "task": false
    }
   },
   "outputs": [],
   "source": [
    "# YOUR CODE HERE\n",
    "raise NotImplementedError()"
   ]
  },
  {
   "cell_type": "code",
   "execution_count": null,
   "id": "a72a9751-b024-4505-a761-9a96c6c1ef02",
   "metadata": {
    "deletable": false,
    "editable": false,
    "nbgrader": {
     "cell_type": "code",
     "checksum": "124b9a1c4ce33795e766f237cb62db53",
     "grade": true,
     "grade_id": "cell-e98d58657bc2e1a1",
     "locked": true,
     "points": 1,
     "schema_version": 3,
     "solution": false,
     "task": false
    }
   },
   "outputs": [],
   "source": [
    "import numpy as np\n",
    "\n",
    "assert x.shape == (101,)\n",
    "np.testing.assert_allclose(np.diff(x), 0.02)\n",
    "\n",
    "assert X.shape == (101, 30)\n",
    "np.testing.assert_allclose(np.linalg.cond(X), 51785875457, rtol=1e-3)"
   ]
  },
  {
   "cell_type": "code",
   "execution_count": null,
   "id": "8c565b95-22d0-4e82-9697-e6d2278747c5",
   "metadata": {},
   "outputs": [],
   "source": []
  },
  {
   "cell_type": "markdown",
   "id": "e9ebe9c2-284c-4b96-a911-b7205a48a086",
   "metadata": {
    "deletable": false,
    "editable": false,
    "nbgrader": {
     "cell_type": "markdown",
     "checksum": "5934587724eca6cbedea190bbddf2788",
     "grade": false,
     "grade_id": "cell-dc35bd023d830d9e",
     "locked": true,
     "schema_version": 3,
     "solution": false,
     "task": false
    }
   },
   "source": [
    "Let us analyze the design matrix: \n",
    "\n",
    " 1. compute the SVD of `X` using numpy's linear algebra routines.\n",
    "    Store the resulting left and right singular matrices in `U` and `VT`, respectively,\n",
    "    and the vector of singular values in `s`.\n",
    "   \n",
    " 2. Afterwards, reconstruct the original matrix from the SVD factors and store it into `X_rec`. \n",
    "\n",
    "**Note**: In the lecture I presented a variant of the SVD called \"thin SVD\", where `U` and\n",
    "`VT` are not necessarily square.  Please appropriately set the `full_matrix` argument to do\n",
    "so. (Remember that you can put a `?` after a function to get its signature.)"
   ]
  },
  {
   "cell_type": "code",
   "execution_count": null,
   "id": "7c4f2038-1755-41a8-87ba-f61dc7e5532d",
   "metadata": {
    "deletable": false,
    "nbgrader": {
     "cell_type": "code",
     "checksum": "eef1bbfb1e5cdc898155b335c288b642",
     "grade": false,
     "grade_id": "cell-ff9809291ee4a64c",
     "locked": false,
     "schema_version": 3,
     "solution": true,
     "task": false
    }
   },
   "outputs": [],
   "source": [
    "# YOUR CODE HERE\n",
    "raise NotImplementedError()"
   ]
  },
  {
   "cell_type": "code",
   "execution_count": null,
   "id": "a055bafe-b07c-46df-bb7a-10b479793a1c",
   "metadata": {
    "deletable": false,
    "editable": false,
    "nbgrader": {
     "cell_type": "code",
     "checksum": "009b3db91bf170bccbd1245285a23acb",
     "grade": true,
     "grade_id": "cell-8d7ea9e4e96bee63",
     "locked": true,
     "points": 1,
     "schema_version": 3,
     "solution": false,
     "task": false
    }
   },
   "outputs": [],
   "source": [
    "assert (U, s, VT, X_rec) is not None\n",
    "assert s.shape == (30,)\n",
    "assert U.shape == (101, 30)\n",
    "assert VT.shape == (30, 30)\n",
    "np.testing.assert_allclose(X_rec, X, atol=1e-5)"
   ]
  },
  {
   "cell_type": "markdown",
   "id": "eb04df50-7b18-465d-a7c4-c74af0fc72dc",
   "metadata": {},
   "source": [
    "Finally, write a function `pinv()` that takes a matrix in a singular-value decomposed\n",
    "from (`U`, `s`, `VT`) and constructs the pseudo-inverse:"
   ]
  },
  {
   "cell_type": "code",
   "execution_count": null,
   "id": "bfcad4b6-2388-4184-a29d-04663234219c",
   "metadata": {
    "deletable": false,
    "nbgrader": {
     "cell_type": "code",
     "checksum": "02ccf62ac0c2e37af051325f4d009ef2",
     "grade": false,
     "grade_id": "cell-7732e3b9c943ce1c",
     "locked": false,
     "schema_version": 3,
     "solution": true,
     "task": false
    }
   },
   "outputs": [],
   "source": [
    "def pinv(U, s, VT):\n",
    "    # YOUR CODE HERE\n",
    "    raise NotImplementedError()"
   ]
  },
  {
   "cell_type": "code",
   "execution_count": null,
   "id": "297d8708-b7df-49a9-afda-8a8800137437",
   "metadata": {},
   "outputs": [],
   "source": [
    "pinv(U, s, VT)"
   ]
  },
  {
   "cell_type": "code",
   "execution_count": null,
   "id": "65c9b9bf-9aaa-4565-bb70-725f05490db5",
   "metadata": {
    "deletable": false,
    "editable": false,
    "nbgrader": {
     "cell_type": "code",
     "checksum": "0de193bb16c2ba8a474a4371129cd1db",
     "grade": true,
     "grade_id": "cell-16540cdf1dbcb8a4",
     "locked": true,
     "points": 1,
     "schema_version": 3,
     "solution": false,
     "task": false
    }
   },
   "outputs": [],
   "source": [
    "np.testing.assert_allclose(pinv(U, s, VT), np.linalg.pinv(X))"
   ]
  },
  {
   "cell_type": "markdown",
   "id": "290a762a-60ef-44e6-bab3-d34b729a8a04",
   "metadata": {
    "deletable": false,
    "editable": false,
    "nbgrader": {
     "cell_type": "markdown",
     "checksum": "e9c7053cb74b470a5220ab132f61fa6f",
     "grade": false,
     "grade_id": "cell-85fa8cb486bb2f01",
     "locked": true,
     "schema_version": 3,
     "solution": false,
     "task": false
    }
   },
   "source": [
    "Analyzing the singular value decomposition\n",
    "------------------------------------------\n",
    "Let's get a little bit of intuition on the factors in\n",
    "the SVD\n",
    "\n",
    "First, I have plotted the singular values on a logarithmic scale."
   ]
  },
  {
   "cell_type": "code",
   "execution_count": null,
   "id": "170cda3a-e141-4c48-aa59-b457184067d9",
   "metadata": {
    "deletable": false,
    "editable": false,
    "nbgrader": {
     "cell_type": "code",
     "checksum": "d3265e38a896f38c1f19cc91608fd9d7",
     "grade": false,
     "grade_id": "cell-66aa64f5b421e8f1",
     "locked": true,
     "schema_version": 3,
     "solution": false,
     "task": false
    }
   },
   "outputs": [],
   "source": [
    "import matplotlib.pyplot as pl\n",
    "\n",
    "pl.plot(s, ':+');\n",
    "pl.xlabel('$k$')\n",
    "pl.ylabel('$s_k$')\n",
    "pl.title(\"Singular values of Vandermonde matrix\")\n",
    "pl.yscale('log')"
   ]
  },
  {
   "cell_type": "markdown",
   "id": "201f4d86-5f1b-4f1c-b75d-40bb6a130a57",
   "metadata": {
    "deletable": false,
    "editable": false,
    "nbgrader": {
     "cell_type": "markdown",
     "checksum": "227820349f89104277d44616331d690b",
     "grade": false,
     "grade_id": "cell-963eb2a42ee0e658",
     "locked": true,
     "schema_version": 3,
     "solution": false,
     "task": false
    }
   },
   "source": [
    "Next, make a figure where you plot the elements of a\n",
    "single left-singular vector $\\vec u_k$.  You should\n",
    "make three plots in total, one for $k=0$, $k=6$\n",
    "and $k=K-1$, respectively (You can combine them as multiple lines\n",
    "into a single figure or use subplots, however you see fit).\n",
    "\n",
    "Think about the abscissa ($x$-axis): what does it represent? (Hint: \n",
    "the left-singular vectors live on the \"row space\" of $X$, so how\n",
    "did you construct $X$?) Choose the axis scaling and the axis label\n",
    "accordingly.  Don't forget plot labels, legend, and title."
   ]
  },
  {
   "cell_type": "code",
   "execution_count": null,
   "id": "a0747a19-541d-4910-bccc-0a6e8a53172a",
   "metadata": {
    "deletable": false,
    "nbgrader": {
     "cell_type": "code",
     "checksum": "ef60fd2b2e2ac886915000ec300de9f0",
     "grade": true,
     "grade_id": "cell-f609f0dbcc13639c",
     "locked": false,
     "points": 1,
     "schema_version": 3,
     "solution": true,
     "task": false
    }
   },
   "outputs": [],
   "source": [
    "# YOUR CODE HERE\n",
    "raise NotImplementedError()"
   ]
  },
  {
   "cell_type": "markdown",
   "id": "06cea6cb-f053-4ed6-a932-36dc3791b8f0",
   "metadata": {
    "deletable": false,
    "editable": false,
    "nbgrader": {
     "cell_type": "markdown",
     "checksum": "06506de6d5fda1f12cecc2784e4ea1fc",
     "grade": false,
     "grade_id": "cell-0ebb974ea761fa58",
     "locked": true,
     "schema_version": 3,
     "solution": false,
     "task": false
    }
   },
   "source": [
    "Let us also plot the right-singular vectors $\\vec v_k$.\n",
    "You should again make three plots in total, one for $k=0$, $k=6$\n",
    "and $k=K-1$, respectively.\n",
    "\n",
    "Again think of what the axis represents. (Hint: the right-singular\n",
    "vectors live on the \"column space\" of $X$, so how did we construct\n",
    "the columns of $X$?)\n",
    "\n",
    "**Note**: your SVD returns the transpose `VT`.  In this case the $i$-th singular vector is the $i$-th row, not the $i$-th column."
   ]
  },
  {
   "cell_type": "code",
   "execution_count": null,
   "id": "55bf7d7d-cea2-452e-b3ab-15bccdf9b640",
   "metadata": {
    "deletable": false,
    "nbgrader": {
     "cell_type": "code",
     "checksum": "6306045dfd3e9bb8df93752794fa915d",
     "grade": true,
     "grade_id": "cell-29a967c638cca045",
     "locked": false,
     "points": 1,
     "schema_version": 3,
     "solution": true,
     "task": false
    }
   },
   "outputs": [],
   "source": [
    "# YOUR CODE HERE\n",
    "raise NotImplementedError()"
   ]
  },
  {
   "cell_type": "markdown",
   "id": "b4e1cb15-cd92-414e-8303-4fe9dcaf91c1",
   "metadata": {
    "deletable": false,
    "editable": false,
    "nbgrader": {
     "cell_type": "markdown",
     "checksum": "e0ddad2f0bfc61cb0965d34fcc7c5776",
     "grade": false,
     "grade_id": "cell-72fd51b91ed9aff3",
     "locked": true,
     "schema_version": 3,
     "solution": false,
     "task": false
    }
   },
   "source": [
    "Let's think about what will happen if we do fitting with\n",
    "a Vandermonde design matrix `X`.  Remember that fitting a\n",
    "set of labels `y` is equivalent to multiplying `y` with the\n",
    "pseudoinverse of `X` (what is its SVD?)\n",
    "\n",
    "  1. First, think about the singular values. How do we expect the\n",
    "     singular value $s_k$ affect the fit for $k\\approx 0$,\n",
    "     how for $k\\approx K$?\n",
    "     \n",
    "  2. Imagine $y$ to indeed be some **low-order** polynomial over\n",
    "     $x$ plus some noise.\n",
    "     Now look at the shape for the **left** singular vectors.\n",
    "     Observe that they oscillate more strongly for higher $k$.\n",
    "     In changing to the singular basis, how much of the \"true\"\n",
    "     polynomial and how much noise are you expected to pick\n",
    "     up for different $k$? Why?\n",
    "  \n",
    "  3. Now imagine $y$ to be noisy and look at the shape of\n",
    "     the **right** singular vector.  Which polynomial orders\n",
    "     do you expect to end up with most of the noise?  Why?\n",
    "     \n",
    "Observe that we can do this analysis *purely* on the design\n",
    "matrix without looking at the labels vector, i.e., we uncover\n",
    "intrinsic and fundamental features of fitting polynomials\n",
    "from equally spaced data points."
   ]
  },
  {
   "cell_type": "markdown",
   "id": "ba52ebd0-0b46-419e-bfc2-a2d943728189",
   "metadata": {
    "deletable": false,
    "nbgrader": {
     "cell_type": "markdown",
     "checksum": "04e7b3684df9100a9196a2bf4989bfd3",
     "grade": true,
     "grade_id": "cell-3e8c215238211930",
     "locked": false,
     "points": 3,
     "schema_version": 3,
     "solution": true,
     "task": false
    }
   },
   "source": [
    "YOUR ANSWER HERE"
   ]
  },
  {
   "cell_type": "code",
   "execution_count": null,
   "id": "42b503ee-7af8-4c49-9d18-531324ff1a08",
   "metadata": {},
   "outputs": [],
   "source": []
  },
  {
   "cell_type": "markdown",
   "id": "a12b60e9-0123-4d4e-81f1-228290f700ab",
   "metadata": {
    "deletable": false,
    "editable": false,
    "nbgrader": {
     "cell_type": "markdown",
     "checksum": "3138a74a0b6fc824891fc5119d62da27",
     "grade": false,
     "grade_id": "cell-2ee415f0e3cf5a93",
     "locked": true,
     "schema_version": 3,
     "solution": false,
     "task": false
    }
   },
   "source": [
    "Generating truth and noise\n",
    "--------------------------\n",
    "Let us try our luck by fitting a fourth-order polyomial, which for\n",
    "the moment is our \"truth\".  Below I have defined $\\theta_\\mathrm{true}$, which\n",
    "are the true parameter set $\\vec\\theta_\\mathrm{true}$ and the corresponding model\n",
    "$y_\\mathrm{true}(x) = f(x, \\vec\\theta_\\mathrm{true})$."
   ]
  },
  {
   "cell_type": "code",
   "execution_count": null,
   "id": "64889b99-56eb-466b-9529-998c402b4bf8",
   "metadata": {
    "deletable": false,
    "editable": false,
    "nbgrader": {
     "cell_type": "code",
     "checksum": "d866eb5ce7d161373af35998f605dca8",
     "grade": false,
     "grade_id": "cell-bd45b5bc61db667c",
     "locked": true,
     "schema_version": 3,
     "solution": false,
     "task": false
    }
   },
   "outputs": [],
   "source": [
    "# The Truth (TM)\n",
    "theta_true = np.zeros(30)\n",
    "theta_true[:5] = [-0.05, .13, .87, 0, -1]\n",
    "\n",
    "def get_y_true(x):\n",
    "    \"\"\"True labels (without noise) for a given `x` in `[-1, 1]`\"\"\"\n",
    "    x = np.asarray(x)\n",
    "    if not np.all(x >= -1) and np.all(x < 1):\n",
    "        raise ValueError(\"x must be between -1 and 1\")\n",
    "    return (x[..., np.newaxis]**np.arange(30) * theta_true).sum(-1)"
   ]
  },
  {
   "cell_type": "markdown",
   "id": "7462c4d9-f219-48be-beb2-97b63b66a183",
   "metadata": {
    "deletable": false,
    "editable": false,
    "nbgrader": {
     "cell_type": "markdown",
     "checksum": "a58b1e6c317dc01ee8d43f253795700e",
     "grade": false,
     "grade_id": "cell-6137bf3e2dcf05bc",
     "locked": true,
     "schema_version": 3,
     "solution": false,
     "task": false
    }
   },
   "source": [
    "Let us now **generate some labels** from this truth plus some noise.\n",
    "\n",
    "Generate the vector of true labels `y_true` for your $x$ values. Then,\n",
    "generate a \"noise vector\" `epsilon` where you draw each element from a \n",
    "normal distribution with mean `0` and standard deviation of `0.1`.\n",
    "Finally `y_noisy` should be the sum of truth plus noise."
   ]
  },
  {
   "cell_type": "code",
   "execution_count": null,
   "id": "1b247d41-efc4-4b7d-b541-9700489466e9",
   "metadata": {},
   "outputs": [],
   "source": [
    "rng = np.random.default_rng(4711)"
   ]
  },
  {
   "cell_type": "code",
   "execution_count": null,
   "id": "b42feefc-7170-41b7-bc44-15243f31e08b",
   "metadata": {
    "deletable": false,
    "nbgrader": {
     "cell_type": "code",
     "checksum": "a30dfa9b8decb79c8f2c09a44d37b6f6",
     "grade": false,
     "grade_id": "cell-7f874d9029eb76e2",
     "locked": false,
     "schema_version": 3,
     "solution": true,
     "task": false
    }
   },
   "outputs": [],
   "source": [
    "# YOUR CODE HERE\n",
    "raise NotImplementedError()"
   ]
  },
  {
   "cell_type": "code",
   "execution_count": null,
   "id": "575af5ff-c570-441c-b2de-703d8ae54fb1",
   "metadata": {
    "deletable": false,
    "editable": false,
    "nbgrader": {
     "cell_type": "code",
     "checksum": "a030f09f9eeb63c94fbd60eb86d124e9",
     "grade": true,
     "grade_id": "cell-f743c64ceb3ec555",
     "locked": true,
     "points": 1,
     "schema_version": 3,
     "solution": false,
     "task": false
    }
   },
   "outputs": [],
   "source": [
    "assert (y_true, epsilon, y_noisy) is not None\n",
    "np.testing.assert_allclose(y_true, y_noisy - epsilon)\n",
    "\n",
    "_stddev = np.sqrt(np.linalg.norm(y_noisy - y_true)/y_true.size)\n",
    "np.testing.assert_allclose(_stddev, 0.1, atol=0.03,\n",
    "                           err_msg=\"noise not distributed correctly\")"
   ]
  },
  {
   "cell_type": "markdown",
   "id": "746b55f2",
   "metadata": {
    "deletable": false,
    "editable": false,
    "nbgrader": {
     "cell_type": "markdown",
     "checksum": "0d3e8492a9eb6d3b3a4fadd56d096456",
     "grade": false,
     "grade_id": "cell-b3f02567fc2ae9b6",
     "locked": true,
     "schema_version": 3,
     "solution": false,
     "task": false
    },
    "tags": []
   },
   "source": [
    "Below, I have plotted the \"truth\" `y_true` and the noisy data `y_noise`.\n",
    "\n",
    "If everything went well, you should see a point cloud that roughly\n",
    "follows the shape of our truth (fourth-order polynomial)."
   ]
  },
  {
   "cell_type": "code",
   "execution_count": null,
   "id": "16f91c75",
   "metadata": {},
   "outputs": [],
   "source": [
    "pl.plot(x, y_true, '-k', label='$y_\\mathrm{true}$')\n",
    "pl.plot(x, y_noisy, '+r', label='$y_\\mathrm{noisy}$')\n",
    "pl.xlabel('$x$')\n",
    "pl.ylabel('$y$')\n",
    "pl.legend()\n",
    "pl.title(\"true and noisy labels\");"
   ]
  },
  {
   "cell_type": "code",
   "execution_count": null,
   "id": "6c317cac-3268-4034-9bae-cf5b0a9332bc",
   "metadata": {},
   "outputs": [],
   "source": []
  },
  {
   "cell_type": "markdown",
   "id": "54f41aab-810f-4895-8bd8-a09cd139d3b2",
   "metadata": {
    "deletable": false,
    "editable": false,
    "nbgrader": {
     "cell_type": "markdown",
     "checksum": "1173a1821f10a9cedbea6af9540c6480",
     "grade": false,
     "grade_id": "cell-dbb7c7cc5ea45d90",
     "locked": true,
     "schema_version": 3,
     "solution": false,
     "task": false
    }
   },
   "source": [
    "Fitting data\n",
    "------------\n",
    "Let us now try to fit our noisy labels `y_noisy`.\n",
    "\n",
    "To do so, use `pinv()` to compute the pseudoinverse of `X`\n",
    "and then use that to compute `theta_star`.  Plot your\n",
    "fitting parameters together with the true parameters\n",
    "`theta_true`."
   ]
  },
  {
   "cell_type": "code",
   "execution_count": null,
   "id": "bb22625f-d6aa-4ac9-a532-f0f46a680013",
   "metadata": {
    "deletable": false,
    "nbgrader": {
     "cell_type": "code",
     "checksum": "a53eb2a6e1652306eadb385e155af784",
     "grade": true,
     "grade_id": "cell-5ed584b6a43e8829",
     "locked": false,
     "points": 1,
     "schema_version": 3,
     "solution": true,
     "task": false
    }
   },
   "outputs": [],
   "source": [
    "# YOUR CODE HERE\n",
    "raise NotImplementedError()"
   ]
  },
  {
   "cell_type": "markdown",
   "id": "5f390a8c",
   "metadata": {
    "deletable": false,
    "editable": false,
    "nbgrader": {
     "cell_type": "markdown",
     "checksum": "11082df544ea929bfd1d7b315afee23c",
     "grade": false,
     "grade_id": "cell-9e1edfcaca9ff97f",
     "locked": true,
     "schema_version": 3,
     "solution": false,
     "task": false
    }
   },
   "source": [
    "Below, I am plotting true solution for the polynomial coefficents (`theta_true` $= \\theta$) on the top and the\n",
    "fitted solution, where we have added some noise (`theta_star` $= \\theta^*$) on the bottom.\n",
    "\n",
    "**Note** the different scale on the bottom plot (the $y$-axis must be multiplied by the number on the top left\n",
    "of the plot)."
   ]
  },
  {
   "cell_type": "code",
   "execution_count": null,
   "id": "e87a078f",
   "metadata": {
    "deletable": false,
    "editable": false,
    "nbgrader": {
     "cell_type": "code",
     "checksum": "7ec0df4338d09cf44a95d7b3f2baa169",
     "grade": false,
     "grade_id": "cell-67a832f5bd781e0e",
     "locked": true,
     "schema_version": 3,
     "solution": false,
     "task": false
    }
   },
   "outputs": [],
   "source": [
    "def _plot_one(sub, theta, fmt, label):\n",
    "    pl.subplot(sub)\n",
    "    pl.plot(theta, fmt, label=label)\n",
    "    pl.ylabel(r'coefficent $\\theta_k$')\n",
    "    pl.legend()\n",
    "\n",
    "pl.figure(figsize=(6,5))\n",
    "_plot_one(211, theta_true, ':+b', r'$\\theta_k$ (truth)')\n",
    "pl.gca().set_xticklabels([])\n",
    "_plot_one(212, theta_star, '-+r', r'$\\theta^*_k$ (fitted)')\n",
    "pl.xlabel('polynomial order $k$')\n",
    "pl.gca().ticklabel_format(useMathText=True)\n",
    "pl.tight_layout(h_pad=1)"
   ]
  },
  {
   "cell_type": "markdown",
   "id": "f6da83f2-fe6d-4a8b-8d10-f4234ee72a25",
   "metadata": {
    "deletable": false,
    "editable": false,
    "nbgrader": {
     "cell_type": "markdown",
     "checksum": "d294cc969df6bb186cf570de5788013d",
     "grade": false,
     "grade_id": "cell-4fc4a941b4efc625",
     "locked": true,
     "schema_version": 3,
     "solution": false,
     "task": false
    }
   },
   "source": [
    " 1. Observe the scale of the y axis in the above plot. (The noisy data is clearly\n",
    "    several orders of magnitudes \"too big\" with respect to the truth). Why?\n",
    "    What is the connection of the scale of the coefficient with the singular values?\n",
    "    \n",
    " 2. The shape of the noisy coefficients should look familiar (check with the \n",
    "    plots in the singular value decomposition).  Explain this."
   ]
  },
  {
   "cell_type": "markdown",
   "id": "d7c5fefd-a5d5-4988-83a3-39732acaa8d0",
   "metadata": {
    "deletable": false,
    "nbgrader": {
     "cell_type": "markdown",
     "checksum": "f2bb143ed6ba3183bd3e58192867b744",
     "grade": true,
     "grade_id": "cell-c1acf33858a8b693",
     "locked": false,
     "points": 2,
     "schema_version": 3,
     "solution": true,
     "task": false
    },
    "tags": []
   },
   "source": [
    "YOUR ANSWER HERE"
   ]
  },
  {
   "cell_type": "code",
   "execution_count": null,
   "id": "965230f2-04ce-4ade-bd90-06c51b605c03",
   "metadata": {},
   "outputs": [],
   "source": []
  },
  {
   "cell_type": "markdown",
   "id": "f63d0440-b326-46fe-8fdd-adcca8f900b5",
   "metadata": {
    "deletable": false,
    "editable": false,
    "nbgrader": {
     "cell_type": "markdown",
     "checksum": "836dcd35cedeea98e84c3a5d551bb338",
     "grade": false,
     "grade_id": "cell-1a2080312d13cc1a",
     "locked": true,
     "schema_version": 3,
     "solution": false,
     "task": false
    }
   },
   "source": [
    "Regularization\n",
    "--------------\n",
    "Finally, let us regularize our problem.  One of the simplest regularization\n",
    "techniques is to just use Ridge regression.  Again, we\n",
    "choose:\n",
    "$$\n",
    "    X^\\oplus_\\lambda = \\sum_{k=0}^{K-1} \\frac{s_k}{s_k^2 + N \\lambda^2} \\vec v_k \\vec u_k^T\n",
    "$$\n",
    "\n",
    "Copy the function `pinv` into `pinv_ridge` and modify is such that it computes the\n",
    "above expression"
   ]
  },
  {
   "cell_type": "code",
   "execution_count": null,
   "id": "27509b35-bec4-4b35-a6a7-a696681e43a4",
   "metadata": {
    "deletable": false,
    "nbgrader": {
     "cell_type": "code",
     "checksum": "7f6485c27467ea3fc8e52672f76c6149",
     "grade": false,
     "grade_id": "cell-8fdd73a4579a296d",
     "locked": false,
     "schema_version": 3,
     "solution": true,
     "task": false
    }
   },
   "outputs": [],
   "source": [
    "def pinv_ridge(U, s, VT, lambda_):\n",
    "    # YOUR CODE HERE\n",
    "    raise NotImplementedError()"
   ]
  },
  {
   "cell_type": "code",
   "execution_count": null,
   "id": "7c7f9b09-dd9a-412e-8ad5-76eb281c8856",
   "metadata": {},
   "outputs": [],
   "source": [
    "pinv_ridge(U, s, VT, 0.1)"
   ]
  },
  {
   "cell_type": "code",
   "execution_count": null,
   "id": "cd7b1880-5699-4e3b-856e-0d334e885b55",
   "metadata": {
    "deletable": false,
    "editable": false,
    "nbgrader": {
     "cell_type": "code",
     "checksum": "8f85445596914636640674377fc2b783",
     "grade": true,
     "grade_id": "cell-c86c6e3bd554b731",
     "locked": true,
     "points": 1,
     "schema_version": 3,
     "solution": false,
     "task": false
    }
   },
   "outputs": [],
   "source": [
    "_reg_pinv = np.linalg.pinv(np.vstack([X, np.sqrt(101) * 0.1 * np.eye(30)]))[:, :101]\n",
    "np.testing.assert_allclose(pinv_ridge(U, s, VT, 0.1), _reg_pinv, atol=1e-5)"
   ]
  },
  {
   "cell_type": "code",
   "execution_count": null,
   "id": "b2e77b14-37f2-4a3c-be18-662e06355f8f",
   "metadata": {},
   "outputs": [],
   "source": []
  },
  {
   "cell_type": "markdown",
   "id": "01035501-46e6-45ba-ae2f-af8e1ec5e31a",
   "metadata": {
    "deletable": false,
    "editable": false,
    "nbgrader": {
     "cell_type": "markdown",
     "checksum": "67019351e4966e487f5117e2d87c0ac3",
     "grade": false,
     "grade_id": "cell-4c18221b04c8bdd2",
     "locked": true,
     "schema_version": 3,
     "solution": false,
     "task": false
    }
   },
   "source": [
    "Below, on the left-hand side, I have plotted $\\theta^* = X^\\oplus y$ for three different values of $\\lambda$:\n",
    "0.1, 0.01, and 0.001.  Also I have plotted the \"true\" parameters for reference.\n",
    "\n",
    "On the right-hand side, I have plotted the predicted values $\\hat y = X \\theta^*$ for\n",
    "the parameters fitted with the same $\\lambda$: 0.1, 0.01, and 0.001.  Again,\n",
    "I have plotted the true $y$ for reference."
   ]
  },
  {
   "cell_type": "code",
   "execution_count": null,
   "id": "4d65ebc1-b3ae-42f6-ac5a-113e9a257e6e",
   "metadata": {
    "deletable": false,
    "editable": false,
    "nbgrader": {
     "cell_type": "code",
     "checksum": "8b3fd4ade0db62430cdfded79303a490",
     "grade": false,
     "grade_id": "cell-720198798143cb09",
     "locked": true,
     "schema_version": 3,
     "solution": false,
     "task": false
    },
    "tags": []
   },
   "outputs": [],
   "source": [
    "pl.figure(figsize=(10,4))\n",
    "pl.subplot(121)\n",
    "pl.title(\"Parameters from regularized fit\")\n",
    "pl.plot(pinv_ridge(U, s, VT, 0.1) @ y_noisy,\n",
    "        label='$\\lambda=0.1$', c=(0,0,.8))\n",
    "pl.plot(pinv_ridge(U, s, VT, 0.01) @ y_noisy, \n",
    "        label='$\\lambda=0.01$', c=(.3,.3,1))\n",
    "pl.plot(pinv_ridge(U, s, VT, 0.001) @ y_noisy, \n",
    "        label='$\\lambda=0.001$', c=(.8,.8,1))\n",
    "pl.plot(theta_true, '-k', label='true', lw=1)\n",
    "pl.xlabel(r\"$k$ (polynomial order)\")\n",
    "pl.ylabel(r\"$\\theta_k$ (coefficient)\")\n",
    "pl.xlim(0,30)\n",
    "pl.legend()\n",
    "\n",
    "pl.subplot(122)\n",
    "pl.title(\"Prediction from regularized fit\")\n",
    "pl.plot(x, X @ pinv_ridge(U, s, VT, 0.1) @ y_noisy, \n",
    "        label=r'$\\lambda=0.1$', c=(0,0,.8))\n",
    "pl.plot(x, X @ pinv_ridge(U, s, VT, 0.01) @ y_noisy,\n",
    "        label=r'$\\lambda=0.01$', c=(.3,.3,1))\n",
    "pl.plot(x, X @ pinv_ridge(U, s, VT, 0.001) @ y_noisy, \n",
    "        label=r'$\\lambda=0.001$', c=(.8,.8,1))\n",
    "pl.plot(x, y_true, '-k', label=r'true', lw=1)\n",
    "pl.xlabel(\"$x$\")\n",
    "pl.ylabel(\"$y=f(x)$\")\n",
    "pl.xlim(-1, 1)\n",
    "pl.legend()"
   ]
  },
  {
   "cell_type": "markdown",
   "id": "06ecae10-37ad-458d-bbcb-05437e51b1ed",
   "metadata": {
    "deletable": false,
    "editable": false,
    "nbgrader": {
     "cell_type": "markdown",
     "checksum": "257e43f417682157fced293c691d8dbe",
     "grade": false,
     "grade_id": "cell-8658f3feb7d3a3e0",
     "locked": true,
     "schema_version": 3,
     "solution": false,
     "task": false
    }
   },
   "source": [
    "Examine these plots and then summarize your results:\n",
    "\n",
    " 1. which value of lambda gives the best fit? How can you explain this from the error and the SVD?\n",
    " \n",
    " 2. why are the parameters `theta` for small `lambda` changing so much more than the predicted label `y`?\n",
    " What is going on there?"
   ]
  },
  {
   "cell_type": "markdown",
   "id": "f766eb52-336e-4a89-971a-1f2c327469bb",
   "metadata": {
    "deletable": false,
    "nbgrader": {
     "cell_type": "markdown",
     "checksum": "6f37ef0d210bc9552053e1977e0ee753",
     "grade": true,
     "grade_id": "cell-8b924c369eb8c50e",
     "locked": false,
     "points": 2,
     "schema_version": 3,
     "solution": true,
     "task": false
    }
   },
   "source": [
    "YOUR ANSWER HERE"
   ]
  },
  {
   "cell_type": "code",
   "execution_count": null,
   "id": "e6277523-c8f3-4592-a349-6bafc9cc31af",
   "metadata": {},
   "outputs": [],
   "source": []
  }
 ],
 "metadata": {
  "kernelspec": {
   "display_name": "Python 3 (ipykernel)",
   "language": "python",
   "name": "python3"
  },
  "language_info": {
   "codemirror_mode": {
    "name": "ipython",
    "version": 3
   },
   "file_extension": ".py",
   "mimetype": "text/x-python",
   "name": "python",
   "nbconvert_exporter": "python",
   "pygments_lexer": "ipython3",
   "version": "3.10.9"
  }
 },
 "nbformat": 4,
 "nbformat_minor": 5
}
